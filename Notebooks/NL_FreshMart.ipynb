{
 "cells": [
  {
   "cell_type": "markdown",
   "id": "fae5c1cc",
   "metadata": {},
   "source": [
    "# Business Problem Overview"
   ]
  },
  {
   "cell_type": "markdown",
   "id": "f4bc9f2a",
   "metadata": {},
   "source": [
    "## FreshMart: Maximising Total Sales Revenue through Smarter Retail Decisions"
   ]
  },
  {
   "cell_type": "markdown",
   "id": "dada6131",
   "metadata": {},
   "source": [
    "FreshMart is a fast-growing grocery retail chain based in the United States, serving thousands of customers across various cities and countries. Known for its wide product range and affordable pricing, FreshMart has built a strong presence in both urban and suburban markets.\n",
    "\n",
    "As the company prepares for its next phase of growth, leadership wants to focus not just on adding new stores, but on increasing Total Sales Revenue from its existing network. This means a better understanding what drives revenue, from which products perform well, to how different regions, customer segments, and sales staff contribute to the bottom line.\n",
    "\n",
    "The company believes there are many untapped opportunities to grow sales. These may lie in:\n",
    "\n",
    "- how product categories perform across months,\n",
    "- which types of customers spend more,\n",
    "- how employees contribute to store-level sales,\n",
    "- which cities or countries have higher or lower sales, and\n",
    "- how discounts are influencing buying behavior."
   ]
  },
  {
   "cell_type": "markdown",
   "id": "0d124780",
   "metadata": {},
   "source": [
    "### Key Metric: Total Sales Revenue"
   ]
  },
  {
   "cell_type": "markdown",
   "id": "292e7f69",
   "metadata": {},
   "source": [
    "$\\text{Total Sales Revenue} = \\text{Unit Price} \\times \\text{Quantity} \\times (1 - \\text{Discount})$. This metric helps measure how much money FreshMart is making from selling products after applying discounts."
   ]
  },
  {
   "cell_type": "markdown",
   "id": "f1e058e4",
   "metadata": {},
   "source": [
    "### Objective"
   ]
  },
  {
   "cell_type": "markdown",
   "id": "f090ff06",
   "metadata": {},
   "source": [
    "The objective of this project is to:\n",
    "\n",
    "- Break down Total Sales Revenue into its core components such as product price, quantity sold, and discounts applied.\n",
    "- Explore how different product categories, classifications, and features contribute to revenue across time.\n",
    "- Segment customers based on order value, quantity purchased, and spending behavior.\n",
    "- Evaluate the performance of individual sales employees and understand how their contribution varies by region or time.\n",
    "- Compare city-wise and country-wise sales patterns to highlight high- and low-performing areas.\n",
    "- Analyse trends over time to understand when sales peak or drop, and how this differs by product or location."
   ]
  },
  {
   "cell_type": "markdown",
   "id": "2829805b",
   "metadata": {},
   "source": [
    "# Dataset Overview"
   ]
  },
  {
   "cell_type": "markdown",
   "id": "6c48a995",
   "metadata": {},
   "source": [
    "- **Dataset Name:** FreshMart Analytics Dataset\n",
    "- **Number of Tables:** 7"
   ]
  },
  {
   "cell_type": "markdown",
   "id": "245ecbcc",
   "metadata": {},
   "source": [
    "## Table Overviews"
   ]
  },
  {
   "cell_type": "markdown",
   "id": "67299299",
   "metadata": {},
   "source": [
    "### categories"
   ]
  },
  {
   "cell_type": "markdown",
   "id": "ec64311d",
   "metadata": {},
   "source": [
    "- **Table Name:** categories\n",
    "- **Number of rows:** 11\n",
    "- **Number of columns:** 2\n",
    "- **Description:** This table gives the different product categories that FreshMart sells."
   ]
  },
  {
   "cell_type": "markdown",
   "id": "be8e7cdd",
   "metadata": {},
   "source": [
    "### cities"
   ]
  },
  {
   "cell_type": "markdown",
   "id": "7d3e46ba",
   "metadata": {},
   "source": [
    "- **Table Name:** cities\n",
    "- **Number of rows:** 96\n",
    "- **Number of columns:** 4\n",
    "- **Description:** This table gives a list of cities and zipcodes FreshMart operates in."
   ]
  },
  {
   "cell_type": "markdown",
   "id": "c00c7d7a",
   "metadata": {},
   "source": [
    "### countries"
   ]
  },
  {
   "cell_type": "markdown",
   "id": "74583f8f",
   "metadata": {},
   "source": [
    "- **Table Name:** countries\n",
    "- **Number of rows:** 206\n",
    "- **Number of columns:** 3\n",
    "- **Description:** This table gives a list of countries FreshMart operates in."
   ]
  },
  {
   "cell_type": "markdown",
   "id": "913da6ec",
   "metadata": {},
   "source": [
    "### customers"
   ]
  },
  {
   "cell_type": "markdown",
   "id": "c4c46cce",
   "metadata": {},
   "source": [
    "- **Table Name:** customers\n",
    "- **Number of rows:** 98759\n",
    "- **Number of columns:** 6\n",
    "- **Description:** This table gives details of FreshMart customers. "
   ]
  },
  {
   "cell_type": "markdown",
   "id": "8a704790",
   "metadata": {},
   "source": [
    "### employees"
   ]
  },
  {
   "cell_type": "markdown",
   "id": "e1f83c85",
   "metadata": {},
   "source": [
    "- **Table Name:** employees\n",
    "- **Number of rows:** 23\n",
    "- **Number of columns:** 8\n",
    "- **Description:** This table gives details of FreshMart employees. "
   ]
  },
  {
   "cell_type": "markdown",
   "id": "92beffd2",
   "metadata": {},
   "source": [
    "### products"
   ]
  },
  {
   "cell_type": "markdown",
   "id": "f25c8f4e",
   "metadata": {},
   "source": [
    "- **Table Name:** products\n",
    "- **Number of rows:** 452\n",
    "- **Number of columns:** 9\n",
    "- **Description:** This table gives details of the products sold by FreshMart. "
   ]
  },
  {
   "cell_type": "markdown",
   "id": "2cd7363b",
   "metadata": {},
   "source": [
    "### sales"
   ]
  },
  {
   "cell_type": "markdown",
   "id": "f2312a31",
   "metadata": {},
   "source": [
    "- **Table Name:** sales\n",
    "- **Number of rows:** 6758125\n",
    "- **Number of columns:** 9\n",
    "- **Description:** This table gives detailed transaction history of FreshMart."
   ]
  },
  {
   "cell_type": "markdown",
   "id": "e2bd019e",
   "metadata": {},
   "source": [
    "## Column Definitions"
   ]
  },
  {
   "cell_type": "markdown",
   "id": "681bdceb",
   "metadata": {},
   "source": [
    "### categories"
   ]
  },
  {
   "cell_type": "markdown",
   "id": "70a77e3b",
   "metadata": {},
   "source": [
    "* **CategoryID**\n",
    "    * Description: Unique identifier for each product category.\n",
    "    * Example: 1\n",
    "* **CategoryName**\n",
    "    * Description: Name of the product category.\n",
    "    * Example: Beverages"
   ]
  },
  {
   "cell_type": "markdown",
   "id": "cbeb5e0f",
   "metadata": {},
   "source": [
    "### cities"
   ]
  },
  {
   "cell_type": "markdown",
   "id": "5a7e036c",
   "metadata": {},
   "source": [
    "* **CityID**\n",
    "    * Description: Unique identifier for each city.\n",
    "    * Example: 101\n",
    "* **CityName**\n",
    "    * Description: Name of the city.\n",
    "    * Example: San Diego\n",
    "* **Zipcode**\n",
    "    * Description: Represents the zipcode the city is in.\n",
    "    * Example: 500000\n",
    "* **CountryID**\n",
    "    * Description: Reference to the corresponding country from countries.\n",
    "    * Example: 1"
   ]
  },
  {
   "cell_type": "markdown",
   "id": "24e74c29",
   "metadata": {},
   "source": [
    "### countries"
   ]
  },
  {
   "cell_type": "markdown",
   "id": "2bc7ac79",
   "metadata": {},
   "source": [
    "  * **CountryID**\n",
    "    * Description: Unique identifier for each country.\n",
    "    * Example: 1\n",
    "  * **CountryName**\n",
    "    * Description: Name of the country.\n",
    "    * Example: United States\n",
    "  * **CountryCode**\n",
    "    * Description: Two-letter country code.\n",
    "    * Example: US\n"
   ]
  },
  {
   "cell_type": "markdown",
   "id": "7c6be68f",
   "metadata": {},
   "source": [
    "### customers"
   ]
  },
  {
   "cell_type": "markdown",
   "id": "27434801",
   "metadata": {},
   "source": [
    "  * **CustomerID**\n",
    "    * Description: Unique identifier for each customer.\n",
    "    * Example: 1001\n",
    "  * **FirstName**\n",
    "    * Description: First name of the customer.\n",
    "    * Example: Emma\n",
    "  * **MiddleInitial**\n",
    "    * Description: Middle initial of the customer.\n",
    "    * Example: A\n",
    "  * **LastName**\n",
    "    * Description: Last name of the customer.\n",
    "    * Example: Johnson\n",
    "  * **cityID**\n",
    "    * Description: City of the customer. Refers to cities.\n",
    "    * Example: 101\n",
    "  * **Address**\n",
    "    * Description: Residential address of the customer.\n",
    "    * Example: 123 Elm Street\n"
   ]
  },
  {
   "cell_type": "markdown",
   "id": "b53fd526",
   "metadata": {},
   "source": [
    "### employees"
   ]
  },
  {
   "cell_type": "markdown",
   "id": "24e309ab",
   "metadata": {},
   "source": [
    "  * **EmployeeID**\n",
    "    * Description: Unique identifier for each employee.\n",
    "    * Example: 501\n",
    "  * **FirstName**\n",
    "    * Description: First name of the employee.\n",
    "    * Example: Michael\n",
    "  * **MiddleInitial**\n",
    "    * Description: Middle initial of the employee.\n",
    "    * Example: B\n",
    "  * **LastName**\n",
    "    * Description: Last name of the employee.\n",
    "    * Example: Davis\n",
    "  * **BirthDate**\n",
    "    * Description: Date of birth of the employee in YYYY-MM-DD format.\n",
    "    * Example: 1985-07-14\n",
    "  * **Gender**\n",
    "    * Description: Gender of the employee.\n",
    "    * Example: Male\n",
    "  * **CityID**\n",
    "    * Description: City where the employee is based. Refers to cities.\n",
    "    * Example: 103\n",
    "  * **HireDate**\n",
    "    * Description: Date when the employee was hired.\n",
    "    * Example: 2021-04-01\n"
   ]
  },
  {
   "cell_type": "markdown",
   "id": "0067e78f",
   "metadata": {},
   "source": [
    "### products"
   ]
  },
  {
   "cell_type": "markdown",
   "id": "a4609b3a",
   "metadata": {},
   "source": [
    "  * **ProductID**\n",
    "    * Description: Unique identifier for each product.\n",
    "    * Example: 301\n",
    "  * **ProductName**\n",
    "    * Description: Name of the product.\n",
    "    * Example: Organic Apple\n",
    "  * **Price**\n",
    "    * Description: Unit price of the product in USD.\n",
    "    * Example: 3.50\n",
    "  * **CategoryID**\n",
    "    * Description: Category reference for the product. Refers to categories.\n",
    "    * Example: 2\n",
    "  * **Class**\n",
    "    * Description: Classification type of the product (e.g., Standard, Premium).\n",
    "    * Example: Premium\n",
    "  * **ModifyDate**\n",
    "    * Description: Date when the product information was last updated.\n",
    "    * Example: 2023-06-01\n",
    "  * **Resistant**\n",
    "    * Description: Product resistance category.\n",
    "    * Example: Water-resistant\n",
    "  * **IsAllergic**\n",
    "    * Description: Indicates whether the item contains allergens.\n",
    "    * Example: No\n",
    "  * **VitalityDays**\n",
    "    * Description: Indicates the product's shelf life or freshness period.\n",
    "    * Example: 7\n"
   ]
  },
  {
   "cell_type": "markdown",
   "id": "a82d7e77",
   "metadata": {},
   "source": [
    "### sales"
   ]
  },
  {
   "cell_type": "markdown",
   "id": "1919bea7",
   "metadata": {},
   "source": [
    "  * **SalesID**\n",
    "    * Description: Unique identifier for each sale.\n",
    "    * Example: 7001\n",
    "  * **SalesPersonID**\n",
    "    * Description: Employee responsible for the sale. Refers to employees.\n",
    "    * Example: 501\n",
    "  * **CustomerID**\n",
    "    * Description: Customer making the purchase. Refers to customers.\n",
    "    * Example: 1001\n",
    "  * **ProductID**\n",
    "    * Description: Product being sold. Refers to products.\n",
    "    * Example: 301\n",
    "  * **Quantity**\n",
    "    * Description: Number of product units sold.\n",
    "    * Example: 3\n",
    "  * **Discount**\n",
    "    * Description: Discount applied to this sale, shown as a decimal.\n",
    "    * Example: 0.10\n",
    "  * **TotalPrice**\n",
    "    * Description: Final sale price after applying discount.\n",
    "    * Example: 9.45\n",
    "  * **SalesDate**\n",
    "    * Description: Date and time of the sale in YYYY-MM-DD HH:MM:SS format.\n",
    "    * Example: 2024-05-15 14:32:00\n",
    "  * **TransactionNumber**\n",
    "    * Description: Unique identifier for the transaction.\n",
    "    * Example: TXN-20240515-0001\n"
   ]
  },
  {
   "cell_type": "markdown",
   "id": "05e0db31",
   "metadata": {},
   "source": [
    "## Relationships Between the Tables"
   ]
  },
  {
   "cell_type": "markdown",
   "id": "63d495da",
   "metadata": {},
   "source": [
    "|Table 1| Key Column(s) | Table 2| Key Column(s)|\n",
    "|-------|--------------|---------|---------------|\n",
    "|sales|CustomerID|customers|CustomerID|\n",
    "|sales|ProductID|products|ProductID|\n",
    "|sales|SalesPersonID|employees|EmployeeID|\n",
    "|employees|CityID|cities|CityID|\n",
    "|customers|CityID|cities|CityID|\n",
    "|cities|CountryID|countries|CountryID|\n",
    "|products|CategoryID|categories|CategoryID|"
   ]
  },
  {
   "cell_type": "markdown",
   "id": "b0a796cb",
   "metadata": {},
   "source": [
    "# Analysis & Visualisation"
   ]
  },
  {
   "cell_type": "markdown",
   "id": "ab1cb696",
   "metadata": {},
   "source": [
    "## 1. Importing and Cleaning Data"
   ]
  },
  {
   "cell_type": "markdown",
   "id": "2373a402",
   "metadata": {},
   "source": [
    "### Importing the Necessary Libraries"
   ]
  },
  {
   "cell_type": "markdown",
   "id": "e940fa94",
   "metadata": {},
   "source": [
    "#### Install the libraries"
   ]
  },
  {
   "cell_type": "code",
   "execution_count": 1,
   "id": "536745f0",
   "metadata": {},
   "outputs": [
    {
     "name": "stdout",
     "output_type": "stream",
     "text": [
      "Requirement already satisfied: gdown in d:\\program files\\python313\\lib\\site-packages (5.2.0)\n",
      "Requirement already satisfied: beautifulsoup4 in d:\\program files\\python313\\lib\\site-packages (from gdown) (4.13.4)\n",
      "Requirement already satisfied: filelock in d:\\program files\\python313\\lib\\site-packages (from gdown) (3.18.0)\n",
      "Requirement already satisfied: requests[socks] in d:\\program files\\python313\\lib\\site-packages (from gdown) (2.32.3)\n",
      "Requirement already satisfied: tqdm in d:\\program files\\python313\\lib\\site-packages (from gdown) (4.67.1)\n",
      "Requirement already satisfied: soupsieve>1.2 in d:\\program files\\python313\\lib\\site-packages (from beautifulsoup4->gdown) (2.7)\n",
      "Requirement already satisfied: typing-extensions>=4.0.0 in d:\\program files\\python313\\lib\\site-packages (from beautifulsoup4->gdown) (4.13.2)\n",
      "Requirement already satisfied: charset-normalizer<4,>=2 in d:\\program files\\python313\\lib\\site-packages (from requests[socks]->gdown) (3.4.2)\n",
      "Requirement already satisfied: idna<4,>=2.5 in d:\\program files\\python313\\lib\\site-packages (from requests[socks]->gdown) (3.10)\n",
      "Requirement already satisfied: urllib3<3,>=1.21.1 in d:\\program files\\python313\\lib\\site-packages (from requests[socks]->gdown) (2.4.0)\n",
      "Requirement already satisfied: certifi>=2017.4.17 in d:\\program files\\python313\\lib\\site-packages (from requests[socks]->gdown) (2025.4.26)\n",
      "Requirement already satisfied: PySocks!=1.5.7,>=1.5.6 in d:\\program files\\python313\\lib\\site-packages (from requests[socks]->gdown) (1.7.1)\n",
      "Requirement already satisfied: colorama in c:\\users\\manas\\appdata\\roaming\\python\\python313\\site-packages (from tqdm->gdown) (0.4.6)\n",
      "Note: you may need to restart the kernel to use updated packages.\n",
      "Requirement already satisfied: ipython in c:\\users\\manas\\appdata\\roaming\\python\\python313\\site-packages (9.1.0)\n",
      "Requirement already satisfied: colorama in c:\\users\\manas\\appdata\\roaming\\python\\python313\\site-packages (from ipython) (0.4.6)\n",
      "Requirement already satisfied: decorator in c:\\users\\manas\\appdata\\roaming\\python\\python313\\site-packages (from ipython) (5.2.1)\n",
      "Requirement already satisfied: ipython-pygments-lexers in c:\\users\\manas\\appdata\\roaming\\python\\python313\\site-packages (from ipython) (1.1.1)\n",
      "Requirement already satisfied: jedi>=0.16 in c:\\users\\manas\\appdata\\roaming\\python\\python313\\site-packages (from ipython) (0.19.2)\n",
      "Requirement already satisfied: matplotlib-inline in c:\\users\\manas\\appdata\\roaming\\python\\python313\\site-packages (from ipython) (0.1.7)\n",
      "Requirement already satisfied: prompt_toolkit<3.1.0,>=3.0.41 in c:\\users\\manas\\appdata\\roaming\\python\\python313\\site-packages (from ipython) (3.0.50)\n",
      "Requirement already satisfied: pygments>=2.4.0 in c:\\users\\manas\\appdata\\roaming\\python\\python313\\site-packages (from ipython) (2.19.1)\n",
      "Requirement already satisfied: stack_data in c:\\users\\manas\\appdata\\roaming\\python\\python313\\site-packages (from ipython) (0.6.3)\n",
      "Requirement already satisfied: traitlets>=5.13.0 in c:\\users\\manas\\appdata\\roaming\\python\\python313\\site-packages (from ipython) (5.14.3)\n",
      "Requirement already satisfied: wcwidth in c:\\users\\manas\\appdata\\roaming\\python\\python313\\site-packages (from prompt_toolkit<3.1.0,>=3.0.41->ipython) (0.2.13)\n",
      "Requirement already satisfied: parso<0.9.0,>=0.8.4 in c:\\users\\manas\\appdata\\roaming\\python\\python313\\site-packages (from jedi>=0.16->ipython) (0.8.4)\n",
      "Requirement already satisfied: executing>=1.2.0 in c:\\users\\manas\\appdata\\roaming\\python\\python313\\site-packages (from stack_data->ipython) (2.2.0)\n",
      "Requirement already satisfied: asttokens>=2.1.0 in c:\\users\\manas\\appdata\\roaming\\python\\python313\\site-packages (from stack_data->ipython) (3.0.0)\n",
      "Requirement already satisfied: pure-eval in c:\\users\\manas\\appdata\\roaming\\python\\python313\\site-packages (from stack_data->ipython) (0.2.3)\n",
      "Note: you may need to restart the kernel to use updated packages.\n",
      "Requirement already satisfied: pandas in d:\\program files\\python313\\lib\\site-packages (2.2.3)\n",
      "Requirement already satisfied: numpy>=1.26.0 in d:\\program files\\python313\\lib\\site-packages (from pandas) (2.2.4)\n",
      "Requirement already satisfied: python-dateutil>=2.8.2 in d:\\program files\\python313\\lib\\site-packages (from pandas) (2.9.0.post0)\n",
      "Requirement already satisfied: pytz>=2020.1 in d:\\program files\\python313\\lib\\site-packages (from pandas) (2025.2)\n",
      "Requirement already satisfied: tzdata>=2022.7 in d:\\program files\\python313\\lib\\site-packages (from pandas) (2025.2)\n",
      "Requirement already satisfied: six>=1.5 in d:\\program files\\python313\\lib\\site-packages (from python-dateutil>=2.8.2->pandas) (1.17.0)\n",
      "Note: you may need to restart the kernel to use updated packages.\n",
      "Requirement already satisfied: tabulate in d:\\program files\\python313\\lib\\site-packages (0.9.0)\n",
      "Note: you may need to restart the kernel to use updated packages.\n",
      "Requirement already satisfied: seaborn in d:\\program files\\python313\\lib\\site-packages (0.13.2)\n",
      "Requirement already satisfied: numpy!=1.24.0,>=1.20 in d:\\program files\\python313\\lib\\site-packages (from seaborn) (2.2.4)\n",
      "Requirement already satisfied: pandas>=1.2 in d:\\program files\\python313\\lib\\site-packages (from seaborn) (2.2.3)\n",
      "Requirement already satisfied: matplotlib!=3.6.1,>=3.4 in d:\\program files\\python313\\lib\\site-packages (from seaborn) (3.10.1)\n",
      "Requirement already satisfied: contourpy>=1.0.1 in d:\\program files\\python313\\lib\\site-packages (from matplotlib!=3.6.1,>=3.4->seaborn) (1.3.2)\n",
      "Requirement already satisfied: cycler>=0.10 in d:\\program files\\python313\\lib\\site-packages (from matplotlib!=3.6.1,>=3.4->seaborn) (0.12.1)\n",
      "Requirement already satisfied: fonttools>=4.22.0 in d:\\program files\\python313\\lib\\site-packages (from matplotlib!=3.6.1,>=3.4->seaborn) (4.57.0)\n",
      "Requirement already satisfied: kiwisolver>=1.3.1 in d:\\program files\\python313\\lib\\site-packages (from matplotlib!=3.6.1,>=3.4->seaborn) (1.4.8)\n",
      "Requirement already satisfied: packaging>=20.0 in c:\\users\\manas\\appdata\\roaming\\python\\python313\\site-packages (from matplotlib!=3.6.1,>=3.4->seaborn) (24.2)\n",
      "Requirement already satisfied: pillow>=8 in d:\\program files\\python313\\lib\\site-packages (from matplotlib!=3.6.1,>=3.4->seaborn) (11.2.1)\n",
      "Requirement already satisfied: pyparsing>=2.3.1 in d:\\program files\\python313\\lib\\site-packages (from matplotlib!=3.6.1,>=3.4->seaborn) (3.2.3)\n",
      "Requirement already satisfied: python-dateutil>=2.7 in d:\\program files\\python313\\lib\\site-packages (from matplotlib!=3.6.1,>=3.4->seaborn) (2.9.0.post0)\n",
      "Requirement already satisfied: pytz>=2020.1 in d:\\program files\\python313\\lib\\site-packages (from pandas>=1.2->seaborn) (2025.2)\n",
      "Requirement already satisfied: tzdata>=2022.7 in d:\\program files\\python313\\lib\\site-packages (from pandas>=1.2->seaborn) (2025.2)\n",
      "Requirement already satisfied: six>=1.5 in d:\\program files\\python313\\lib\\site-packages (from python-dateutil>=2.7->matplotlib!=3.6.1,>=3.4->seaborn) (1.17.0)\n",
      "Note: you may need to restart the kernel to use updated packages.\n",
      "Requirement already satisfied: matplotlib in d:\\program files\\python313\\lib\\site-packages (3.10.1)\n",
      "Requirement already satisfied: contourpy>=1.0.1 in d:\\program files\\python313\\lib\\site-packages (from matplotlib) (1.3.2)\n",
      "Requirement already satisfied: cycler>=0.10 in d:\\program files\\python313\\lib\\site-packages (from matplotlib) (0.12.1)\n",
      "Requirement already satisfied: fonttools>=4.22.0 in d:\\program files\\python313\\lib\\site-packages (from matplotlib) (4.57.0)\n",
      "Requirement already satisfied: kiwisolver>=1.3.1 in d:\\program files\\python313\\lib\\site-packages (from matplotlib) (1.4.8)\n",
      "Requirement already satisfied: numpy>=1.23 in d:\\program files\\python313\\lib\\site-packages (from matplotlib) (2.2.4)\n",
      "Requirement already satisfied: packaging>=20.0 in c:\\users\\manas\\appdata\\roaming\\python\\python313\\site-packages (from matplotlib) (24.2)\n",
      "Requirement already satisfied: pillow>=8 in d:\\program files\\python313\\lib\\site-packages (from matplotlib) (11.2.1)\n",
      "Requirement already satisfied: pyparsing>=2.3.1 in d:\\program files\\python313\\lib\\site-packages (from matplotlib) (3.2.3)\n",
      "Requirement already satisfied: python-dateutil>=2.7 in d:\\program files\\python313\\lib\\site-packages (from matplotlib) (2.9.0.post0)\n",
      "Requirement already satisfied: six>=1.5 in d:\\program files\\python313\\lib\\site-packages (from python-dateutil>=2.7->matplotlib) (1.17.0)\n",
      "Note: you may need to restart the kernel to use updated packages.\n"
     ]
    }
   ],
   "source": [
    "# To download files from Google Drive\n",
    "%pip install gdown\n",
    "\n",
    "# To get output in markdown format\n",
    "%pip install ipython\n",
    "\n",
    "# To work with dataframes\n",
    "%pip install pandas\n",
    "\n",
    "# To display dataframes in markdown text\n",
    "%pip install tabulate\n",
    "\n",
    "# To plot graphs and heatmaps\n",
    "%pip install seaborn\n",
    "%pip install matplotlib"
   ]
  },
  {
   "cell_type": "markdown",
   "id": "8b74237f",
   "metadata": {},
   "source": [
    "#### Import the libraries"
   ]
  },
  {
   "cell_type": "code",
   "execution_count": 2,
   "id": "2c483088",
   "metadata": {},
   "outputs": [],
   "source": [
    "import gdown\n",
    "import os\n",
    "from IPython.display import display, Markdown\n",
    "import pandas as pd\n",
    "import seaborn as sns\n",
    "import matplotlib.pyplot as plt"
   ]
  },
  {
   "cell_type": "markdown",
   "id": "7ac521fb",
   "metadata": {},
   "source": [
    "### Loading the Dataset from Google Drive"
   ]
  },
  {
   "cell_type": "code",
   "execution_count": 3,
   "id": "18d4c541",
   "metadata": {},
   "outputs": [],
   "source": [
    "FOLDER_URL = 'https://drive.google.com/drive/folders/1FcrdY8uZLE04-U5K2dqnjhDJVenFwGlk' # The Google Drive folder URL\n",
    "DOWNLOAD_DIRECTORY = os.path.abspath(os.path.join(os.getcwd(), \"..\", \"Dataset\")) # The directory where the downloaded CSVs will be stored, you can adjust it to your choice but all further analysis will be done based on this directory structure."
   ]
  },
  {
   "cell_type": "code",
   "execution_count": null,
   "id": "19eb1246",
   "metadata": {},
   "outputs": [],
   "source": [
    "# This snippet will download all the contents from the Google Drive Folder\n",
    "\n",
    "# Make the download directory if it doesn't exist\n",
    "os.makedirs(DOWNLOAD_DIRECTORY, exist_ok=True)\n",
    "\n",
    "# Download all the contents of the Google Drive folder\n",
    "gdown.download_folder(url=FOLDER_URL, output=DOWNLOAD_DIRECTORY, quiet=False, use_cookies=False)\n",
    "\n",
    "# Delete all of the non-CSV files\n",
    "for filename in os.listdir(DOWNLOAD_DIRECTORY):\n",
    "    if not filename.lower().endswith(\".csv\"):\n",
    "        file_path = os.path.join(DOWNLOAD_DIRECTORY , filename)\n",
    "        os.remove(file_path)\n",
    "        display(Markdown(f\"Removed non-CSV file: {filename}\"))\n",
    "        "
   ]
  },
  {
   "cell_type": "code",
   "execution_count": 4,
   "id": "8df272cd",
   "metadata": {},
   "outputs": [
    {
     "data": {
      "text/markdown": [
       "Loaded: `categories.csv` -> key=`'categories'`"
      ],
      "text/plain": [
       "<IPython.core.display.Markdown object>"
      ]
     },
     "metadata": {},
     "output_type": "display_data"
    },
    {
     "data": {
      "text/markdown": [
       "Loaded: `cities.csv` -> key=`'cities'`"
      ],
      "text/plain": [
       "<IPython.core.display.Markdown object>"
      ]
     },
     "metadata": {},
     "output_type": "display_data"
    },
    {
     "data": {
      "text/markdown": [
       "Loaded: `countries.csv` -> key=`'countries'`"
      ],
      "text/plain": [
       "<IPython.core.display.Markdown object>"
      ]
     },
     "metadata": {},
     "output_type": "display_data"
    },
    {
     "data": {
      "text/markdown": [
       "Loaded: `customers.csv` -> key=`'customers'`"
      ],
      "text/plain": [
       "<IPython.core.display.Markdown object>"
      ]
     },
     "metadata": {},
     "output_type": "display_data"
    },
    {
     "data": {
      "text/markdown": [
       "Loaded: `employees.csv` -> key=`'employees'`"
      ],
      "text/plain": [
       "<IPython.core.display.Markdown object>"
      ]
     },
     "metadata": {},
     "output_type": "display_data"
    },
    {
     "data": {
      "text/markdown": [
       "Loaded: `products.csv` -> key=`'products'`"
      ],
      "text/plain": [
       "<IPython.core.display.Markdown object>"
      ]
     },
     "metadata": {},
     "output_type": "display_data"
    },
    {
     "data": {
      "text/markdown": [
       "Loaded: `sales.csv` -> key=`'sales'`"
      ],
      "text/plain": [
       "<IPython.core.display.Markdown object>"
      ]
     },
     "metadata": {},
     "output_type": "display_data"
    }
   ],
   "source": [
    "# This snippet will load all the CSVs into dataframes\n",
    "\n",
    "dataset = {} # The dataframes will be stored in a dictionary to make it easier to loop through all of them\n",
    "\n",
    "for filename in os.listdir(DOWNLOAD_DIRECTORY):\n",
    "    if filename.endswith('.csv'):\n",
    "        key = os.path.splitext(filename)[0] # Extracting the key for each file where the key is the filename without the .csv\n",
    "        file_path = os.path.join(DOWNLOAD_DIRECTORY, filename) # Determining the path of each file in the DOWNLOAD_DIRECTORY\n",
    "        df = pd.read_csv(file_path) # Reading each CSV into a dataframe\n",
    "        dataset[key] = df\n",
    "        display(Markdown(f\"Loaded: `{filename}` -> key=`'{key}'`\"))"
   ]
  },
  {
   "cell_type": "markdown",
   "id": "214a5808",
   "metadata": {},
   "source": [
    "####  Viewing the First Few Rows of each Table in the Dataset"
   ]
  },
  {
   "cell_type": "code",
   "execution_count": 5,
   "id": "064498af",
   "metadata": {},
   "outputs": [
    {
     "data": {
      "text/markdown": [
       "The first 5 rows of each table in the dataset:"
      ],
      "text/plain": [
       "<IPython.core.display.Markdown object>"
      ]
     },
     "metadata": {},
     "output_type": "display_data"
    },
    {
     "data": {
      "text/markdown": [
       "##### categories"
      ],
      "text/plain": [
       "<IPython.core.display.Markdown object>"
      ]
     },
     "metadata": {},
     "output_type": "display_data"
    },
    {
     "data": {
      "text/markdown": [
       "|   CategoryID | CategoryName   |\n",
       "|-------------:|:---------------|\n",
       "|            1 | Confections    |\n",
       "|            2 | Shell fish     |\n",
       "|            3 | Cereals        |\n",
       "|            4 | Dairy          |\n",
       "|            5 | Beverages      |"
      ],
      "text/plain": [
       "<IPython.core.display.Markdown object>"
      ]
     },
     "metadata": {},
     "output_type": "display_data"
    },
    {
     "data": {
      "text/markdown": [
       "##### cities"
      ],
      "text/plain": [
       "<IPython.core.display.Markdown object>"
      ]
     },
     "metadata": {},
     "output_type": "display_data"
    },
    {
     "data": {
      "text/markdown": [
       "|   CityID | CityName       |   Zipcode |   CountryID |\n",
       "|---------:|:---------------|----------:|------------:|\n",
       "|        1 | Dayton         |     80563 |          32 |\n",
       "|        2 | Buffalo        |     17420 |          32 |\n",
       "|        3 | Chicago        |     44751 |          32 |\n",
       "|        4 | Fremont        |     20641 |          32 |\n",
       "|        5 | Virginia Beach |     62389 |          32 |"
      ],
      "text/plain": [
       "<IPython.core.display.Markdown object>"
      ]
     },
     "metadata": {},
     "output_type": "display_data"
    },
    {
     "data": {
      "text/markdown": [
       "##### countries"
      ],
      "text/plain": [
       "<IPython.core.display.Markdown object>"
      ]
     },
     "metadata": {},
     "output_type": "display_data"
    },
    {
     "data": {
      "text/markdown": [
       "|   CountryID | CountryName   | CountryCode   |\n",
       "|------------:|:--------------|:--------------|\n",
       "|           1 | Armenia       | AN            |\n",
       "|           2 | Canada        | FO            |\n",
       "|           3 | Belize        | MK            |\n",
       "|           4 | Uganda        | LV            |\n",
       "|           5 | Thailand      | VI            |"
      ],
      "text/plain": [
       "<IPython.core.display.Markdown object>"
      ]
     },
     "metadata": {},
     "output_type": "display_data"
    },
    {
     "data": {
      "text/markdown": [
       "##### customers"
      ],
      "text/plain": [
       "<IPython.core.display.Markdown object>"
      ]
     },
     "metadata": {},
     "output_type": "display_data"
    },
    {
     "data": {
      "text/markdown": [
       "|   CustomerID | FirstName   | MiddleInitial   | LastName   |   CityID | Address                      |\n",
       "|-------------:|:------------|:----------------|:-----------|---------:|:-----------------------------|\n",
       "|            1 | Stefanie    | Y               | Frye       |       79 | 97 Oak Avenue                |\n",
       "|            2 | Sandy       | T               | Kirby      |       96 | 52 White First Freeway       |\n",
       "|            3 | Lee         | T               | Zhang      |       55 | 921 White Fabien Avenue      |\n",
       "|            4 | Regina      | S               | Avery      |       40 | 75 Old Avenue                |\n",
       "|            5 | Daniel      | S               | Mccann     |        2 | 283 South Green Hague Avenue |"
      ],
      "text/plain": [
       "<IPython.core.display.Markdown object>"
      ]
     },
     "metadata": {},
     "output_type": "display_data"
    },
    {
     "data": {
      "text/markdown": [
       "##### employees"
      ],
      "text/plain": [
       "<IPython.core.display.Markdown object>"
      ]
     },
     "metadata": {},
     "output_type": "display_data"
    },
    {
     "data": {
      "text/markdown": [
       "|   EmployeeID | FirstName   | MiddleInitial   | LastName   | BirthDate               | Gender   |   CityID | HireDate                |\n",
       "|-------------:|:------------|:----------------|:-----------|:------------------------|:---------|---------:|:------------------------|\n",
       "|            1 | Nicole      | T               | Fuller     | 1981-03-07 00:00:00.000 | F        |       80 | 2011-06-20 07:15:36.920 |\n",
       "|            2 | Christine   | W               | Palmer     | 1968-01-25 00:00:00.000 | F        |        4 | 2011-04-27 04:07:56.930 |\n",
       "|            3 | Pablo       | Y               | Cline      | 1963-02-09 00:00:00.000 | M        |       70 | 2012-03-30 18:55:23.270 |\n",
       "|            4 | Darnell     | O               | Nielsen    | 1989-02-06 00:00:00.000 | M        |       39 | 2014-03-06 06:55:02.780 |\n",
       "|            5 | Desiree     | L               | Stuart     | 1963-05-03 00:00:00.000 | F        |       23 | 2014-11-16 22:59:54.720 |"
      ],
      "text/plain": [
       "<IPython.core.display.Markdown object>"
      ]
     },
     "metadata": {},
     "output_type": "display_data"
    },
    {
     "data": {
      "text/markdown": [
       "##### products"
      ],
      "text/plain": [
       "<IPython.core.display.Markdown object>"
      ]
     },
     "metadata": {},
     "output_type": "display_data"
    },
    {
     "data": {
      "text/markdown": [
       "|   ProductID | ProductName                |   Price |   CategoryID | Class   | ModifyDate              | Resistant   | IsAllergic   |   VitalityDays |\n",
       "|------------:|:---------------------------|--------:|-------------:|:--------|:------------------------|:------------|:-------------|---------------:|\n",
       "|           1 | Flour - Whole Wheat        | 74.2988 |            3 | Medium  | 2018-02-16 08:21:49.190 | Durable     | Unknown      |              0 |\n",
       "|           2 | Cookie Chocolate Chip With | 91.2329 |            3 | Medium  | 2017-02-12 11:39:10.970 | Unknown     | Unknown      |              0 |\n",
       "|           3 | Onions - Cippolini         |  9.1379 |            9 | Medium  | 2018-03-15 08:11:51.560 | Weak        | False        |            111 |\n",
       "|           4 | Sauce - Gravy, Au Jus, Mix | 54.3055 |            9 | Medium  | 2017-07-16 00:46:28.880 | Durable     | Unknown      |              0 |\n",
       "|           5 | Artichokes - Jerusalem     | 65.4771 |            2 | Low     | 2017-08-16 14:13:35.430 | Durable     | True         |             27 |"
      ],
      "text/plain": [
       "<IPython.core.display.Markdown object>"
      ]
     },
     "metadata": {},
     "output_type": "display_data"
    },
    {
     "data": {
      "text/markdown": [
       "##### sales"
      ],
      "text/plain": [
       "<IPython.core.display.Markdown object>"
      ]
     },
     "metadata": {},
     "output_type": "display_data"
    },
    {
     "data": {
      "text/markdown": [
       "|   SalesID |   SalesPersonID |   CustomerID |   ProductID |   Quantity |   Discount |   TotalPrice | SalesDate               | TransactionNumber    |\n",
       "|----------:|----------------:|-------------:|------------:|-----------:|-----------:|-------------:|:------------------------|:---------------------|\n",
       "|         1 |               6 |        27039 |         381 |          7 |        0   |            0 | 2018-02-05 07:38:25.430 | FQL4S94E4ME1EZFTG42G |\n",
       "|         2 |              16 |        25011 |          61 |          7 |        0   |            0 | 2018-02-02 16:03:31.150 | 12UGLX40DJ1A5DTFBHB8 |\n",
       "|         3 |              13 |        94024 |          23 |         24 |        0   |            0 | 2018-05-03 19:31:56.880 | 5DT8RCPL87KI5EORO7B0 |\n",
       "|         4 |               8 |        73966 |         176 |         19 |        0.2 |            0 | 2018-04-07 14:43:55.420 | R3DR9MLD5NR76VO17ULE |\n",
       "|         5 |              10 |        32653 |         310 |          9 |        0   |            0 | 2018-02-12 15:37:03.940 | 4BGS0Z5OMAZ8NDAFHHP3 |"
      ],
      "text/plain": [
       "<IPython.core.display.Markdown object>"
      ]
     },
     "metadata": {},
     "output_type": "display_data"
    }
   ],
   "source": [
    "display(Markdown(\"The first 5 rows of each table in the dataset:\"))\n",
    "for key, df in dataset.items():\n",
    "    display(Markdown(f\"##### {key}\"))\n",
    "    display(Markdown(df.head().to_markdown(index=False)))"
   ]
  },
  {
   "cell_type": "markdown",
   "id": "71603420",
   "metadata": {},
   "source": [
    "### Checking the Shape of the Dataset"
   ]
  },
  {
   "cell_type": "code",
   "execution_count": 6,
   "id": "16ca9888",
   "metadata": {},
   "outputs": [
    {
     "data": {
      "text/markdown": [
       "The following table shows how many rows and columns are in each table of the dataset:"
      ],
      "text/plain": [
       "<IPython.core.display.Markdown object>"
      ]
     },
     "metadata": {},
     "output_type": "display_data"
    },
    {
     "data": {
      "text/markdown": [
       "|Table|# Rows|# Columns| \n",
       " |-----|-------|---------| \n",
       "|categories|11|2|\n",
       "|cities|96|4|\n",
       "|countries|206|3|\n",
       "|customers|98759|6|\n",
       "|employees|23|8|\n",
       "|products|452|9|\n",
       "|sales|6758125|9|\n"
      ],
      "text/plain": [
       "<IPython.core.display.Markdown object>"
      ]
     },
     "metadata": {},
     "output_type": "display_data"
    }
   ],
   "source": [
    "display(Markdown(\"The following table shows how many rows and columns are in each table of the dataset:\"))\n",
    "markdown_text = \"|Table|# Rows|# Columns| \\n |-----|-------|---------| \\n\"\n",
    "for key, df in dataset.items():\n",
    "    markdown_text += f\"|{key}|{df.shape[0]}|{df.shape[1]}|\\n\" # The shape method shows the size of the dataframe\n",
    "display(Markdown(markdown_text))"
   ]
  },
  {
   "cell_type": "markdown",
   "id": "2200ecb4",
   "metadata": {},
   "source": [
    "### Displaying Dataset Information"
   ]
  },
  {
   "cell_type": "code",
   "execution_count": 7,
   "id": "21eb4b58",
   "metadata": {},
   "outputs": [
    {
     "data": {
      "text/markdown": [
       "Table information for categories:"
      ],
      "text/plain": [
       "<IPython.core.display.Markdown object>"
      ]
     },
     "metadata": {},
     "output_type": "display_data"
    },
    {
     "name": "stdout",
     "output_type": "stream",
     "text": [
      "<class 'pandas.core.frame.DataFrame'>\n",
      "RangeIndex: 11 entries, 0 to 10\n",
      "Data columns (total 2 columns):\n",
      " #   Column        Non-Null Count  Dtype \n",
      "---  ------        --------------  ----- \n",
      " 0   CategoryID    11 non-null     int64 \n",
      " 1   CategoryName  11 non-null     object\n",
      "dtypes: int64(1), object(1)\n",
      "memory usage: 308.0+ bytes\n"
     ]
    },
    {
     "data": {
      "text/markdown": [
       "Table information for cities:"
      ],
      "text/plain": [
       "<IPython.core.display.Markdown object>"
      ]
     },
     "metadata": {},
     "output_type": "display_data"
    },
    {
     "name": "stdout",
     "output_type": "stream",
     "text": [
      "<class 'pandas.core.frame.DataFrame'>\n",
      "RangeIndex: 96 entries, 0 to 95\n",
      "Data columns (total 4 columns):\n",
      " #   Column     Non-Null Count  Dtype \n",
      "---  ------     --------------  ----- \n",
      " 0   CityID     96 non-null     int64 \n",
      " 1   CityName   96 non-null     object\n",
      " 2   Zipcode    96 non-null     int64 \n",
      " 3   CountryID  96 non-null     int64 \n",
      "dtypes: int64(3), object(1)\n",
      "memory usage: 3.1+ KB\n"
     ]
    },
    {
     "data": {
      "text/markdown": [
       "Table information for countries:"
      ],
      "text/plain": [
       "<IPython.core.display.Markdown object>"
      ]
     },
     "metadata": {},
     "output_type": "display_data"
    },
    {
     "name": "stdout",
     "output_type": "stream",
     "text": [
      "<class 'pandas.core.frame.DataFrame'>\n",
      "RangeIndex: 206 entries, 0 to 205\n",
      "Data columns (total 3 columns):\n",
      " #   Column       Non-Null Count  Dtype \n",
      "---  ------       --------------  ----- \n",
      " 0   CountryID    206 non-null    int64 \n",
      " 1   CountryName  206 non-null    object\n",
      " 2   CountryCode  205 non-null    object\n",
      "dtypes: int64(1), object(2)\n",
      "memory usage: 5.0+ KB\n"
     ]
    },
    {
     "data": {
      "text/markdown": [
       "Table information for customers:"
      ],
      "text/plain": [
       "<IPython.core.display.Markdown object>"
      ]
     },
     "metadata": {},
     "output_type": "display_data"
    },
    {
     "name": "stdout",
     "output_type": "stream",
     "text": [
      "<class 'pandas.core.frame.DataFrame'>\n",
      "RangeIndex: 98759 entries, 0 to 98758\n",
      "Data columns (total 6 columns):\n",
      " #   Column         Non-Null Count  Dtype \n",
      "---  ------         --------------  ----- \n",
      " 0   CustomerID     98759 non-null  int64 \n",
      " 1   FirstName      98759 non-null  object\n",
      " 2   MiddleInitial  97782 non-null  object\n",
      " 3   LastName       98759 non-null  object\n",
      " 4   CityID         98759 non-null  int64 \n",
      " 5   Address        98759 non-null  object\n",
      "dtypes: int64(2), object(4)\n",
      "memory usage: 4.5+ MB\n"
     ]
    },
    {
     "data": {
      "text/markdown": [
       "Table information for employees:"
      ],
      "text/plain": [
       "<IPython.core.display.Markdown object>"
      ]
     },
     "metadata": {},
     "output_type": "display_data"
    },
    {
     "name": "stdout",
     "output_type": "stream",
     "text": [
      "<class 'pandas.core.frame.DataFrame'>\n",
      "RangeIndex: 23 entries, 0 to 22\n",
      "Data columns (total 8 columns):\n",
      " #   Column         Non-Null Count  Dtype \n",
      "---  ------         --------------  ----- \n",
      " 0   EmployeeID     23 non-null     int64 \n",
      " 1   FirstName      23 non-null     object\n",
      " 2   MiddleInitial  23 non-null     object\n",
      " 3   LastName       23 non-null     object\n",
      " 4   BirthDate      23 non-null     object\n",
      " 5   Gender         23 non-null     object\n",
      " 6   CityID         23 non-null     int64 \n",
      " 7   HireDate       23 non-null     object\n",
      "dtypes: int64(2), object(6)\n",
      "memory usage: 1.6+ KB\n"
     ]
    },
    {
     "data": {
      "text/markdown": [
       "Table information for products:"
      ],
      "text/plain": [
       "<IPython.core.display.Markdown object>"
      ]
     },
     "metadata": {},
     "output_type": "display_data"
    },
    {
     "name": "stdout",
     "output_type": "stream",
     "text": [
      "<class 'pandas.core.frame.DataFrame'>\n",
      "RangeIndex: 452 entries, 0 to 451\n",
      "Data columns (total 9 columns):\n",
      " #   Column        Non-Null Count  Dtype  \n",
      "---  ------        --------------  -----  \n",
      " 0   ProductID     452 non-null    int64  \n",
      " 1   ProductName   452 non-null    object \n",
      " 2   Price         452 non-null    float64\n",
      " 3   CategoryID    452 non-null    int64  \n",
      " 4   Class         452 non-null    object \n",
      " 5   ModifyDate    452 non-null    object \n",
      " 6   Resistant     452 non-null    object \n",
      " 7   IsAllergic    452 non-null    object \n",
      " 8   VitalityDays  452 non-null    float64\n",
      "dtypes: float64(2), int64(2), object(5)\n",
      "memory usage: 31.9+ KB\n"
     ]
    },
    {
     "data": {
      "text/markdown": [
       "Table information for sales:"
      ],
      "text/plain": [
       "<IPython.core.display.Markdown object>"
      ]
     },
     "metadata": {},
     "output_type": "display_data"
    },
    {
     "name": "stdout",
     "output_type": "stream",
     "text": [
      "<class 'pandas.core.frame.DataFrame'>\n",
      "RangeIndex: 6758125 entries, 0 to 6758124\n",
      "Data columns (total 9 columns):\n",
      " #   Column             Dtype  \n",
      "---  ------             -----  \n",
      " 0   SalesID            int64  \n",
      " 1   SalesPersonID      int64  \n",
      " 2   CustomerID         int64  \n",
      " 3   ProductID          int64  \n",
      " 4   Quantity           int64  \n",
      " 5   Discount           float64\n",
      " 6   TotalPrice         float64\n",
      " 7   SalesDate          object \n",
      " 8   TransactionNumber  object \n",
      "dtypes: float64(2), int64(5), object(2)\n",
      "memory usage: 464.0+ MB\n"
     ]
    }
   ],
   "source": [
    "for key, df in dataset.items():\n",
    "    display(Markdown(f'Table information for {key}:'))\n",
    "    df.info()"
   ]
  },
  {
   "cell_type": "markdown",
   "id": "19c00092",
   "metadata": {},
   "source": [
    "### Checking for Duplicate Values in the Dataset"
   ]
  },
  {
   "cell_type": "code",
   "execution_count": null,
   "id": "e3e649c6",
   "metadata": {},
   "outputs": [
    {
     "data": {
      "text/markdown": [
       "The below table shows the number of duplicate rows for each table in the dataset:"
      ],
      "text/plain": [
       "<IPython.core.display.Markdown object>"
      ]
     },
     "metadata": {},
     "output_type": "display_data"
    },
    {
     "data": {
      "text/markdown": [
       "|Table|Duplicate Rows| \n",
       " |----|------| \n",
       "|categories|0| \n",
       "|cities|0| \n",
       "|countries|0| \n",
       "|customers|0| \n",
       "|employees|0| \n",
       "|products|0| \n",
       "|sales|0| \n"
      ],
      "text/plain": [
       "<IPython.core.display.Markdown object>"
      ]
     },
     "metadata": {},
     "output_type": "display_data"
    }
   ],
   "source": [
    "display(Markdown(\"The below table shows the number of duplicate rows for each table in the dataset:\"))\n",
    "markdown_text = '|Table|Duplicate Rows| \\n |----|------| \\n'\n",
    "for key, df in dataset.items():\n",
    "    markdown_text += f'|{key}|{len(df[df.duplicated()])}| \\n' # The duplicated() method shows which rows are duplicate\n",
    "display(Markdown(markdown_text))"
   ]
  },
  {
   "cell_type": "markdown",
   "id": "1767f205",
   "metadata": {},
   "source": [
    "### Checking for Missing / Null Values"
   ]
  },
  {
   "cell_type": "code",
   "execution_count": null,
   "id": "9fd46747",
   "metadata": {},
   "outputs": [
    {
     "data": {
      "text/markdown": [
       "The below tables will show how many missing values in each of column of each table:"
      ],
      "text/plain": [
       "<IPython.core.display.Markdown object>"
      ]
     },
     "metadata": {},
     "output_type": "display_data"
    },
    {
     "data": {
      "text/markdown": [
       "##### categories"
      ],
      "text/plain": [
       "<IPython.core.display.Markdown object>"
      ]
     },
     "metadata": {},
     "output_type": "display_data"
    },
    {
     "data": {
      "text/markdown": [
       "| Column Name   |   # of Missing Values |\n",
       "|:--------------|----------------------:|\n",
       "| CategoryID    |                     0 |\n",
       "| CategoryName  |                     0 |"
      ],
      "text/plain": [
       "<IPython.core.display.Markdown object>"
      ]
     },
     "metadata": {},
     "output_type": "display_data"
    },
    {
     "data": {
      "text/markdown": [
       "##### cities"
      ],
      "text/plain": [
       "<IPython.core.display.Markdown object>"
      ]
     },
     "metadata": {},
     "output_type": "display_data"
    },
    {
     "data": {
      "text/markdown": [
       "| Column Name   |   # of Missing Values |\n",
       "|:--------------|----------------------:|\n",
       "| CityID        |                     0 |\n",
       "| CityName      |                     0 |\n",
       "| Zipcode       |                     0 |\n",
       "| CountryID     |                     0 |"
      ],
      "text/plain": [
       "<IPython.core.display.Markdown object>"
      ]
     },
     "metadata": {},
     "output_type": "display_data"
    },
    {
     "data": {
      "text/markdown": [
       "##### countries"
      ],
      "text/plain": [
       "<IPython.core.display.Markdown object>"
      ]
     },
     "metadata": {},
     "output_type": "display_data"
    },
    {
     "data": {
      "text/markdown": [
       "| Column Name   |   # of Missing Values |\n",
       "|:--------------|----------------------:|\n",
       "| CountryID     |                     0 |\n",
       "| CountryName   |                     0 |\n",
       "| CountryCode   |                     1 |"
      ],
      "text/plain": [
       "<IPython.core.display.Markdown object>"
      ]
     },
     "metadata": {},
     "output_type": "display_data"
    },
    {
     "data": {
      "text/markdown": [
       "##### customers"
      ],
      "text/plain": [
       "<IPython.core.display.Markdown object>"
      ]
     },
     "metadata": {},
     "output_type": "display_data"
    },
    {
     "data": {
      "text/markdown": [
       "| Column Name   |   # of Missing Values |\n",
       "|:--------------|----------------------:|\n",
       "| CustomerID    |                     0 |\n",
       "| FirstName     |                     0 |\n",
       "| MiddleInitial |                   977 |\n",
       "| LastName      |                     0 |\n",
       "| CityID        |                     0 |\n",
       "| Address       |                     0 |"
      ],
      "text/plain": [
       "<IPython.core.display.Markdown object>"
      ]
     },
     "metadata": {},
     "output_type": "display_data"
    },
    {
     "data": {
      "text/markdown": [
       "##### employees"
      ],
      "text/plain": [
       "<IPython.core.display.Markdown object>"
      ]
     },
     "metadata": {},
     "output_type": "display_data"
    },
    {
     "data": {
      "text/markdown": [
       "| Column Name   |   # of Missing Values |\n",
       "|:--------------|----------------------:|\n",
       "| EmployeeID    |                     0 |\n",
       "| FirstName     |                     0 |\n",
       "| MiddleInitial |                     0 |\n",
       "| LastName      |                     0 |\n",
       "| BirthDate     |                     0 |\n",
       "| Gender        |                     0 |\n",
       "| CityID        |                     0 |\n",
       "| HireDate      |                     0 |"
      ],
      "text/plain": [
       "<IPython.core.display.Markdown object>"
      ]
     },
     "metadata": {},
     "output_type": "display_data"
    },
    {
     "data": {
      "text/markdown": [
       "##### products"
      ],
      "text/plain": [
       "<IPython.core.display.Markdown object>"
      ]
     },
     "metadata": {},
     "output_type": "display_data"
    },
    {
     "data": {
      "text/markdown": [
       "| Column Name   |   # of Missing Values |\n",
       "|:--------------|----------------------:|\n",
       "| ProductID     |                     0 |\n",
       "| ProductName   |                     0 |\n",
       "| Price         |                     0 |\n",
       "| CategoryID    |                     0 |\n",
       "| Class         |                     0 |\n",
       "| ModifyDate    |                     0 |\n",
       "| Resistant     |                     0 |\n",
       "| IsAllergic    |                     0 |\n",
       "| VitalityDays  |                     0 |"
      ],
      "text/plain": [
       "<IPython.core.display.Markdown object>"
      ]
     },
     "metadata": {},
     "output_type": "display_data"
    },
    {
     "data": {
      "text/markdown": [
       "##### sales"
      ],
      "text/plain": [
       "<IPython.core.display.Markdown object>"
      ]
     },
     "metadata": {},
     "output_type": "display_data"
    },
    {
     "data": {
      "text/markdown": [
       "| Column Name       |   # of Missing Values |\n",
       "|:------------------|----------------------:|\n",
       "| SalesID           |                     0 |\n",
       "| SalesPersonID     |                     0 |\n",
       "| CustomerID        |                     0 |\n",
       "| ProductID         |                     0 |\n",
       "| Quantity          |                     0 |\n",
       "| Discount          |                     0 |\n",
       "| TotalPrice        |                     0 |\n",
       "| SalesDate         |                 67526 |\n",
       "| TransactionNumber |                     0 |"
      ],
      "text/plain": [
       "<IPython.core.display.Markdown object>"
      ]
     },
     "metadata": {},
     "output_type": "display_data"
    }
   ],
   "source": [
    "display(Markdown(\"The below tables will show how many missing values in each of column of each table:\"))\n",
    "for key, df in dataset.items():\n",
    "    display(Markdown(f\"##### {key}\"))\n",
    "    missing_values = df.isnull().sum()\n",
    "    markdown_table = missing_values.to_frame().reset_index()  # This is done so the output can be shown in markdown format\n",
    "    markdown_table.columns = ['Column Name', '# of Missing Values']\n",
    "    display(Markdown(markdown_table.to_markdown(index=False)))"
   ]
  },
  {
   "cell_type": "code",
   "execution_count": 30,
   "id": "34557f10",
   "metadata": {},
   "outputs": [
    {
     "data": {
      "image/png": "[encoded data removed]",
      "text/plain": [
       "<Figure size 600x400 with 1 Axes>"
      ]
     },
     "metadata": {},
     "output_type": "display_data"
    },
    {
     "data": {
      "image/png": "[encoded data removed]",
      "text/plain": [
       "<Figure size 600x400 with 1 Axes>"
      ]
     },
     "metadata": {},
     "output_type": "display_data"
    },
    {
     "data": {
      "image/png": "[encoded data removed]",
      "text/plain": [
       "<Figure size 600x400 with 1 Axes>"
      ]
     },
     "metadata": {},
     "output_type": "display_data"
    },
    {
     "data": {
      "image/png": "[encoded data removed]",
      "text/plain": [
       "<Figure size 600x400 with 1 Axes>"
      ]
     },
     "metadata": {},
     "output_type": "display_data"
    },
    {
     "data": {
      "image/png": "[encoded data removed]",
      "text/plain": [
       "<Figure size 600x400 with 1 Axes>"
      ]
     },
     "metadata": {},
     "output_type": "display_data"
    },
    {
     "data": {
      "image/png": "[encoded data removed]",
      "text/plain": [
       "<Figure size 600x400 with 1 Axes>"
      ]
     },
     "metadata": {},
     "output_type": "display_data"
    },
    {
     "data": {
      "image/png": "[encoded data removed]",
      "text/plain": [
       "<Figure size 600x400 with 1 Axes>"
      ]
     },
     "metadata": {},
     "output_type": "display_data"
    }
   ],
   "source": [
    "# Visualising the missing values of each table\n",
    "for key, df in dataset.items():\n",
    "    plt.figure(figsize = (6,4))\n",
    "    sns.heatmap(df.isnull(), cbar=False)\n",
    "    plt.title(f\"Missing values Heatmap for {key}\")\n",
    "    plt.show()"
   ]
  },
  {
   "cell_type": "markdown",
   "id": "98e87e59",
   "metadata": {},
   "source": [
    "### Summary of Dataset Observations"
   ]
  },
  {
   "cell_type": "code",
   "execution_count": 28,
   "id": "9603bcf8",
   "metadata": {},
   "outputs": [
    {
     "data": {
      "text/markdown": [
       "#### Observations about the Dataset:"
      ],
      "text/plain": [
       "<IPython.core.display.Markdown object>"
      ]
     },
     "metadata": {},
     "output_type": "display_data"
    },
    {
     "data": {
      "text/markdown": [
       "- None of the tables have any duplicate rows."
      ],
      "text/plain": [
       "<IPython.core.display.Markdown object>"
      ]
     },
     "metadata": {},
     "output_type": "display_data"
    },
    {
     "data": {
      "text/markdown": [
       "- Below is a table which summarises which columns have missing values:"
      ],
      "text/plain": [
       "<IPython.core.display.Markdown object>"
      ]
     },
     "metadata": {},
     "output_type": "display_data"
    },
    {
     "data": {
      "text/markdown": [
       "| Table     | Column        |   Missing Values |\n",
       "|:----------|:--------------|-----------------:|\n",
       "| countries | CountryCode   |                1 |\n",
       "| customers | MiddleInitial |              977 |\n",
       "| sales     | SalesDate     |            67526 |"
      ],
      "text/plain": [
       "<IPython.core.display.Markdown object>"
      ]
     },
     "metadata": {},
     "output_type": "display_data"
    }
   ],
   "source": [
    "display(Markdown(\"#### Observations about the Dataset:\"))\n",
    "\n",
    "# Duplicate Rows\n",
    "duplicate_count = 0\n",
    "for df in dataset.values():\n",
    "    duplicate_count += len(df[df.duplicated()])\n",
    "if duplicate_count == 0:\n",
    "    display(Markdown(\"- None of the tables have any duplicate rows.\"))\n",
    "else:\n",
    "    markdown_text = \"- The following tables have duplicate rows: \\n\"\n",
    "    for key, df in dataset.items():\n",
    "        if len(df[df.duplicated()]) > 0:\n",
    "            markdown_text += f'\\t {key} \\n'\n",
    "\n",
    "# Missing Values\n",
    "missing_count = 0\n",
    "for df in dataset.values():\n",
    "    missing_count += (df.isnull().sum()).sum()\n",
    "if missing_count == 0:\n",
    "    display(Markdown(\"- None of the tables have any missing values in their columns.\"))\n",
    "else:\n",
    "    missing_df = pd.DataFrame({'Table': [], 'Column': [], 'Missing Values': []})\n",
    "    for key, df in dataset.items():\n",
    "        missing_values = df.isnull().sum()\n",
    "        missing_values = missing_values[missing_values > 0]\n",
    "        missing_values = missing_values.reset_index()\n",
    "        missing_values.columns = ['Column', 'Missing Values']\n",
    "        missing_values['Table'] = key\n",
    "        missing_values = missing_values[['Table', 'Column', 'Missing Values']]\n",
    "        missing_df = pd.concat([missing_df, missing_values], ignore_index=True)\n",
    "    display(Markdown(\"- Below is a table which summarises which columns have missing values:\"))\n",
    "    display(Markdown(missing_df.to_markdown(index=False)))\n"
   ]
  },
  {
   "cell_type": "markdown",
   "id": "5b293e1e",
   "metadata": {},
   "source": [
    "## 2. Data Types"
   ]
  },
  {
   "cell_type": "markdown",
   "id": "c7b52f79",
   "metadata": {},
   "source": [
    "The data types of each column were already determined when the `.info()` method was used for each table in the [Displaying Dataset Information](#displaying-dataset-information) Section. Based on the column definitions in [Column Defintions](#column-definitions). Some columns should have more accurate data types for analysis and query performance purposes."
   ]
  },
  {
   "cell_type": "markdown",
   "id": "7cf5091d",
   "metadata": {},
   "source": [
    "The columns for which data types should be changed are in the table below:\n",
    "\n",
    "|Table|Column|Current Type|Required Type|\n",
    "|-----|------|------------|-------------|\n",
    "|categories|CategoryName|object|category|\n",
    "|cities|CityName|object|string|\n",
    "|countries|CountryName|object|string|\n",
    "|countries|CountryCode|object|string|\n",
    "|customers|FirstName|object|string|\n",
    "|customers|MiddleInitial|object|string|\n",
    "|customers|LastName|object|string|\n",
    "|customers|Address|object|string|\n",
    "|employees|FirstName|object|string|\n",
    "|employees|MiddleInitial|object|string|\n",
    "|employees|LastName|object|string|\n",
    "|employees|BirthDate|object|datetime|\n",
    "|employees|HireDate|object|datetime|\n",
    "|products|ProductName|object|string|\n",
    "|products|Class|object|category|\n",
    "|products|ModifyDate|object|datetime|\n",
    "|products|Resistant|object|category|\n",
    "|products|IsAllergic|object|bool|\n",
    "|sales|SalesDate|object|datetime|\n",
    "|sales|TransactionNumber|object|string|"
   ]
  },
  {
   "cell_type": "code",
   "execution_count": null,
   "id": "fe006a82",
   "metadata": {},
   "outputs": [
    {
     "data": {
      "text/markdown": [
       "Converted CategoryName in categories from `object` to `category`."
      ],
      "text/plain": [
       "<IPython.core.display.Markdown object>"
      ]
     },
     "metadata": {},
     "output_type": "display_data"
    },
    {
     "data": {
      "text/markdown": [
       "Converted CityName in cities from `object` to `string`."
      ],
      "text/plain": [
       "<IPython.core.display.Markdown object>"
      ]
     },
     "metadata": {},
     "output_type": "display_data"
    },
    {
     "data": {
      "text/markdown": [
       "Converted CountryName & CountryCode in countries from `object` to `string`."
      ],
      "text/plain": [
       "<IPython.core.display.Markdown object>"
      ]
     },
     "metadata": {},
     "output_type": "display_data"
    },
    {
     "data": {
      "text/markdown": [
       "Converted FirstName, MiddleInitial, LastName, Address in customers from `object` to `string`."
      ],
      "text/plain": [
       "<IPython.core.display.Markdown object>"
      ]
     },
     "metadata": {},
     "output_type": "display_data"
    },
    {
     "data": {
      "text/markdown": [
       "Converted FirstName, MiddleInitial, LastName in employees from `object` to `string`."
      ],
      "text/plain": [
       "<IPython.core.display.Markdown object>"
      ]
     },
     "metadata": {},
     "output_type": "display_data"
    },
    {
     "data": {
      "text/markdown": [
       "Converted BirthDate & HireDate in employees from `object` to `datetime`"
      ],
      "text/plain": [
       "<IPython.core.display.Markdown object>"
      ]
     },
     "metadata": {},
     "output_type": "display_data"
    },
    {
     "data": {
      "text/markdown": [
       "Converted ProductName in products from `object` to `string`."
      ],
      "text/plain": [
       "<IPython.core.display.Markdown object>"
      ]
     },
     "metadata": {},
     "output_type": "display_data"
    },
    {
     "data": {
      "text/markdown": [
       "Converted Class & Resistant in products from `object` to `category`."
      ],
      "text/plain": [
       "<IPython.core.display.Markdown object>"
      ]
     },
     "metadata": {},
     "output_type": "display_data"
    },
    {
     "data": {
      "text/markdown": [
       "Converted ModifyDate in products from `object` to `datetime`."
      ],
      "text/plain": [
       "<IPython.core.display.Markdown object>"
      ]
     },
     "metadata": {},
     "output_type": "display_data"
    },
    {
     "data": {
      "text/markdown": [
       "Converted IsAllergic in products from `object` to `bool`."
      ],
      "text/plain": [
       "<IPython.core.display.Markdown object>"
      ]
     },
     "metadata": {},
     "output_type": "display_data"
    },
    {
     "data": {
      "text/markdown": [
       "Converted SalesDate in sales from `object` to `datetime`."
      ],
      "text/plain": [
       "<IPython.core.display.Markdown object>"
      ]
     },
     "metadata": {},
     "output_type": "display_data"
    },
    {
     "data": {
      "text/markdown": [
       "Converted TransactionNumber in sales from `object` to `string`."
      ],
      "text/plain": [
       "<IPython.core.display.Markdown object>"
      ]
     },
     "metadata": {},
     "output_type": "display_data"
    }
   ],
   "source": [
    "# Converting the dtypes to the most optimal for analysis\n",
    "\n",
    "dataset['categories']['CategoryName'] = dataset['categories']['CategoryName'].astype('category')\n",
    "display(Markdown(f\"Converted CategoryName in categories from `object` to `{dataset['categories']['CategoryName'].dtype}`.\"))\n",
    "\n",
    "dataset['cities']['CityName'] = dataset['cities']['CityName'].astype('string')\n",
    "display(Markdown(f\"Converted CityName in cities from `object` to `{dataset['cities']['CityName'].dtype}`.\"))\n",
    "\n",
    "dataset['countries'][['CountryName', 'CountryCode']] = dataset['countries'][['CountryName', 'CountryCode']].astype('string')\n",
    "display(Markdown(f\"Converted CountryName & CountryCode in countries from `object` to `string`.\"))\n",
    "\n",
    "dataset['customers'][['FirstName', 'MiddleInitial', 'LastName', 'Address']] = dataset['customers'][['FirstName', 'MiddleInitial', 'LastName', 'Address']].astype('string')\n",
    "display(Markdown(\"Converted FirstName, MiddleInitial, LastName, Address in customers from `object` to `string`.\"))\n",
    "\n",
    "dataset['employees'][['FirstName', 'MiddleInitial', 'LastName']] = dataset['employees'][['FirstName', 'MiddleInitial', 'LastName']].astype('string')\n",
    "display(Markdown(\"Converted FirstName, MiddleInitial, LastName in employees from `object` to `string`.\"))\n",
    "\n",
    "for col in ['BirthDate', 'HireDate']:\n",
    "    dataset['employees'][col] = pd.to_datetime(dataset['employees'][col])\n",
    "display(Markdown(f\"Converted BirthDate & HireDate in employees from `object` to `datetime`\"))\n",
    "\n",
    "dataset['products']['ProductName'] = dataset['products']['ProductName'].astype('string')\n",
    "display(Markdown(\"Converted ProductName in products from `object` to `string`.\"))\n",
    "\n",
    "dataset['products'][['Class', 'Resistant']] = dataset['products'][['Class', 'Resistant']].astype('category')\n",
    "display(Markdown(\"Converted Class & Resistant in products from `object` to `category`.\"))\n",
    "\n",
    "dataset['products']['ModifyDate'] = pd.to_datetime(dataset['products']['ModifyDate'])\n",
    "display(Markdown(\"Converted ModifyDate in products from `object` to `datetime`.\"))\n",
    "\n",
    "dataset['products']['IsAllergic'] = dataset['products']['IsAllergic'].astype('bool')\n",
    "display(Markdown(f\"Converted IsAllergic in products from `object` to `{dataset['products']['IsAllergic'].dtype}`.\"))\n",
    "\n",
    "dataset['sales']['SalesDate'] = pd.to_datetime(dataset['sales']['SalesDate'])\n",
    "display(Markdown(\"Converted SalesDate in sales from `object` to `datetime`.\"))\n",
    "\n",
    "dataset['sales']['TransactionNumber'] = dataset['sales']['TransactionNumber'].astype('string')\n",
    "display(Markdown(\"Converted TransactionNumber in sales from `object` to `string`.\"))"
   ]
  },
  {
   "cell_type": "code",
   "execution_count": 19,
   "id": "b0caa881",
   "metadata": {},
   "outputs": [
    {
     "data": {
      "text/markdown": [
       "### Summary Statistics for each table:"
      ],
      "text/plain": [
       "<IPython.core.display.Markdown object>"
      ]
     },
     "metadata": {},
     "output_type": "display_data"
    },
    {
     "data": {
      "text/markdown": [
       "#### categories"
      ],
      "text/plain": [
       "<IPython.core.display.Markdown object>"
      ]
     },
     "metadata": {},
     "output_type": "display_data"
    },
    {
     "name": "stdout",
     "output_type": "stream",
     "text": [
      "        CategoryID CategoryName\n",
      "count    11.000000           11\n",
      "unique         NaN           11\n",
      "top            NaN    Beverages\n",
      "freq           NaN            1\n",
      "mean      6.000000          NaN\n",
      "std       3.316625          NaN\n",
      "min       1.000000          NaN\n",
      "25%       3.500000          NaN\n",
      "50%       6.000000          NaN\n",
      "75%       8.500000          NaN\n",
      "max      11.000000          NaN\n"
     ]
    },
    {
     "data": {
      "text/markdown": [
       "#### cities"
      ],
      "text/plain": [
       "<IPython.core.display.Markdown object>"
      ]
     },
     "metadata": {},
     "output_type": "display_data"
    },
    {
     "name": "stdout",
     "output_type": "stream",
     "text": [
      "           CityID CityName       Zipcode  CountryID\n",
      "count   96.000000       96     96.000000       96.0\n",
      "unique        NaN       96           NaN        NaN\n",
      "top           NaN   Dayton           NaN        NaN\n",
      "freq          NaN        1           NaN        NaN\n",
      "mean    48.500000      NaN  51245.302083       32.0\n",
      "std     27.856777      NaN  29883.397049        0.0\n",
      "min      1.000000      NaN    157.000000       32.0\n",
      "25%     24.750000      NaN  21780.500000       32.0\n",
      "50%     48.500000      NaN  51700.000000       32.0\n",
      "75%     72.250000      NaN  79867.750000       32.0\n",
      "max     96.000000      NaN  97859.000000       32.0\n"
     ]
    },
    {
     "data": {
      "text/markdown": [
       "#### countries"
      ],
      "text/plain": [
       "<IPython.core.display.Markdown object>"
      ]
     },
     "metadata": {},
     "output_type": "display_data"
    },
    {
     "name": "stdout",
     "output_type": "stream",
     "text": [
      "         CountryID CountryName CountryCode\n",
      "count   206.000000         206         205\n",
      "unique         NaN         206         205\n",
      "top            NaN     Armenia          AN\n",
      "freq           NaN           1           1\n",
      "mean    103.500000         NaN         NaN\n",
      "std      59.611241         NaN         NaN\n",
      "min       1.000000         NaN         NaN\n",
      "25%      52.250000         NaN         NaN\n",
      "50%     103.500000         NaN         NaN\n",
      "75%     154.750000         NaN         NaN\n",
      "max     206.000000         NaN         NaN\n"
     ]
    },
    {
     "data": {
      "text/markdown": [
       "#### customers"
      ],
      "text/plain": [
       "<IPython.core.display.Markdown object>"
      ]
     },
     "metadata": {},
     "output_type": "display_data"
    },
    {
     "name": "stdout",
     "output_type": "stream",
     "text": [
      "          CustomerID FirstName MiddleInitial LastName        CityID  \\\n",
      "count   98759.000000     98759         97782    98759  98759.000000   \n",
      "unique           NaN       969            26      995           NaN   \n",
      "top              NaN     Randi             J   Dorsey           NaN   \n",
      "freq             NaN       141          3826      134           NaN   \n",
      "mean    49380.000000       NaN           NaN      NaN     48.557661   \n",
      "std     28509.411955       NaN           NaN      NaN     27.660082   \n",
      "min         1.000000       NaN           NaN      NaN      1.000000   \n",
      "25%     24690.500000       NaN           NaN      NaN     25.000000   \n",
      "50%     49380.000000       NaN           NaN      NaN     49.000000   \n",
      "75%     74069.500000       NaN           NaN      NaN     72.000000   \n",
      "max     98759.000000       NaN           NaN      NaN     96.000000   \n",
      "\n",
      "               Address  \n",
      "count            98759  \n",
      "unique           80134  \n",
      "top     16 Milton Road  \n",
      "freq                10  \n",
      "mean               NaN  \n",
      "std                NaN  \n",
      "min                NaN  \n",
      "25%                NaN  \n",
      "50%                NaN  \n",
      "75%                NaN  \n",
      "max                NaN  \n"
     ]
    },
    {
     "data": {
      "text/markdown": [
       "#### employees"
      ],
      "text/plain": [
       "<IPython.core.display.Markdown object>"
      ]
     },
     "metadata": {},
     "output_type": "display_data"
    },
    {
     "name": "stdout",
     "output_type": "stream",
     "text": [
      "        EmployeeID FirstName MiddleInitial LastName  \\\n",
      "count     23.00000        23            23       23   \n",
      "unique         NaN        22            14       23   \n",
      "top            NaN  Chadwick             E   Fuller   \n",
      "freq           NaN         2             3        1   \n",
      "mean      12.00000       NaN           NaN      NaN   \n",
      "min        1.00000       NaN           NaN      NaN   \n",
      "25%        6.50000       NaN           NaN      NaN   \n",
      "50%       12.00000       NaN           NaN      NaN   \n",
      "75%       17.50000       NaN           NaN      NaN   \n",
      "max       23.00000       NaN           NaN      NaN   \n",
      "std        6.78233       NaN           NaN      NaN   \n",
      "\n",
      "                            BirthDate Gender     CityID  \\\n",
      "count                              23     23  23.000000   \n",
      "unique                            NaN      2        NaN   \n",
      "top                               NaN      M        NaN   \n",
      "freq                              NaN     15        NaN   \n",
      "mean    1967-11-28 19:49:33.913043480    NaN  43.782609   \n",
      "min               1951-07-07 00:00:00    NaN   4.000000   \n",
      "25%               1962-05-24 00:00:00    NaN  20.500000   \n",
      "50%               1964-06-13 00:00:00    NaN  39.000000   \n",
      "75%               1974-01-30 12:00:00    NaN  65.000000   \n",
      "max               1989-08-29 00:00:00    NaN  92.000000   \n",
      "std                               NaN    NaN  26.381737   \n",
      "\n",
      "                             HireDate  \n",
      "count                              23  \n",
      "unique                            NaN  \n",
      "top                               NaN  \n",
      "freq                              NaN  \n",
      "mean    2013-08-16 14:32:15.317826048  \n",
      "min        2010-02-22 21:55:48.620000  \n",
      "25%     2011-11-22 17:44:09.164999936  \n",
      "50%        2013-06-22 13:20:18.080000  \n",
      "75%        2015-05-22 20:39:09.100000  \n",
      "max        2017-02-10 11:21:26.650000  \n",
      "std                               NaN  \n"
     ]
    },
    {
     "data": {
      "text/markdown": [
       "#### products"
      ],
      "text/plain": [
       "<IPython.core.display.Markdown object>"
      ]
     },
     "metadata": {},
     "output_type": "display_data"
    },
    {
     "name": "stdout",
     "output_type": "stream",
     "text": [
      "         ProductID             ProductName       Price  CategoryID   Class  \\\n",
      "count   452.000000                     452  452.000000  452.000000     452   \n",
      "unique         NaN                     452         NaN         NaN       3   \n",
      "top            NaN  Artichokes - Jerusalem         NaN         NaN  Medium   \n",
      "freq           NaN                       1         NaN         NaN     156   \n",
      "mean    226.500000                     NaN   50.801471    5.862832     NaN   \n",
      "min       1.000000                     NaN    0.044900    1.000000     NaN   \n",
      "25%     113.750000                     NaN   26.504350    3.000000     NaN   \n",
      "50%     226.500000                     NaN   52.499500    6.000000     NaN   \n",
      "75%     339.250000                     NaN   75.496450    9.000000     NaN   \n",
      "max     452.000000                     NaN   99.875500   11.000000     NaN   \n",
      "std     130.625419                     NaN   28.616724    3.271694     NaN   \n",
      "\n",
      "                           ModifyDate Resistant IsAllergic  VitalityDays  \n",
      "count                             452       452        452    452.000000  \n",
      "unique                            NaN         3          1           NaN  \n",
      "top                               NaN   Durable       True           NaN  \n",
      "freq                              NaN       164        452           NaN  \n",
      "mean    2017-09-11 20:05:50.656504320       NaN        NaN     26.030973  \n",
      "min        2017-01-03 12:21:41.850000       NaN        NaN      0.000000  \n",
      "25%     2017-05-16 20:47:44.454999808       NaN        NaN      0.000000  \n",
      "50%     2017-09-14 11:27:04.699999744       NaN        NaN      0.000000  \n",
      "75%     2018-01-14 00:12:17.922500096       NaN        NaN     52.500000  \n",
      "max        2018-05-09 20:18:03.820000       NaN        NaN    120.000000  \n",
      "std                               NaN       NaN        NaN     39.061200  \n"
     ]
    },
    {
     "data": {
      "text/markdown": [
       "#### sales"
      ],
      "text/plain": [
       "<IPython.core.display.Markdown object>"
      ]
     },
     "metadata": {},
     "output_type": "display_data"
    },
    {
     "name": "stdout",
     "output_type": "stream",
     "text": [
      "             SalesID  SalesPersonID    CustomerID     ProductID      Quantity  \\\n",
      "count   6.758125e+06   6.758125e+06  6.758125e+06  6.758125e+06  6.758125e+06   \n",
      "unique           NaN            NaN           NaN           NaN           NaN   \n",
      "top              NaN            NaN           NaN           NaN           NaN   \n",
      "freq             NaN            NaN           NaN           NaN           NaN   \n",
      "mean    3.379063e+06   1.199972e+01  4.939567e+04  2.265474e+02  1.300401e+01   \n",
      "min     1.000000e+00   1.000000e+00  1.000000e+00  1.000000e+00  1.000000e+00   \n",
      "25%     1.689532e+06   6.000000e+00  2.470700e+04  1.140000e+02  7.000000e+00   \n",
      "50%     3.379063e+06   1.200000e+01  4.941400e+04  2.270000e+02  1.300000e+01   \n",
      "75%     5.068594e+06   1.800000e+01  7.407500e+04  3.400000e+02  1.900000e+01   \n",
      "max     6.758125e+06   2.300000e+01  9.875900e+04  4.520000e+02  2.500000e+01   \n",
      "std     1.950903e+06   6.632689e+00  2.850504e+04  1.304744e+02  7.209701e+00   \n",
      "\n",
      "            Discount  TotalPrice                      SalesDate  \\\n",
      "count   6.758125e+06   6758125.0                        6690599   \n",
      "unique           NaN         NaN                            NaN   \n",
      "top              NaN         NaN                            NaN   \n",
      "freq             NaN         NaN                            NaN   \n",
      "mean    2.996787e-02         0.0  2018-03-06 12:28:36.599011840   \n",
      "min     0.000000e+00         0.0     2018-01-01 00:00:04.070000   \n",
      "25%     0.000000e+00         0.0  2018-02-02 06:29:42.464999936   \n",
      "50%     0.000000e+00         0.0     2018-03-06 13:05:36.860000   \n",
      "75%     0.000000e+00         0.0  2018-04-07 18:07:28.464999936   \n",
      "max     2.000000e-01         0.0     2018-05-09 23:59:59.400000   \n",
      "std     6.398096e-02         0.0                            NaN   \n",
      "\n",
      "           TransactionNumber  \n",
      "count                6758125  \n",
      "unique               6758125  \n",
      "top     VOP9A7Y4C5XSM2LLT0UJ  \n",
      "freq                       1  \n",
      "mean                     NaN  \n",
      "min                      NaN  \n",
      "25%                      NaN  \n",
      "50%                      NaN  \n",
      "75%                      NaN  \n",
      "max                      NaN  \n",
      "std                      NaN  \n"
     ]
    }
   ],
   "source": [
    "# Summary Statistics for each table in the dataframe\n",
    "display(Markdown(\"### Summary Statistics for each table:\"))\n",
    "for key, df in dataset.items():\n",
    "    display(Markdown(f'#### {key}'))\n",
    "    summary = df.describe(include='all')\n",
    "    print(summary)"
   ]
  }
 ],
 "metadata": {
  "kernelspec": {
   "display_name": "Python 3",
   "language": "python",
   "name": "python3"
  },
  "language_info": {
   "codemirror_mode": {
    "name": "ipython",
    "version": 3
   },
   "file_extension": ".py",
   "mimetype": "text/x-python",
   "name": "python",
   "nbconvert_exporter": "python",
   "pygments_lexer": "ipython3",
   "version": "3.13.2"
  }
 },
 "nbformat": 4,
 "nbformat_minor": 5
}
