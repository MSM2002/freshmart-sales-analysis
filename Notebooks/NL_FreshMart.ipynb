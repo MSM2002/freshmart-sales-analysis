{
 "cells": [
  {
   "cell_type": "markdown",
   "id": "fae5c1cc",
   "metadata": {},
   "source": [
    "# Business Problem Overview"
   ]
  },
  {
   "cell_type": "markdown",
   "id": "f4bc9f2a",
   "metadata": {},
   "source": [
    "## FreshMart: Maximising Total Sales Revenue through Smarter Retail Decisions"
   ]
  },
  {
   "cell_type": "markdown",
   "id": "dada6131",
   "metadata": {},
   "source": [
    "FreshMart is a fast-growing grocery retail chain based in the United States, serving thousands of customers across various cities and countries. Known for its wide product range and affordable pricing, FreshMart has built a strong presence in both urban and suburban markets.\n",
    "\n",
    "As the company prepares for its next phase of growth, leadership wants to focus not just on adding new stores, but on increasing Total Sales Revenue from its existing network. This means a better understanding what drives revenue, from which products perform well, to how different regions, customer segments, and sales staff contribute to the bottom line.\n",
    "\n",
    "The company believes there are many untapped opportunities to grow sales. These may lie in:\n",
    "\n",
    "- how product categories perform across months,\n",
    "- which types of customers spend more,\n",
    "- how employees contribute to store-level sales,\n",
    "- which cities or countries have higher or lower sales, and\n",
    "- how discounts are influencing buying behavior."
   ]
  },
  {
   "cell_type": "markdown",
   "id": "0d124780",
   "metadata": {},
   "source": [
    "### Key Metric: Total Sales Revenue"
   ]
  },
  {
   "cell_type": "markdown",
   "id": "292e7f69",
   "metadata": {},
   "source": [
    "$\\text{Total Sales Revenue} = \\text{Unit Price} \\times \\text{Quantity} \\times (1 - \\text{Discount})$. This metric helps measure how much money FreshMart is making from selling products after applying discounts."
   ]
  },
  {
   "cell_type": "markdown",
   "id": "f1e058e4",
   "metadata": {},
   "source": [
    "### Objective"
   ]
  },
  {
   "cell_type": "markdown",
   "id": "f090ff06",
   "metadata": {},
   "source": [
    "The objective of this project is to:\n",
    "\n",
    "- Break down Total Sales Revenue into its core components such as product price, quantity sold, and discounts applied.\n",
    "- Explore how different product categories, classifications, and features contribute to revenue across time.\n",
    "- Segment customers based on order value, quantity purchased, and spending behavior.\n",
    "- Evaluate the performance of individual sales employees and understand how their contribution varies by region or time.\n",
    "- Compare city-wise and country-wise sales patterns to highlight high- and low-performing areas.\n",
    "- Analyse trends over time to understand when sales peak or drop, and how this differs by product or location."
   ]
  }
 ],
 "metadata": {
  "language_info": {
   "name": "python"
  }
 },
 "nbformat": 4,
 "nbformat_minor": 5
}
