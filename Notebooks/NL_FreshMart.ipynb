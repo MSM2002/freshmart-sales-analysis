{
  "cells": [
    {
      "cell_type": "markdown",
      "id": "fae5c1cc",
      "metadata": {
        "id": "fae5c1cc"
      },
      "source": [
        "# Business Problem Overview"
      ]
    },
    {
      "cell_type": "markdown",
      "id": "f4bc9f2a",
      "metadata": {
        "id": "f4bc9f2a"
      },
      "source": [
        "## FreshMart: Maximising Total Sales Revenue through Smarter Retail Decisions"
      ]
    },
    {
      "cell_type": "markdown",
      "id": "dada6131",
      "metadata": {
        "id": "dada6131"
      },
      "source": [
        "FreshMart is a fast-growing grocery retail chain based in the United States, serving thousands of customers across various cities and countries. Known for its wide product range and affordable pricing, FreshMart has built a strong presence in both urban and suburban markets.\n",
        "\n",
        "As the company prepares for its next phase of growth, leadership wants to focus not just on adding new stores, but on increasing Total Sales Revenue from its existing network. This means a better understanding what drives revenue, from which products perform well, to how different regions, customer segments, and sales staff contribute to the bottom line.\n",
        "\n",
        "The company believes there are many untapped opportunities to grow sales. These may lie in:\n",
        "\n",
        "- how product categories perform across months,\n",
        "- which types of customers spend more,\n",
        "- how employees contribute to store-level sales,\n",
        "- which cities or countries have higher or lower sales, and\n",
        "- how discounts are influencing buying behavior."
      ]
    },
    {
      "cell_type": "markdown",
      "id": "0d124780",
      "metadata": {
        "id": "0d124780"
      },
      "source": [
        "### Key Metric: Total Sales Revenue"
      ]
    },
    {
      "cell_type": "markdown",
      "id": "292e7f69",
      "metadata": {
        "id": "292e7f69"
      },
      "source": [
        "$\\text{Total Sales Revenue} = \\text{Unit Price} \\times \\text{Quantity} \\times (1 - \\text{Discount})$. This metric helps measure how much money FreshMart is making from selling products after applying discounts."
      ]
    },
    {
      "cell_type": "markdown",
      "id": "f1e058e4",
      "metadata": {
        "id": "f1e058e4"
      },
      "source": [
        "### Objective"
      ]
    },
    {
      "cell_type": "markdown",
      "id": "f090ff06",
      "metadata": {
        "id": "f090ff06"
      },
      "source": [
        "The objective of this project is to:\n",
        "\n",
        "- Break down Total Sales Revenue into its core components such as product price, quantity sold, and discounts applied.\n",
        "- Explore how different product categories, classifications, and features contribute to revenue across time.\n",
        "- Segment customers based on order value, quantity purchased, and spending behavior.\n",
        "- Evaluate the performance of individual sales employees and understand how their contribution varies by region or time.\n",
        "- Compare city-wise and country-wise sales patterns to highlight high- and low-performing areas.\n",
        "- Analyse trends over time to understand when sales peak or drop, and how this differs by product or location."
      ]
    },
    {
      "cell_type": "markdown",
      "id": "2829805b",
      "metadata": {
        "id": "2829805b"
      },
      "source": [
        "# Dataset Overview"
      ]
    },
    {
      "cell_type": "markdown",
      "id": "6c48a995",
      "metadata": {
        "id": "6c48a995"
      },
      "source": [
        "- **Dataset Name:** FreshMart Analytics Dataset\n",
        "- **Number of Tables:** 7"
      ]
    },
    {
      "cell_type": "markdown",
      "id": "245ecbcc",
      "metadata": {
        "id": "245ecbcc"
      },
      "source": [
        "## Table Overviews"
      ]
    },
    {
      "cell_type": "markdown",
      "id": "67299299",
      "metadata": {
        "id": "67299299"
      },
      "source": [
        "### categories"
      ]
    },
    {
      "cell_type": "markdown",
      "id": "ec64311d",
      "metadata": {
        "id": "ec64311d"
      },
      "source": [
        "- **Table Name:** categories\n",
        "- **Number of rows:** 11\n",
        "- **Number of columns:** 2\n",
        "- **Description:** This table gives the different product categories that FreshMart sells."
      ]
    },
    {
      "cell_type": "markdown",
      "id": "be8e7cdd",
      "metadata": {
        "id": "be8e7cdd"
      },
      "source": [
        "### cities"
      ]
    },
    {
      "cell_type": "markdown",
      "id": "7d3e46ba",
      "metadata": {
        "id": "7d3e46ba"
      },
      "source": [
        "- **Table Name:** cities\n",
        "- **Number of rows:** 96\n",
        "- **Number of columns:** 4\n",
        "- **Description:** This table gives a list of cities and zipcodes FreshMart operates in."
      ]
    },
    {
      "cell_type": "markdown",
      "id": "c00c7d7a",
      "metadata": {
        "id": "c00c7d7a"
      },
      "source": [
        "### countries"
      ]
    },
    {
      "cell_type": "markdown",
      "id": "74583f8f",
      "metadata": {
        "id": "74583f8f"
      },
      "source": [
        "- **Table Name:** countries\n",
        "- **Number of rows:** 206\n",
        "- **Number of columns:** 3\n",
        "- **Description:** This table gives a list of countries FreshMart operates in."
      ]
    },
    {
      "cell_type": "markdown",
      "id": "913da6ec",
      "metadata": {
        "id": "913da6ec"
      },
      "source": [
        "### customers"
      ]
    },
    {
      "cell_type": "markdown",
      "id": "c4c46cce",
      "metadata": {
        "id": "c4c46cce"
      },
      "source": [
        "- **Table Name:** customers\n",
        "- **Number of rows:** 98759\n",
        "- **Number of columns:** 6\n",
        "- **Description:** This table gives details of FreshMart customers."
      ]
    },
    {
      "cell_type": "markdown",
      "id": "8a704790",
      "metadata": {
        "id": "8a704790"
      },
      "source": [
        "### employees"
      ]
    },
    {
      "cell_type": "markdown",
      "id": "e1f83c85",
      "metadata": {
        "id": "e1f83c85"
      },
      "source": [
        "- **Table Name:** employees\n",
        "- **Number of rows:** 23\n",
        "- **Number of columns:** 8\n",
        "- **Description:** This table gives details of FreshMart employees."
      ]
    },
    {
      "cell_type": "markdown",
      "id": "92beffd2",
      "metadata": {
        "id": "92beffd2"
      },
      "source": [
        "### products"
      ]
    },
    {
      "cell_type": "markdown",
      "id": "f25c8f4e",
      "metadata": {
        "id": "f25c8f4e"
      },
      "source": [
        "- **Table Name:** products\n",
        "- **Number of rows:** 452\n",
        "- **Number of columns:** 9\n",
        "- **Description:** This table gives details of the products sold by FreshMart."
      ]
    },
    {
      "cell_type": "markdown",
      "id": "2cd7363b",
      "metadata": {
        "id": "2cd7363b"
      },
      "source": [
        "### sales"
      ]
    },
    {
      "cell_type": "markdown",
      "id": "f2312a31",
      "metadata": {
        "id": "f2312a31"
      },
      "source": [
        "- **Table Name:** sales\n",
        "- **Number of rows:** 6758125\n",
        "- **Number of columns:** 9\n",
        "- **Description:** This table gives detailed transaction history of FreshMart."
      ]
    },
    {
      "cell_type": "markdown",
      "id": "e2bd019e",
      "metadata": {
        "id": "e2bd019e"
      },
      "source": [
        "## Column Definitions"
      ]
    },
    {
      "cell_type": "markdown",
      "id": "681bdceb",
      "metadata": {
        "id": "681bdceb"
      },
      "source": [
        "### categories"
      ]
    },
    {
      "cell_type": "markdown",
      "id": "70a77e3b",
      "metadata": {
        "id": "70a77e3b"
      },
      "source": [
        "* **CategoryID**\n",
        "    * Description: Unique identifier for each product category.\n",
        "    * Example: 1\n",
        "* **CategoryName**\n",
        "    * Description: Name of the product category.\n",
        "    * Example: Beverages"
      ]
    },
    {
      "cell_type": "markdown",
      "id": "cbeb5e0f",
      "metadata": {
        "id": "cbeb5e0f"
      },
      "source": [
        "### cities"
      ]
    },
    {
      "cell_type": "markdown",
      "id": "5a7e036c",
      "metadata": {
        "id": "5a7e036c"
      },
      "source": [
        "* **CityID**\n",
        "    * Description: Unique identifier for each city.\n",
        "    * Example: 101\n",
        "* **CityName**\n",
        "    * Description: Name of the city.\n",
        "    * Example: San Diego\n",
        "* **Zipcode**\n",
        "    * Description: Represents the zipcode the city is in.\n",
        "    * Example: 500000\n",
        "* **CountryID**\n",
        "    * Description: Reference to the corresponding country from countries.\n",
        "    * Example: 1"
      ]
    },
    {
      "cell_type": "markdown",
      "id": "24e74c29",
      "metadata": {
        "id": "24e74c29"
      },
      "source": [
        "### countries"
      ]
    },
    {
      "cell_type": "markdown",
      "id": "2bc7ac79",
      "metadata": {
        "id": "2bc7ac79"
      },
      "source": [
        "  * **CountryID**\n",
        "    * Description: Unique identifier for each country.\n",
        "    * Example: 1\n",
        "  * **CountryName**\n",
        "    * Description: Name of the country.\n",
        "    * Example: United States\n",
        "  * **CountryCode**\n",
        "    * Description: Two-letter country code.\n",
        "    * Example: US\n"
      ]
    },
    {
      "cell_type": "markdown",
      "id": "7c6be68f",
      "metadata": {
        "id": "7c6be68f"
      },
      "source": [
        "### customers"
      ]
    },
    {
      "cell_type": "markdown",
      "id": "27434801",
      "metadata": {
        "id": "27434801"
      },
      "source": [
        "  * **CustomerID**\n",
        "    * Description: Unique identifier for each customer.\n",
        "    * Example: 1001\n",
        "  * **FirstName**\n",
        "    * Description: First name of the customer.\n",
        "    * Example: Emma\n",
        "  * **MiddleInitial**\n",
        "    * Description: Middle initial of the customer.\n",
        "    * Example: A\n",
        "  * **LastName**\n",
        "    * Description: Last name of the customer.\n",
        "    * Example: Johnson\n",
        "  * **cityID**\n",
        "    * Description: City of the customer. Refers to cities.\n",
        "    * Example: 101\n",
        "  * **Address**\n",
        "    * Description: Residential address of the customer.\n",
        "    * Example: 123 Elm Street\n"
      ]
    },
    {
      "cell_type": "markdown",
      "id": "b53fd526",
      "metadata": {
        "id": "b53fd526"
      },
      "source": [
        "### employees"
      ]
    },
    {
      "cell_type": "markdown",
      "id": "24e309ab",
      "metadata": {
        "id": "24e309ab"
      },
      "source": [
        "  * **EmployeeID**\n",
        "    * Description: Unique identifier for each employee.\n",
        "    * Example: 501\n",
        "  * **FirstName**\n",
        "    * Description: First name of the employee.\n",
        "    * Example: Michael\n",
        "  * **MiddleInitial**\n",
        "    * Description: Middle initial of the employee.\n",
        "    * Example: B\n",
        "  * **LastName**\n",
        "    * Description: Last name of the employee.\n",
        "    * Example: Davis\n",
        "  * **BirthDate**\n",
        "    * Description: Date of birth of the employee in YYYY-MM-DD format.\n",
        "    * Example: 1985-07-14\n",
        "  * **Gender**\n",
        "    * Description: Gender of the employee.\n",
        "    * Example: Male\n",
        "  * **CityID**\n",
        "    * Description: City where the employee is based. Refers to cities.\n",
        "    * Example: 103\n",
        "  * **HireDate**\n",
        "    * Description: Date when the employee was hired.\n",
        "    * Example: 2021-04-01\n"
      ]
    },
    {
      "cell_type": "markdown",
      "id": "0067e78f",
      "metadata": {
        "id": "0067e78f"
      },
      "source": [
        "### products"
      ]
    },
    {
      "cell_type": "markdown",
      "id": "a4609b3a",
      "metadata": {
        "id": "a4609b3a"
      },
      "source": [
        "  * **ProductID**\n",
        "    * Description: Unique identifier for each product.\n",
        "    * Example: 301\n",
        "  * **ProductName**\n",
        "    * Description: Name of the product.\n",
        "    * Example: Organic Apple\n",
        "  * **Price**\n",
        "    * Description: Unit price of the product in USD.\n",
        "    * Example: 3.50\n",
        "  * **CategoryID**\n",
        "    * Description: Category reference for the product. Refers to categories.\n",
        "    * Example: 2\n",
        "  * **Class**\n",
        "    * Description: Classification type of the product (e.g., Standard, Premium).\n",
        "    * Example: Premium\n",
        "  * **ModifyDate**\n",
        "    * Description: Date when the product information was last updated.\n",
        "    * Example: 2023-06-01\n",
        "  * **Resistant**\n",
        "    * Description: Product resistance category.\n",
        "    * Example: Water-resistant\n",
        "  * **IsAllergic**\n",
        "    * Description: Indicates whether the item contains allergens.\n",
        "    * Example: No\n",
        "  * **VitalityDays**\n",
        "    * Description: Indicates the product's shelf life or freshness period.\n",
        "    * Example: 7\n"
      ]
    },
    {
      "cell_type": "markdown",
      "id": "a82d7e77",
      "metadata": {
        "id": "a82d7e77"
      },
      "source": [
        "### sales"
      ]
    },
    {
      "cell_type": "markdown",
      "id": "1919bea7",
      "metadata": {
        "id": "1919bea7"
      },
      "source": [
        "  * **SalesID**\n",
        "    * Description: Unique identifier for each sale.\n",
        "    * Example: 7001\n",
        "  * **SalesPersonID**\n",
        "    * Description: Employee responsible for the sale. Refers to employees.\n",
        "    * Example: 501\n",
        "  * **CustomerID**\n",
        "    * Description: Customer making the purchase. Refers to customers.\n",
        "    * Example: 1001\n",
        "  * **ProductID**\n",
        "    * Description: Product being sold. Refers to products.\n",
        "    * Example: 301\n",
        "  * **Quantity**\n",
        "    * Description: Number of product units sold.\n",
        "    * Example: 3\n",
        "  * **Discount**\n",
        "    * Description: Discount applied to this sale, shown as a decimal.\n",
        "    * Example: 0.10\n",
        "  * **TotalPrice**\n",
        "    * Description: Final sale price after applying discount.\n",
        "    * Example: 9.45\n",
        "  * **SalesDate**\n",
        "    * Description: Date and time of the sale in YYYY-MM-DD HH:MM:SS format.\n",
        "    * Example: 2024-05-15 14:32:00\n",
        "  * **TransactionNumber**\n",
        "    * Description: Unique identifier for the transaction.\n",
        "    * Example: TXN-20240515-0001\n"
      ]
    },
    {
      "cell_type": "markdown",
      "id": "05e0db31",
      "metadata": {
        "id": "05e0db31"
      },
      "source": [
        "## Relationships Between the Tables"
      ]
    },
    {
      "cell_type": "markdown",
      "id": "63d495da",
      "metadata": {
        "id": "63d495da"
      },
      "source": [
        "|Table 1| Key Column(s) | Table 2| Key Column(s)|\n",
        "|-------|--------------|---------|---------------|\n",
        "|sales|CustomerID|customers|CustomerID|\n",
        "|sales|ProductID|products|ProductID|\n",
        "|sales|SalesPersonID|employees|EmployeeID|\n",
        "|employees|CityID|cities|CityID|\n",
        "|customers|CityID|cities|CityID|\n",
        "|cities|CountryID|countries|CountryID|\n",
        "|products|CategoryID|categories|CategoryID|"
      ]
    },
    {
      "cell_type": "markdown",
      "id": "b0a796cb",
      "metadata": {
        "id": "b0a796cb"
      },
      "source": [
        "# Analysis & Visualisation"
      ]
    },
    {
      "cell_type": "markdown",
      "id": "ab1cb696",
      "metadata": {
        "id": "ab1cb696"
      },
      "source": [
        "## 1. Importing and Cleaning Data"
      ]
    },
    {
      "cell_type": "markdown",
      "id": "2373a402",
      "metadata": {
        "id": "2373a402"
      },
      "source": [
        "### Importing the Necessary Libraries"
      ]
    },
    {
      "cell_type": "markdown",
      "id": "e940fa94",
      "metadata": {
        "id": "e940fa94"
      },
      "source": [
        "#### Install the libraries"
      ]
    },
    {
      "cell_type": "code",
      "execution_count": 1,
      "id": "536745f0",
      "metadata": {
        "id": "536745f0",
        "outputId": "8a97257b-6f2c-43a3-97f8-186ff59afd4f",
        "colab": {
          "base_uri": "https://localhost:8080/"
        }
      },
      "outputs": [
        {
          "output_type": "stream",
          "name": "stdout",
          "text": [
            "Requirement already satisfied: gdown in /usr/local/lib/python3.11/dist-packages (5.2.0)\n",
            "Requirement already satisfied: beautifulsoup4 in /usr/local/lib/python3.11/dist-packages (from gdown) (4.13.4)\n",
            "Requirement already satisfied: filelock in /usr/local/lib/python3.11/dist-packages (from gdown) (3.18.0)\n",
            "Requirement already satisfied: requests[socks] in /usr/local/lib/python3.11/dist-packages (from gdown) (2.32.3)\n",
            "Requirement already satisfied: tqdm in /usr/local/lib/python3.11/dist-packages (from gdown) (4.67.1)\n",
            "Requirement already satisfied: soupsieve>1.2 in /usr/local/lib/python3.11/dist-packages (from beautifulsoup4->gdown) (2.7)\n",
            "Requirement already satisfied: typing-extensions>=4.0.0 in /usr/local/lib/python3.11/dist-packages (from beautifulsoup4->gdown) (4.14.0)\n",
            "Requirement already satisfied: charset-normalizer<4,>=2 in /usr/local/lib/python3.11/dist-packages (from requests[socks]->gdown) (3.4.2)\n",
            "Requirement already satisfied: idna<4,>=2.5 in /usr/local/lib/python3.11/dist-packages (from requests[socks]->gdown) (3.10)\n",
            "Requirement already satisfied: urllib3<3,>=1.21.1 in /usr/local/lib/python3.11/dist-packages (from requests[socks]->gdown) (2.4.0)\n",
            "Requirement already satisfied: certifi>=2017.4.17 in /usr/local/lib/python3.11/dist-packages (from requests[socks]->gdown) (2025.6.15)\n",
            "Requirement already satisfied: PySocks!=1.5.7,>=1.5.6 in /usr/local/lib/python3.11/dist-packages (from requests[socks]->gdown) (1.7.1)\n",
            "Requirement already satisfied: ipython in /usr/local/lib/python3.11/dist-packages (7.34.0)\n",
            "Requirement already satisfied: setuptools>=18.5 in /usr/local/lib/python3.11/dist-packages (from ipython) (75.2.0)\n",
            "Requirement already satisfied: jedi>=0.16 in /usr/local/lib/python3.11/dist-packages (from ipython) (0.19.2)\n",
            "Requirement already satisfied: decorator in /usr/local/lib/python3.11/dist-packages (from ipython) (4.4.2)\n",
            "Requirement already satisfied: pickleshare in /usr/local/lib/python3.11/dist-packages (from ipython) (0.7.5)\n",
            "Requirement already satisfied: traitlets>=4.2 in /usr/local/lib/python3.11/dist-packages (from ipython) (5.7.1)\n",
            "Requirement already satisfied: prompt-toolkit!=3.0.0,!=3.0.1,<3.1.0,>=2.0.0 in /usr/local/lib/python3.11/dist-packages (from ipython) (3.0.51)\n",
            "Requirement already satisfied: pygments in /usr/local/lib/python3.11/dist-packages (from ipython) (2.19.1)\n",
            "Requirement already satisfied: backcall in /usr/local/lib/python3.11/dist-packages (from ipython) (0.2.0)\n",
            "Requirement already satisfied: matplotlib-inline in /usr/local/lib/python3.11/dist-packages (from ipython) (0.1.7)\n",
            "Requirement already satisfied: pexpect>4.3 in /usr/local/lib/python3.11/dist-packages (from ipython) (4.9.0)\n",
            "Requirement already satisfied: parso<0.9.0,>=0.8.4 in /usr/local/lib/python3.11/dist-packages (from jedi>=0.16->ipython) (0.8.4)\n",
            "Requirement already satisfied: ptyprocess>=0.5 in /usr/local/lib/python3.11/dist-packages (from pexpect>4.3->ipython) (0.7.0)\n",
            "Requirement already satisfied: wcwidth in /usr/local/lib/python3.11/dist-packages (from prompt-toolkit!=3.0.0,!=3.0.1,<3.1.0,>=2.0.0->ipython) (0.2.13)\n",
            "Requirement already satisfied: pandas in /usr/local/lib/python3.11/dist-packages (2.2.2)\n",
            "Requirement already satisfied: numpy>=1.23.2 in /usr/local/lib/python3.11/dist-packages (from pandas) (2.0.2)\n",
            "Requirement already satisfied: python-dateutil>=2.8.2 in /usr/local/lib/python3.11/dist-packages (from pandas) (2.9.0.post0)\n",
            "Requirement already satisfied: pytz>=2020.1 in /usr/local/lib/python3.11/dist-packages (from pandas) (2025.2)\n",
            "Requirement already satisfied: tzdata>=2022.7 in /usr/local/lib/python3.11/dist-packages (from pandas) (2025.2)\n",
            "Requirement already satisfied: six>=1.5 in /usr/local/lib/python3.11/dist-packages (from python-dateutil>=2.8.2->pandas) (1.17.0)\n",
            "Requirement already satisfied: tabulate in /usr/local/lib/python3.11/dist-packages (0.9.0)\n",
            "Requirement already satisfied: seaborn in /usr/local/lib/python3.11/dist-packages (0.13.2)\n",
            "Requirement already satisfied: numpy!=1.24.0,>=1.20 in /usr/local/lib/python3.11/dist-packages (from seaborn) (2.0.2)\n",
            "Requirement already satisfied: pandas>=1.2 in /usr/local/lib/python3.11/dist-packages (from seaborn) (2.2.2)\n",
            "Requirement already satisfied: matplotlib!=3.6.1,>=3.4 in /usr/local/lib/python3.11/dist-packages (from seaborn) (3.10.0)\n",
            "Requirement already satisfied: contourpy>=1.0.1 in /usr/local/lib/python3.11/dist-packages (from matplotlib!=3.6.1,>=3.4->seaborn) (1.3.2)\n",
            "Requirement already satisfied: cycler>=0.10 in /usr/local/lib/python3.11/dist-packages (from matplotlib!=3.6.1,>=3.4->seaborn) (0.12.1)\n",
            "Requirement already satisfied: fonttools>=4.22.0 in /usr/local/lib/python3.11/dist-packages (from matplotlib!=3.6.1,>=3.4->seaborn) (4.58.4)\n",
            "Requirement already satisfied: kiwisolver>=1.3.1 in /usr/local/lib/python3.11/dist-packages (from matplotlib!=3.6.1,>=3.4->seaborn) (1.4.8)\n",
            "Requirement already satisfied: packaging>=20.0 in /usr/local/lib/python3.11/dist-packages (from matplotlib!=3.6.1,>=3.4->seaborn) (24.2)\n",
            "Requirement already satisfied: pillow>=8 in /usr/local/lib/python3.11/dist-packages (from matplotlib!=3.6.1,>=3.4->seaborn) (11.2.1)\n",
            "Requirement already satisfied: pyparsing>=2.3.1 in /usr/local/lib/python3.11/dist-packages (from matplotlib!=3.6.1,>=3.4->seaborn) (3.2.3)\n",
            "Requirement already satisfied: python-dateutil>=2.7 in /usr/local/lib/python3.11/dist-packages (from matplotlib!=3.6.1,>=3.4->seaborn) (2.9.0.post0)\n",
            "Requirement already satisfied: pytz>=2020.1 in /usr/local/lib/python3.11/dist-packages (from pandas>=1.2->seaborn) (2025.2)\n",
            "Requirement already satisfied: tzdata>=2022.7 in /usr/local/lib/python3.11/dist-packages (from pandas>=1.2->seaborn) (2025.2)\n",
            "Requirement already satisfied: six>=1.5 in /usr/local/lib/python3.11/dist-packages (from python-dateutil>=2.7->matplotlib!=3.6.1,>=3.4->seaborn) (1.17.0)\n",
            "Requirement already satisfied: matplotlib in /usr/local/lib/python3.11/dist-packages (3.10.0)\n",
            "Requirement already satisfied: contourpy>=1.0.1 in /usr/local/lib/python3.11/dist-packages (from matplotlib) (1.3.2)\n",
            "Requirement already satisfied: cycler>=0.10 in /usr/local/lib/python3.11/dist-packages (from matplotlib) (0.12.1)\n",
            "Requirement already satisfied: fonttools>=4.22.0 in /usr/local/lib/python3.11/dist-packages (from matplotlib) (4.58.4)\n",
            "Requirement already satisfied: kiwisolver>=1.3.1 in /usr/local/lib/python3.11/dist-packages (from matplotlib) (1.4.8)\n",
            "Requirement already satisfied: numpy>=1.23 in /usr/local/lib/python3.11/dist-packages (from matplotlib) (2.0.2)\n",
            "Requirement already satisfied: packaging>=20.0 in /usr/local/lib/python3.11/dist-packages (from matplotlib) (24.2)\n",
            "Requirement already satisfied: pillow>=8 in /usr/local/lib/python3.11/dist-packages (from matplotlib) (11.2.1)\n",
            "Requirement already satisfied: pyparsing>=2.3.1 in /usr/local/lib/python3.11/dist-packages (from matplotlib) (3.2.3)\n",
            "Requirement already satisfied: python-dateutil>=2.7 in /usr/local/lib/python3.11/dist-packages (from matplotlib) (2.9.0.post0)\n",
            "Requirement already satisfied: six>=1.5 in /usr/local/lib/python3.11/dist-packages (from python-dateutil>=2.7->matplotlib) (1.17.0)\n",
            "Requirement already satisfied: python-dateutil in /usr/local/lib/python3.11/dist-packages (2.9.0.post0)\n",
            "Requirement already satisfied: six>=1.5 in /usr/local/lib/python3.11/dist-packages (from python-dateutil) (1.17.0)\n"
          ]
        }
      ],
      "source": [
        "# To download files from Google Drive\n",
        "%pip install gdown\n",
        "\n",
        "# To get output in markdown format\n",
        "%pip install ipython\n",
        "\n",
        "# To work with dataframes\n",
        "%pip install pandas\n",
        "\n",
        "# To display dataframes in markdown text\n",
        "%pip install tabulate\n",
        "\n",
        "# To plot graphs and heatmaps\n",
        "%pip install seaborn\n",
        "%pip install matplotlib\n",
        "\n",
        "# To work with intervals in time\n",
        "%pip install python-dateutil"
      ]
    },
    {
      "cell_type": "markdown",
      "id": "8b74237f",
      "metadata": {
        "id": "8b74237f"
      },
      "source": [
        "#### Import the libraries"
      ]
    },
    {
      "cell_type": "code",
      "execution_count": 2,
      "id": "2c483088",
      "metadata": {
        "id": "2c483088"
      },
      "outputs": [],
      "source": [
        "import gdown\n",
        "import os\n",
        "from IPython.display import display, Markdown\n",
        "import pandas as pd\n",
        "import seaborn as sns\n",
        "import matplotlib.pyplot as plt\n",
        "from datetime import datetime\n",
        "from dateutil.relativedelta import relativedelta"
      ]
    },
    {
      "cell_type": "markdown",
      "id": "7ac521fb",
      "metadata": {
        "id": "7ac521fb"
      },
      "source": [
        "### Loading the Dataset from Google Drive"
      ]
    },
    {
      "cell_type": "code",
      "execution_count": 3,
      "id": "18d4c541",
      "metadata": {
        "id": "18d4c541"
      },
      "outputs": [],
      "source": [
        "FOLDER_URL = 'https://drive.google.com/drive/folders/1FcrdY8uZLE04-U5K2dqnjhDJVenFwGlk' # The Google Drive folder URL\n",
        "DOWNLOAD_DIRECTORY = os.path.abspath(os.path.join(os.getcwd(), \"..\", \"Dataset\")) # The directory where the downloaded CSVs will be stored, you can adjust it to your choice but all further analysis will be done based on this directory structure."
      ]
    },
    {
      "cell_type": "code",
      "execution_count": 4,
      "id": "19eb1246",
      "metadata": {
        "id": "19eb1246",
        "outputId": "9fff0dd5-6e72-4de2-83fa-86c731cd37bd",
        "colab": {
          "base_uri": "https://localhost:8080/",
          "height": 844
        }
      },
      "outputs": [
        {
          "output_type": "stream",
          "name": "stderr",
          "text": [
            "Retrieving folder contents\n"
          ]
        },
        {
          "output_type": "stream",
          "name": "stdout",
          "text": [
            "Processing file 1YXDRMoyROteD_fdwNZBOGiIFJam-SxkD categories.csv\n",
            "Processing file 1RjUGDpmjfyesPFFVXCkWzarpCQkQqB-6 cities.csv\n",
            "Processing file 16U5aSAhje_3DhVzs9ZxL5RzGYXW-ObHL countries.csv\n",
            "Processing file 1NUljelPD7QNj2P8lpfw_GFVEMn3qIBpI customers.csv\n",
            "Processing file 1DSEnfhO6DCa3TM5j4ovYSPbpxnBwPPF0 employees.csv\n",
            "Processing file 1N5XsqeCFzK7qNRVgM3Xr-DsKpcLxSqsN products.csv\n",
            "Processing file 1nlHb3oxJTxPTq5b92qDLdNqL2GIbXV8y sales.csv\n",
            "Processing file 11yrmB_GvrcFTpsGAI0RJaakl6hxEmJvV Screenshot 2025-06-06 at 1.43.51 AM.jpg\n"
          ]
        },
        {
          "output_type": "stream",
          "name": "stderr",
          "text": [
            "Retrieving folder contents completed\n",
            "Building directory structure\n",
            "Building directory structure completed\n",
            "Downloading...\n",
            "From: https://drive.google.com/uc?id=1YXDRMoyROteD_fdwNZBOGiIFJam-SxkD\n",
            "To: /Dataset/categories.csv\n",
            "100%|██████████| 137/137 [00:00<00:00, 363kB/s]\n",
            "Downloading...\n",
            "From: https://drive.google.com/uc?id=1RjUGDpmjfyesPFFVXCkWzarpCQkQqB-6\n",
            "To: /Dataset/cities.csv\n",
            "100%|██████████| 2.17k/2.17k [00:00<00:00, 5.80MB/s]\n",
            "Downloading...\n",
            "From: https://drive.google.com/uc?id=16U5aSAhje_3DhVzs9ZxL5RzGYXW-ObHL\n",
            "To: /Dataset/countries.csv\n",
            "100%|██████████| 3.18k/3.18k [00:00<00:00, 3.48MB/s]\n",
            "Downloading...\n",
            "From: https://drive.google.com/uc?id=1NUljelPD7QNj2P8lpfw_GFVEMn3qIBpI\n",
            "To: /Dataset/customers.csv\n",
            "100%|██████████| 4.44M/4.44M [00:00<00:00, 29.2MB/s]\n",
            "Downloading...\n",
            "From: https://drive.google.com/uc?id=1DSEnfhO6DCa3TM5j4ovYSPbpxnBwPPF0\n",
            "To: /Dataset/employees.csv\n",
            "100%|██████████| 1.72k/1.72k [00:00<00:00, 5.27MB/s]\n",
            "Downloading...\n",
            "From: https://drive.google.com/uc?id=1N5XsqeCFzK7qNRVgM3Xr-DsKpcLxSqsN\n",
            "To: /Dataset/products.csv\n",
            "100%|██████████| 36.8k/36.8k [00:00<00:00, 24.7MB/s]\n",
            "Downloading...\n",
            "From (original): https://drive.google.com/uc?id=1nlHb3oxJTxPTq5b92qDLdNqL2GIbXV8y\n",
            "From (redirected): https://drive.google.com/uc?id=1nlHb3oxJTxPTq5b92qDLdNqL2GIbXV8y&confirm=t&uuid=26dfb903-6df4-434b-81cc-464591fa9e5f\n",
            "To: /Dataset/sales.csv\n",
            "100%|██████████| 517M/517M [00:09<00:00, 55.4MB/s]\n",
            "Downloading...\n",
            "From: https://drive.google.com/uc?id=11yrmB_GvrcFTpsGAI0RJaakl6hxEmJvV\n",
            "To: /Dataset/Screenshot 2025-06-06 at 1.43.51 AM.jpg\n",
            "100%|██████████| 61.9k/61.9k [00:00<00:00, 2.95MB/s]\n",
            "Download completed\n"
          ]
        },
        {
          "output_type": "display_data",
          "data": {
            "text/plain": [
              "<IPython.core.display.Markdown object>"
            ],
            "text/markdown": "Removed non-CSV file: Screenshot 2025-06-06 at 1.43.51 AM.jpg"
          },
          "metadata": {}
        }
      ],
      "source": [
        "# This snippet will download all the contents from the Google Drive Folder\n",
        "\n",
        "# Make the download directory if it doesn't exist\n",
        "os.makedirs(DOWNLOAD_DIRECTORY, exist_ok=True)\n",
        "\n",
        "# Download all the contents of the Google Drive folder\n",
        "gdown.download_folder(url=FOLDER_URL, output=DOWNLOAD_DIRECTORY, quiet=False, use_cookies=False)\n",
        "\n",
        "# Delete all of the non-CSV files\n",
        "for filename in os.listdir(DOWNLOAD_DIRECTORY):\n",
        "    if not filename.lower().endswith(\".csv\"):\n",
        "        file_path = os.path.join(DOWNLOAD_DIRECTORY , filename)\n",
        "        os.remove(file_path)\n",
        "        display(Markdown(f\"Removed non-CSV file: {filename}\"))\n"
      ]
    },
    {
      "cell_type": "code",
      "execution_count": 5,
      "id": "8df272cd",
      "metadata": {
        "id": "8df272cd",
        "outputId": "456ee24f-fe5f-45d2-cd08-aea92062a927",
        "colab": {
          "base_uri": "https://localhost:8080/",
          "height": 186
        }
      },
      "outputs": [
        {
          "output_type": "display_data",
          "data": {
            "text/plain": [
              "<IPython.core.display.Markdown object>"
            ],
            "text/markdown": "Loaded: `products.csv` -> key=`'products'`"
          },
          "metadata": {}
        },
        {
          "output_type": "display_data",
          "data": {
            "text/plain": [
              "<IPython.core.display.Markdown object>"
            ],
            "text/markdown": "Loaded: `employees.csv` -> key=`'employees'`"
          },
          "metadata": {}
        },
        {
          "output_type": "display_data",
          "data": {
            "text/plain": [
              "<IPython.core.display.Markdown object>"
            ],
            "text/markdown": "Loaded: `cities.csv` -> key=`'cities'`"
          },
          "metadata": {}
        },
        {
          "output_type": "display_data",
          "data": {
            "text/plain": [
              "<IPython.core.display.Markdown object>"
            ],
            "text/markdown": "Loaded: `countries.csv` -> key=`'countries'`"
          },
          "metadata": {}
        },
        {
          "output_type": "display_data",
          "data": {
            "text/plain": [
              "<IPython.core.display.Markdown object>"
            ],
            "text/markdown": "Loaded: `customers.csv` -> key=`'customers'`"
          },
          "metadata": {}
        },
        {
          "output_type": "display_data",
          "data": {
            "text/plain": [
              "<IPython.core.display.Markdown object>"
            ],
            "text/markdown": "Loaded: `sales.csv` -> key=`'sales'`"
          },
          "metadata": {}
        },
        {
          "output_type": "display_data",
          "data": {
            "text/plain": [
              "<IPython.core.display.Markdown object>"
            ],
            "text/markdown": "Loaded: `categories.csv` -> key=`'categories'`"
          },
          "metadata": {}
        }
      ],
      "source": [
        "# This snippet will load all the CSVs into dataframes\n",
        "\n",
        "dataset = {} # The dataframes will be stored in a dictionary to make it easier to loop through all of them\n",
        "\n",
        "for filename in os.listdir(DOWNLOAD_DIRECTORY):\n",
        "    if filename.endswith('.csv'):\n",
        "        key = os.path.splitext(filename)[0] # Extracting the key for each file where the key is the filename without the .csv\n",
        "        file_path = os.path.join(DOWNLOAD_DIRECTORY, filename) # Determining the path of each file in the DOWNLOAD_DIRECTORY\n",
        "        df = pd.read_csv(file_path) # Reading each CSV into a dataframe\n",
        "        dataset[key] = df\n",
        "        display(Markdown(f\"Loaded: `{filename}` -> key=`'{key}'`\"))"
      ]
    },
    {
      "cell_type": "markdown",
      "id": "214a5808",
      "metadata": {
        "id": "214a5808"
      },
      "source": [
        "####  Viewing the First Few Rows of each Table in the Dataset"
      ]
    },
    {
      "cell_type": "code",
      "execution_count": 6,
      "id": "064498af",
      "metadata": {
        "id": "064498af",
        "outputId": "fae1ae0e-2c0e-4801-ed9c-94fbbc951fff",
        "colab": {
          "base_uri": "https://localhost:8080/",
          "height": 1000
        }
      },
      "outputs": [
        {
          "output_type": "display_data",
          "data": {
            "text/plain": [
              "<IPython.core.display.Markdown object>"
            ],
            "text/markdown": "The first 5 rows of each table in the dataset:"
          },
          "metadata": {}
        },
        {
          "output_type": "display_data",
          "data": {
            "text/plain": [
              "<IPython.core.display.Markdown object>"
            ],
            "text/markdown": "##### products"
          },
          "metadata": {}
        },
        {
          "output_type": "display_data",
          "data": {
            "text/plain": [
              "<IPython.core.display.Markdown object>"
            ],
            "text/markdown": "|   ProductID | ProductName                |   Price |   CategoryID | Class   | ModifyDate              | Resistant   | IsAllergic   |   VitalityDays |\n|------------:|:---------------------------|--------:|-------------:|:--------|:------------------------|:------------|:-------------|---------------:|\n|           1 | Flour - Whole Wheat        | 74.2988 |            3 | Medium  | 2018-02-16 08:21:49.190 | Durable     | Unknown      |              0 |\n|           2 | Cookie Chocolate Chip With | 91.2329 |            3 | Medium  | 2017-02-12 11:39:10.970 | Unknown     | Unknown      |              0 |\n|           3 | Onions - Cippolini         |  9.1379 |            9 | Medium  | 2018-03-15 08:11:51.560 | Weak        | False        |            111 |\n|           4 | Sauce - Gravy, Au Jus, Mix | 54.3055 |            9 | Medium  | 2017-07-16 00:46:28.880 | Durable     | Unknown      |              0 |\n|           5 | Artichokes - Jerusalem     | 65.4771 |            2 | Low     | 2017-08-16 14:13:35.430 | Durable     | True         |             27 |"
          },
          "metadata": {}
        },
        {
          "output_type": "display_data",
          "data": {
            "text/plain": [
              "<IPython.core.display.Markdown object>"
            ],
            "text/markdown": "##### employees"
          },
          "metadata": {}
        },
        {
          "output_type": "display_data",
          "data": {
            "text/plain": [
              "<IPython.core.display.Markdown object>"
            ],
            "text/markdown": "|   EmployeeID | FirstName   | MiddleInitial   | LastName   | BirthDate               | Gender   |   CityID | HireDate                |\n|-------------:|:------------|:----------------|:-----------|:------------------------|:---------|---------:|:------------------------|\n|            1 | Nicole      | T               | Fuller     | 1981-03-07 00:00:00.000 | F        |       80 | 2011-06-20 07:15:36.920 |\n|            2 | Christine   | W               | Palmer     | 1968-01-25 00:00:00.000 | F        |        4 | 2011-04-27 04:07:56.930 |\n|            3 | Pablo       | Y               | Cline      | 1963-02-09 00:00:00.000 | M        |       70 | 2012-03-30 18:55:23.270 |\n|            4 | Darnell     | O               | Nielsen    | 1989-02-06 00:00:00.000 | M        |       39 | 2014-03-06 06:55:02.780 |\n|            5 | Desiree     | L               | Stuart     | 1963-05-03 00:00:00.000 | F        |       23 | 2014-11-16 22:59:54.720 |"
          },
          "metadata": {}
        },
        {
          "output_type": "display_data",
          "data": {
            "text/plain": [
              "<IPython.core.display.Markdown object>"
            ],
            "text/markdown": "##### cities"
          },
          "metadata": {}
        },
        {
          "output_type": "display_data",
          "data": {
            "text/plain": [
              "<IPython.core.display.Markdown object>"
            ],
            "text/markdown": "|   CityID | CityName       |   Zipcode |   CountryID |\n|---------:|:---------------|----------:|------------:|\n|        1 | Dayton         |     80563 |          32 |\n|        2 | Buffalo        |     17420 |          32 |\n|        3 | Chicago        |     44751 |          32 |\n|        4 | Fremont        |     20641 |          32 |\n|        5 | Virginia Beach |     62389 |          32 |"
          },
          "metadata": {}
        },
        {
          "output_type": "display_data",
          "data": {
            "text/plain": [
              "<IPython.core.display.Markdown object>"
            ],
            "text/markdown": "##### countries"
          },
          "metadata": {}
        },
        {
          "output_type": "display_data",
          "data": {
            "text/plain": [
              "<IPython.core.display.Markdown object>"
            ],
            "text/markdown": "|   CountryID | CountryName   | CountryCode   |\n|------------:|:--------------|:--------------|\n|           1 | Armenia       | AN            |\n|           2 | Canada        | FO            |\n|           3 | Belize        | MK            |\n|           4 | Uganda        | LV            |\n|           5 | Thailand      | VI            |"
          },
          "metadata": {}
        },
        {
          "output_type": "display_data",
          "data": {
            "text/plain": [
              "<IPython.core.display.Markdown object>"
            ],
            "text/markdown": "##### customers"
          },
          "metadata": {}
        },
        {
          "output_type": "display_data",
          "data": {
            "text/plain": [
              "<IPython.core.display.Markdown object>"
            ],
            "text/markdown": "|   CustomerID | FirstName   | MiddleInitial   | LastName   |   CityID | Address                      |\n|-------------:|:------------|:----------------|:-----------|---------:|:-----------------------------|\n|            1 | Stefanie    | Y               | Frye       |       79 | 97 Oak Avenue                |\n|            2 | Sandy       | T               | Kirby      |       96 | 52 White First Freeway       |\n|            3 | Lee         | T               | Zhang      |       55 | 921 White Fabien Avenue      |\n|            4 | Regina      | S               | Avery      |       40 | 75 Old Avenue                |\n|            5 | Daniel      | S               | Mccann     |        2 | 283 South Green Hague Avenue |"
          },
          "metadata": {}
        },
        {
          "output_type": "display_data",
          "data": {
            "text/plain": [
              "<IPython.core.display.Markdown object>"
            ],
            "text/markdown": "##### sales"
          },
          "metadata": {}
        },
        {
          "output_type": "display_data",
          "data": {
            "text/plain": [
              "<IPython.core.display.Markdown object>"
            ],
            "text/markdown": "|   SalesID |   SalesPersonID |   CustomerID |   ProductID |   Quantity |   Discount |   TotalPrice | SalesDate               | TransactionNumber    |\n|----------:|----------------:|-------------:|------------:|-----------:|-----------:|-------------:|:------------------------|:---------------------|\n|         1 |               6 |        27039 |         381 |          7 |        0   |            0 | 2018-02-05 07:38:25.430 | FQL4S94E4ME1EZFTG42G |\n|         2 |              16 |        25011 |          61 |          7 |        0   |            0 | 2018-02-02 16:03:31.150 | 12UGLX40DJ1A5DTFBHB8 |\n|         3 |              13 |        94024 |          23 |         24 |        0   |            0 | 2018-05-03 19:31:56.880 | 5DT8RCPL87KI5EORO7B0 |\n|         4 |               8 |        73966 |         176 |         19 |        0.2 |            0 | 2018-04-07 14:43:55.420 | R3DR9MLD5NR76VO17ULE |\n|         5 |              10 |        32653 |         310 |          9 |        0   |            0 | 2018-02-12 15:37:03.940 | 4BGS0Z5OMAZ8NDAFHHP3 |"
          },
          "metadata": {}
        },
        {
          "output_type": "display_data",
          "data": {
            "text/plain": [
              "<IPython.core.display.Markdown object>"
            ],
            "text/markdown": "##### categories"
          },
          "metadata": {}
        },
        {
          "output_type": "display_data",
          "data": {
            "text/plain": [
              "<IPython.core.display.Markdown object>"
            ],
            "text/markdown": "|   CategoryID | CategoryName   |\n|-------------:|:---------------|\n|            1 | Confections    |\n|            2 | Shell fish     |\n|            3 | Cereals        |\n|            4 | Dairy          |\n|            5 | Beverages      |"
          },
          "metadata": {}
        }
      ],
      "source": [
        "display(Markdown(\"The first 5 rows of each table in the dataset:\"))\n",
        "for key, df in dataset.items():\n",
        "    display(Markdown(f\"##### {key}\"))\n",
        "    display(Markdown(df.head().to_markdown(index=False)))"
      ]
    },
    {
      "cell_type": "markdown",
      "id": "71603420",
      "metadata": {
        "id": "71603420"
      },
      "source": [
        "### Checking the Shape of the Dataset"
      ]
    },
    {
      "cell_type": "code",
      "execution_count": 7,
      "id": "16ca9888",
      "metadata": {
        "id": "16ca9888",
        "outputId": "c76725e5-0672-4158-be80-f900d2371131",
        "colab": {
          "base_uri": "https://localhost:8080/",
          "height": 0
        }
      },
      "outputs": [
        {
          "output_type": "display_data",
          "data": {
            "text/plain": [
              "<IPython.core.display.Markdown object>"
            ],
            "text/markdown": "The following table shows how many rows and columns are in each table of the dataset:"
          },
          "metadata": {}
        },
        {
          "output_type": "display_data",
          "data": {
            "text/plain": [
              "<IPython.core.display.Markdown object>"
            ],
            "text/markdown": "|Table|# Rows|# Columns| \n |-----|-------|---------| \n|products|452|9|\n|employees|23|8|\n|cities|96|4|\n|countries|206|3|\n|customers|98759|6|\n|sales|6758125|9|\n|categories|11|2|\n"
          },
          "metadata": {}
        }
      ],
      "source": [
        "display(Markdown(\"The following table shows how many rows and columns are in each table of the dataset:\"))\n",
        "markdown_text = \"|Table|# Rows|# Columns| \\n |-----|-------|---------| \\n\"\n",
        "for key, df in dataset.items():\n",
        "    markdown_text += f\"|{key}|{df.shape[0]}|{df.shape[1]}|\\n\" # The shape method shows the size of the dataframe\n",
        "display(Markdown(markdown_text))"
      ]
    },
    {
      "cell_type": "markdown",
      "id": "2200ecb4",
      "metadata": {
        "id": "2200ecb4"
      },
      "source": [
        "### Displaying Dataset Information"
      ]
    },
    {
      "cell_type": "code",
      "execution_count": 8,
      "id": "21eb4b58",
      "metadata": {
        "id": "21eb4b58",
        "outputId": "e1ea2809-5ed5-4104-8a30-1fad9b174767",
        "colab": {
          "base_uri": "https://localhost:8080/",
          "height": 0
        }
      },
      "outputs": [
        {
          "output_type": "display_data",
          "data": {
            "text/plain": [
              "<IPython.core.display.Markdown object>"
            ],
            "text/markdown": "Table information for products:"
          },
          "metadata": {}
        },
        {
          "output_type": "stream",
          "name": "stdout",
          "text": [
            "<class 'pandas.core.frame.DataFrame'>\n",
            "RangeIndex: 452 entries, 0 to 451\n",
            "Data columns (total 9 columns):\n",
            " #   Column        Non-Null Count  Dtype  \n",
            "---  ------        --------------  -----  \n",
            " 0   ProductID     452 non-null    int64  \n",
            " 1   ProductName   452 non-null    object \n",
            " 2   Price         452 non-null    float64\n",
            " 3   CategoryID    452 non-null    int64  \n",
            " 4   Class         452 non-null    object \n",
            " 5   ModifyDate    452 non-null    object \n",
            " 6   Resistant     452 non-null    object \n",
            " 7   IsAllergic    452 non-null    object \n",
            " 8   VitalityDays  452 non-null    float64\n",
            "dtypes: float64(2), int64(2), object(5)\n",
            "memory usage: 31.9+ KB\n"
          ]
        },
        {
          "output_type": "display_data",
          "data": {
            "text/plain": [
              "<IPython.core.display.Markdown object>"
            ],
            "text/markdown": "Table information for employees:"
          },
          "metadata": {}
        },
        {
          "output_type": "stream",
          "name": "stdout",
          "text": [
            "<class 'pandas.core.frame.DataFrame'>\n",
            "RangeIndex: 23 entries, 0 to 22\n",
            "Data columns (total 8 columns):\n",
            " #   Column         Non-Null Count  Dtype \n",
            "---  ------         --------------  ----- \n",
            " 0   EmployeeID     23 non-null     int64 \n",
            " 1   FirstName      23 non-null     object\n",
            " 2   MiddleInitial  23 non-null     object\n",
            " 3   LastName       23 non-null     object\n",
            " 4   BirthDate      23 non-null     object\n",
            " 5   Gender         23 non-null     object\n",
            " 6   CityID         23 non-null     int64 \n",
            " 7   HireDate       23 non-null     object\n",
            "dtypes: int64(2), object(6)\n",
            "memory usage: 1.6+ KB\n"
          ]
        },
        {
          "output_type": "display_data",
          "data": {
            "text/plain": [
              "<IPython.core.display.Markdown object>"
            ],
            "text/markdown": "Table information for cities:"
          },
          "metadata": {}
        },
        {
          "output_type": "stream",
          "name": "stdout",
          "text": [
            "<class 'pandas.core.frame.DataFrame'>\n",
            "RangeIndex: 96 entries, 0 to 95\n",
            "Data columns (total 4 columns):\n",
            " #   Column     Non-Null Count  Dtype \n",
            "---  ------     --------------  ----- \n",
            " 0   CityID     96 non-null     int64 \n",
            " 1   CityName   96 non-null     object\n",
            " 2   Zipcode    96 non-null     int64 \n",
            " 3   CountryID  96 non-null     int64 \n",
            "dtypes: int64(3), object(1)\n",
            "memory usage: 3.1+ KB\n"
          ]
        },
        {
          "output_type": "display_data",
          "data": {
            "text/plain": [
              "<IPython.core.display.Markdown object>"
            ],
            "text/markdown": "Table information for countries:"
          },
          "metadata": {}
        },
        {
          "output_type": "stream",
          "name": "stdout",
          "text": [
            "<class 'pandas.core.frame.DataFrame'>\n",
            "RangeIndex: 206 entries, 0 to 205\n",
            "Data columns (total 3 columns):\n",
            " #   Column       Non-Null Count  Dtype \n",
            "---  ------       --------------  ----- \n",
            " 0   CountryID    206 non-null    int64 \n",
            " 1   CountryName  206 non-null    object\n",
            " 2   CountryCode  205 non-null    object\n",
            "dtypes: int64(1), object(2)\n",
            "memory usage: 5.0+ KB\n"
          ]
        },
        {
          "output_type": "display_data",
          "data": {
            "text/plain": [
              "<IPython.core.display.Markdown object>"
            ],
            "text/markdown": "Table information for customers:"
          },
          "metadata": {}
        },
        {
          "output_type": "stream",
          "name": "stdout",
          "text": [
            "<class 'pandas.core.frame.DataFrame'>\n",
            "RangeIndex: 98759 entries, 0 to 98758\n",
            "Data columns (total 6 columns):\n",
            " #   Column         Non-Null Count  Dtype \n",
            "---  ------         --------------  ----- \n",
            " 0   CustomerID     98759 non-null  int64 \n",
            " 1   FirstName      98759 non-null  object\n",
            " 2   MiddleInitial  97782 non-null  object\n",
            " 3   LastName       98759 non-null  object\n",
            " 4   CityID         98759 non-null  int64 \n",
            " 5   Address        98759 non-null  object\n",
            "dtypes: int64(2), object(4)\n",
            "memory usage: 4.5+ MB\n"
          ]
        },
        {
          "output_type": "display_data",
          "data": {
            "text/plain": [
              "<IPython.core.display.Markdown object>"
            ],
            "text/markdown": "Table information for sales:"
          },
          "metadata": {}
        },
        {
          "output_type": "stream",
          "name": "stdout",
          "text": [
            "<class 'pandas.core.frame.DataFrame'>\n",
            "RangeIndex: 6758125 entries, 0 to 6758124\n",
            "Data columns (total 9 columns):\n",
            " #   Column             Dtype  \n",
            "---  ------             -----  \n",
            " 0   SalesID            int64  \n",
            " 1   SalesPersonID      int64  \n",
            " 2   CustomerID         int64  \n",
            " 3   ProductID          int64  \n",
            " 4   Quantity           int64  \n",
            " 5   Discount           float64\n",
            " 6   TotalPrice         float64\n",
            " 7   SalesDate          object \n",
            " 8   TransactionNumber  object \n",
            "dtypes: float64(2), int64(5), object(2)\n",
            "memory usage: 464.0+ MB\n"
          ]
        },
        {
          "output_type": "display_data",
          "data": {
            "text/plain": [
              "<IPython.core.display.Markdown object>"
            ],
            "text/markdown": "Table information for categories:"
          },
          "metadata": {}
        },
        {
          "output_type": "stream",
          "name": "stdout",
          "text": [
            "<class 'pandas.core.frame.DataFrame'>\n",
            "RangeIndex: 11 entries, 0 to 10\n",
            "Data columns (total 2 columns):\n",
            " #   Column        Non-Null Count  Dtype \n",
            "---  ------        --------------  ----- \n",
            " 0   CategoryID    11 non-null     int64 \n",
            " 1   CategoryName  11 non-null     object\n",
            "dtypes: int64(1), object(1)\n",
            "memory usage: 308.0+ bytes\n"
          ]
        }
      ],
      "source": [
        "for key, df in dataset.items():\n",
        "    display(Markdown(f'Table information for {key}:'))\n",
        "    df.info()"
      ]
    },
    {
      "cell_type": "markdown",
      "id": "19c00092",
      "metadata": {
        "id": "19c00092"
      },
      "source": [
        "### Checking for Duplicate Values in the Dataset"
      ]
    },
    {
      "cell_type": "code",
      "execution_count": 9,
      "id": "e3e649c6",
      "metadata": {
        "id": "e3e649c6",
        "outputId": "fac570cb-f02b-4fa0-b740-df958ce40e12",
        "colab": {
          "base_uri": "https://localhost:8080/",
          "height": 0
        }
      },
      "outputs": [
        {
          "output_type": "display_data",
          "data": {
            "text/plain": [
              "<IPython.core.display.Markdown object>"
            ],
            "text/markdown": "The below table shows the number of duplicate rows for each table in the dataset:"
          },
          "metadata": {}
        },
        {
          "output_type": "display_data",
          "data": {
            "text/plain": [
              "<IPython.core.display.Markdown object>"
            ],
            "text/markdown": "|Table|Duplicate Rows| \n |----|------| \n|products|0| \n|employees|0| \n|cities|0| \n|countries|0| \n|customers|0| \n|sales|0| \n|categories|0| \n"
          },
          "metadata": {}
        }
      ],
      "source": [
        "display(Markdown(\"The below table shows the number of duplicate rows for each table in the dataset:\"))\n",
        "markdown_text = '|Table|Duplicate Rows| \\n |----|------| \\n'\n",
        "for key, df in dataset.items():\n",
        "    markdown_text += f'|{key}|{len(df[df.duplicated()])}| \\n' # The duplicated() method shows which rows are duplicate\n",
        "display(Markdown(markdown_text))"
      ]
    },
    {
      "cell_type": "markdown",
      "id": "1767f205",
      "metadata": {
        "id": "1767f205"
      },
      "source": [
        "### Checking for Missing / Null Values"
      ]
    },
    {
      "cell_type": "code",
      "execution_count": 10,
      "id": "9fd46747",
      "metadata": {
        "id": "9fd46747",
        "outputId": "5279e135-1367-485f-b55d-1aaa376f1155",
        "colab": {
          "base_uri": "https://localhost:8080/",
          "height": 0
        }
      },
      "outputs": [
        {
          "output_type": "display_data",
          "data": {
            "text/plain": [
              "<IPython.core.display.Markdown object>"
            ],
            "text/markdown": "The below tables will show how many missing values in each of column of each table:"
          },
          "metadata": {}
        },
        {
          "output_type": "display_data",
          "data": {
            "text/plain": [
              "<IPython.core.display.Markdown object>"
            ],
            "text/markdown": "##### products"
          },
          "metadata": {}
        },
        {
          "output_type": "display_data",
          "data": {
            "text/plain": [
              "<IPython.core.display.Markdown object>"
            ],
            "text/markdown": "| Column Name   |   # of Missing Values |\n|:--------------|----------------------:|\n| ProductID     |                     0 |\n| ProductName   |                     0 |\n| Price         |                     0 |\n| CategoryID    |                     0 |\n| Class         |                     0 |\n| ModifyDate    |                     0 |\n| Resistant     |                     0 |\n| IsAllergic    |                     0 |\n| VitalityDays  |                     0 |"
          },
          "metadata": {}
        },
        {
          "output_type": "display_data",
          "data": {
            "text/plain": [
              "<IPython.core.display.Markdown object>"
            ],
            "text/markdown": "##### employees"
          },
          "metadata": {}
        },
        {
          "output_type": "display_data",
          "data": {
            "text/plain": [
              "<IPython.core.display.Markdown object>"
            ],
            "text/markdown": "| Column Name   |   # of Missing Values |\n|:--------------|----------------------:|\n| EmployeeID    |                     0 |\n| FirstName     |                     0 |\n| MiddleInitial |                     0 |\n| LastName      |                     0 |\n| BirthDate     |                     0 |\n| Gender        |                     0 |\n| CityID        |                     0 |\n| HireDate      |                     0 |"
          },
          "metadata": {}
        },
        {
          "output_type": "display_data",
          "data": {
            "text/plain": [
              "<IPython.core.display.Markdown object>"
            ],
            "text/markdown": "##### cities"
          },
          "metadata": {}
        },
        {
          "output_type": "display_data",
          "data": {
            "text/plain": [
              "<IPython.core.display.Markdown object>"
            ],
            "text/markdown": "| Column Name   |   # of Missing Values |\n|:--------------|----------------------:|\n| CityID        |                     0 |\n| CityName      |                     0 |\n| Zipcode       |                     0 |\n| CountryID     |                     0 |"
          },
          "metadata": {}
        },
        {
          "output_type": "display_data",
          "data": {
            "text/plain": [
              "<IPython.core.display.Markdown object>"
            ],
            "text/markdown": "##### countries"
          },
          "metadata": {}
        },
        {
          "output_type": "display_data",
          "data": {
            "text/plain": [
              "<IPython.core.display.Markdown object>"
            ],
            "text/markdown": "| Column Name   |   # of Missing Values |\n|:--------------|----------------------:|\n| CountryID     |                     0 |\n| CountryName   |                     0 |\n| CountryCode   |                     1 |"
          },
          "metadata": {}
        },
        {
          "output_type": "display_data",
          "data": {
            "text/plain": [
              "<IPython.core.display.Markdown object>"
            ],
            "text/markdown": "##### customers"
          },
          "metadata": {}
        },
        {
          "output_type": "display_data",
          "data": {
            "text/plain": [
              "<IPython.core.display.Markdown object>"
            ],
            "text/markdown": "| Column Name   |   # of Missing Values |\n|:--------------|----------------------:|\n| CustomerID    |                     0 |\n| FirstName     |                     0 |\n| MiddleInitial |                   977 |\n| LastName      |                     0 |\n| CityID        |                     0 |\n| Address       |                     0 |"
          },
          "metadata": {}
        },
        {
          "output_type": "display_data",
          "data": {
            "text/plain": [
              "<IPython.core.display.Markdown object>"
            ],
            "text/markdown": "##### sales"
          },
          "metadata": {}
        },
        {
          "output_type": "display_data",
          "data": {
            "text/plain": [
              "<IPython.core.display.Markdown object>"
            ],
            "text/markdown": "| Column Name       |   # of Missing Values |\n|:------------------|----------------------:|\n| SalesID           |                     0 |\n| SalesPersonID     |                     0 |\n| CustomerID        |                     0 |\n| ProductID         |                     0 |\n| Quantity          |                     0 |\n| Discount          |                     0 |\n| TotalPrice        |                     0 |\n| SalesDate         |                 67526 |\n| TransactionNumber |                     0 |"
          },
          "metadata": {}
        },
        {
          "output_type": "display_data",
          "data": {
            "text/plain": [
              "<IPython.core.display.Markdown object>"
            ],
            "text/markdown": "##### categories"
          },
          "metadata": {}
        },
        {
          "output_type": "display_data",
          "data": {
            "text/plain": [
              "<IPython.core.display.Markdown object>"
            ],
            "text/markdown": "| Column Name   |   # of Missing Values |\n|:--------------|----------------------:|\n| CategoryID    |                     0 |\n| CategoryName  |                     0 |"
          },
          "metadata": {}
        }
      ],
      "source": [
        "display(Markdown(\"The below tables will show how many missing values in each of column of each table:\"))\n",
        "for key, df in dataset.items():\n",
        "    display(Markdown(f\"##### {key}\"))\n",
        "    missing_values = df.isnull().sum()\n",
        "    markdown_table = missing_values.to_frame().reset_index()  # This is done so the output can be shown in markdown format\n",
        "    markdown_table.columns = ['Column Name', '# of Missing Values']\n",
        "    display(Markdown(markdown_table.to_markdown(index=False)))"
      ]
    },
    {
      "cell_type": "code",
      "execution_count": 11,
      "id": "34557f10",
      "metadata": {
        "id": "34557f10",
        "outputId": "3fd2d3ec-7daa-43b2-8420-a9042b9a2180",
        "colab": {
          "base_uri": "https://localhost:8080/",
          "height": 0
        }
      },
      "outputs": [
        {
          "output_type": "display_data",
          "data": {
            "text/plain": [
              "<Figure size 600x400 with 1 Axes>"
            ],
            "image/png": "[encoded data removed]"
          },
          "metadata": {}
        },
        {
          "output_type": "display_data",
          "data": {
            "text/plain": [
              "<Figure size 600x400 with 1 Axes>"
            ],
            "image/png": "[encoded data removed]"
          },
          "metadata": {}
        },
        {
          "output_type": "display_data",
          "data": {
            "text/plain": [
              "<Figure size 600x400 with 1 Axes>"
            ],
            "image/png": "[encoded data removed]"
          },
          "metadata": {}
        },
        {
          "output_type": "display_data",
          "data": {
            "text/plain": [
              "<Figure size 600x400 with 1 Axes>"
            ],
            "image/png": "[encoded data removed]"
          },
          "metadata": {}
        },
        {
          "output_type": "display_data",
          "data": {
            "text/plain": [
              "<Figure size 600x400 with 1 Axes>"
            ],
            "image/png": "[encoded data removed]"
          },
          "metadata": {}
        },
        {
          "output_type": "display_data",
          "data": {
            "text/plain": [
              "<Figure size 600x400 with 1 Axes>"
            ],
            "image/png": "[encoded data removed]"
          },
          "metadata": {}
        },
        {
          "output_type": "display_data",
          "data": {
            "text/plain": [
              "<Figure size 600x400 with 1 Axes>"
            ],
            "image/png": "[encoded data removed]"
          },
          "metadata": {}
        }
      ],
      "source": [
        "# Visualising the missing values of each table\n",
        "for key, df in dataset.items():\n",
        "    plt.figure(figsize = (6,4))\n",
        "    sns.heatmap(df.isnull(), cbar=False)\n",
        "    plt.title(f\"Missing values Heatmap for {key}\")\n",
        "    plt.show()"
      ]
    },
    {
      "cell_type": "markdown",
      "id": "98e87e59",
      "metadata": {
        "id": "98e87e59"
      },
      "source": [
        "### Summary of Dataset Observations"
      ]
    },
    {
      "cell_type": "code",
      "execution_count": 12,
      "id": "9603bcf8",
      "metadata": {
        "id": "9603bcf8",
        "outputId": "eb8cdcdd-c7f9-44a4-de1e-63b5b2dc0fdd",
        "colab": {
          "base_uri": "https://localhost:8080/",
          "height": 232
        }
      },
      "outputs": [
        {
          "output_type": "display_data",
          "data": {
            "text/plain": [
              "<IPython.core.display.Markdown object>"
            ],
            "text/markdown": "#### Observations about the Dataset:"
          },
          "metadata": {}
        },
        {
          "output_type": "display_data",
          "data": {
            "text/plain": [
              "<IPython.core.display.Markdown object>"
            ],
            "text/markdown": "- None of the tables have any duplicate rows."
          },
          "metadata": {}
        },
        {
          "output_type": "display_data",
          "data": {
            "text/plain": [
              "<IPython.core.display.Markdown object>"
            ],
            "text/markdown": "- Below is a table which summarises which columns have missing values:"
          },
          "metadata": {}
        },
        {
          "output_type": "display_data",
          "data": {
            "text/plain": [
              "<IPython.core.display.Markdown object>"
            ],
            "text/markdown": "| Table     | Column        |   Missing Values |\n|:----------|:--------------|-----------------:|\n| countries | CountryCode   |                1 |\n| customers | MiddleInitial |              977 |\n| sales     | SalesDate     |            67526 |"
          },
          "metadata": {}
        }
      ],
      "source": [
        "display(Markdown(\"#### Observations about the Dataset:\"))\n",
        "\n",
        "# Duplicate Rows\n",
        "duplicate_count = 0\n",
        "for df in dataset.values():\n",
        "    duplicate_count += len(df[df.duplicated()])\n",
        "if duplicate_count == 0:\n",
        "    display(Markdown(\"- None of the tables have any duplicate rows.\"))\n",
        "else:\n",
        "    markdown_text = \"- The following tables have duplicate rows: \\n\"\n",
        "    for key, df in dataset.items():\n",
        "        if len(df[df.duplicated()]) > 0:\n",
        "            markdown_text += f'\\t {key} \\n'\n",
        "\n",
        "# Missing Values\n",
        "missing_count = 0\n",
        "for df in dataset.values():\n",
        "    missing_count += (df.isnull().sum()).sum()\n",
        "if missing_count == 0:\n",
        "    display(Markdown(\"- None of the tables have any missing values in their columns.\"))\n",
        "else:\n",
        "    missing_df = pd.DataFrame({'Table': [], 'Column': [], 'Missing Values': []})\n",
        "    for key, df in dataset.items():\n",
        "        missing_values = df.isnull().sum()\n",
        "        missing_values = missing_values[missing_values > 0]\n",
        "        missing_values = missing_values.reset_index()\n",
        "        missing_values.columns = ['Column', 'Missing Values']\n",
        "        missing_values['Table'] = key\n",
        "        missing_values = missing_values[['Table', 'Column', 'Missing Values']]\n",
        "        missing_df = pd.concat([missing_df, missing_values], ignore_index=True)\n",
        "    display(Markdown(\"- Below is a table which summarises which columns have missing values:\"))\n",
        "    display(Markdown(missing_df.to_markdown(index=False)))\n"
      ]
    },
    {
      "cell_type": "markdown",
      "id": "92d9643a",
      "metadata": {
        "id": "92d9643a"
      },
      "source": [
        "There are 3 columns in the dataset which have null values in them.\n",
        "- `MiddleInitial` will not have any imputed values as there is no significance in the column.\n",
        "- `SalesDate` will be ignored for the analysis which involves time otherwise it will be left as is as only $0.97%$ of the values are missing.\n",
        "- The missing value in `CountryCode` will be filled by assigning our own code to it."
      ]
    },
    {
      "cell_type": "code",
      "execution_count": 13,
      "id": "e6182e32",
      "metadata": {
        "id": "e6182e32",
        "outputId": "8317bbbe-8bd7-4f67-de69-4be2235a72e4",
        "colab": {
          "base_uri": "https://localhost:8080/",
          "height": 81
        }
      },
      "outputs": [
        {
          "output_type": "display_data",
          "data": {
            "text/plain": [
              "<IPython.core.display.Markdown object>"
            ],
            "text/markdown": "|   CountryID | CountryName   |   CountryCode |\n|------------:|:--------------|--------------:|\n|         146 | Australia     |           nan |"
          },
          "metadata": {}
        }
      ],
      "source": [
        "country = dataset['countries'][dataset['countries']['CountryCode'].isnull()]\n",
        "display(Markdown(country.to_markdown(index=False)))"
      ]
    },
    {
      "cell_type": "markdown",
      "id": "10aea285",
      "metadata": {
        "id": "10aea285"
      },
      "source": [
        "We will assign the code `AL` for Australia."
      ]
    },
    {
      "cell_type": "code",
      "execution_count": 14,
      "id": "196fcee4",
      "metadata": {
        "id": "196fcee4",
        "outputId": "ce4f5a8d-ed4f-4a23-e1c5-9896588177ac",
        "colab": {
          "base_uri": "https://localhost:8080/",
          "height": 81
        }
      },
      "outputs": [
        {
          "output_type": "display_data",
          "data": {
            "text/plain": [
              "<IPython.core.display.Markdown object>"
            ],
            "text/markdown": "|   CountryID | CountryName   | CountryCode   |\n|------------:|:--------------|:--------------|\n|         146 | Australia     | AL            |"
          },
          "metadata": {}
        }
      ],
      "source": [
        "dataset['countries'].loc[dataset['countries']['CountryID'] == 146, 'CountryCode'] = 'AL' # Using the .loc() method to identify the row with `CountryName` as 'Australia'.\n",
        "display(Markdown(dataset['countries'][dataset['countries']['CountryID'] == 146].to_markdown(index=False)))"
      ]
    },
    {
      "cell_type": "markdown",
      "source": [
        "### Other Inconsistencies"
      ],
      "metadata": {
        "id": "JVVUnt4vJl-h"
      },
      "id": "JVVUnt4vJl-h"
    },
    {
      "cell_type": "markdown",
      "source": [
        "#### Product - Category Mapping"
      ],
      "metadata": {
        "id": "xpVAxW0OJp32"
      },
      "id": "xpVAxW0OJp32"
    },
    {
      "cell_type": "markdown",
      "id": "f4a23f9b",
      "metadata": {
        "id": "f4a23f9b"
      },
      "source": [
        "When viewing the sample tables in [Viewing the First Few Rows of each Table in the Dataset](#viewing-the-first-few-rows-of-each-table-in-the-dataset) it can be seen that logically the product-mapping category is incorrect. To confirm this, let's take a deeper look into the mapping."
      ]
    },
    {
      "cell_type": "code",
      "execution_count": 15,
      "id": "57b57ad1",
      "metadata": {
        "id": "57b57ad1",
        "outputId": "f97669b1-fbe9-4969-842c-813d6b879def",
        "colab": {
          "base_uri": "https://localhost:8080/",
          "height": 0
        }
      },
      "outputs": [
        {
          "output_type": "display_data",
          "data": {
            "text/plain": [
              "<IPython.core.display.Markdown object>"
            ],
            "text/markdown": "|   ProductID | ProductName                       |   CategoryID | CategoryName   |\n|------------:|:----------------------------------|-------------:|:---------------|\n|           1 | Flour - Whole Wheat               |            3 | Cereals        |\n|           2 | Cookie Chocolate Chip With        |            3 | Cereals        |\n|           3 | Onions - Cippolini                |            9 | Poultry        |\n|           4 | Sauce - Gravy, Au Jus, Mix        |            9 | Poultry        |\n|           5 | Artichokes - Jerusalem            |            2 | Shell fish     |\n|           6 | Wine - Magnotta - Cab Sauv        |            8 | Grain          |\n|           7 | Table Cloth - 53x69 Colour        |            9 | Poultry        |\n|           8 | Halibut - Steaks                  |            5 | Beverages      |\n|           9 | Rabbit - Whole                    |           11 | Produce        |\n|          10 | Scampi Tail                       |            4 | Dairy          |\n|          11 | Garbage Bags - Clear              |            9 | Poultry        |\n|          12 | Ezy Change Mophandle              |            4 | Dairy          |\n|          13 | Water, Tap                        |           11 | Produce        |\n|          14 | Beef - Top Sirloin                |            7 | Meat           |\n|          15 | Spoon - Soup, Plastic             |            1 | Confections    |\n|          16 | Kellogs Special K Cereal          |            2 | Shell fish     |\n|          17 | Wine - White, Mosel Gold          |           10 | Snails         |\n|          18 | Lamb - Whole, Fresh               |           10 | Snails         |\n|          19 | Tea - Earl Grey                   |            3 | Cereals        |\n|          20 | Chocolate - Feathers              |            3 | Cereals        |\n|          21 | Kiwi                              |            7 | Meat           |\n|          22 | Rice - Jasmine Sented             |            6 | Seafood        |\n|          23 | Crab - Imitation Flakes           |           11 | Produce        |\n|          24 | Beer - Alexander Kieths, Pale Ale |            3 | Cereals        |\n|          25 | Soupcontfoam16oz 116con           |           10 | Snails         |\n|          26 | Squid U5 - Thailand               |           11 | Produce        |\n|          27 | Chocolate - Compound Coating      |            1 | Confections    |\n|          28 | Sobe - Tropical Energy            |            9 | Poultry        |\n|          29 | Spinach - Baby                    |            7 | Meat           |\n|          30 | Cheese - Brie, Triple Creme       |            6 | Seafood        |\n|          31 | Yeast Dry - Fermipan              |            2 | Shell fish     |\n|          32 | Lettuce - Treviso                 |            3 | Cereals        |\n|          33 | Beans - Wax                       |           10 | Snails         |\n|          34 | Mustard Prepared                  |            6 | Seafood        |\n|          35 | Water - Mineral, Natural          |            6 | Seafood        |\n|          36 | Table Cloth 54x72 White           |            9 | Poultry        |\n|          37 | Nut - Pistachio, Shelled          |            7 | Meat           |\n|          38 | Sage - Ground                     |            6 | Seafood        |\n|          39 | Dried Figs                        |           11 | Produce        |\n|          40 | Cocktail Napkin Blue              |            8 | Grain          |\n|          41 | Cup - 6oz, Foam                   |            7 | Meat           |\n|          42 | Bread - Raisin Walnut Oval        |            1 | Confections    |\n|          43 | Sponge Cake Mix - Chocolate       |            9 | Poultry        |\n|          44 | Wine - White, Colubia Cresh       |            7 | Meat           |\n|          45 | Beef - Ground Medium              |            4 | Dairy          |\n|          46 | Lambcasing                        |            9 | Poultry        |\n|          47 | Thyme - Lemon, Fresh              |            9 | Poultry        |\n|          48 | Pecan Raisin - Tarts              |            7 | Meat           |\n|          49 | Bacardi Breezer - Tropical        |            8 | Grain          |\n|          50 | Pork - Kidney                     |            7 | Meat           |"
          },
          "metadata": {}
        }
      ],
      "source": [
        "product_category = pd.merge(left=dataset['products'],\n",
        "                            right=dataset['categories'],\n",
        "                            on='CategoryID',\n",
        "                            how='left')\n",
        "product_category = product_category[['ProductID', 'ProductName', 'CategoryID', 'CategoryName']]\n",
        "display(Markdown(product_category.head(50).to_markdown(index=False)))"
      ]
    },
    {
      "cell_type": "markdown",
      "id": "eb2f9b91",
      "metadata": {
        "id": "eb2f9b91"
      },
      "source": [
        "We can easily see that some products, for e.g. ProductIDs 3, 45 and 49 are incorrectly categorised and there are many more (Onions - Cippolini is categorised as poultry but it should be produce). Also for example, ProductID 40: Cocktail Napkin Blue does not fit into any category. To fix this issue, a proper rule based classification would need to be done to ensure better product-category mapping and the addition of another category called `Uncategorised` to handle products that don't belong in any of these."
      ]
    },
    {
      "cell_type": "code",
      "source": [
        "# Add an extra category in categories\n",
        "dataset['categories'].loc[len(dataset['categories'])] = [12, 'Uncategorised']\n",
        "display(Markdown(dataset['categories'].tail().to_markdown(index=False)))"
      ],
      "metadata": {
        "id": "Z1wPYkb4r12C",
        "outputId": "b5d403ef-cea3-41d2-926a-f8f2ecfd305d",
        "colab": {
          "base_uri": "https://localhost:8080/",
          "height": 0
        }
      },
      "id": "Z1wPYkb4r12C",
      "execution_count": 16,
      "outputs": [
        {
          "output_type": "display_data",
          "data": {
            "text/plain": [
              "<IPython.core.display.Markdown object>"
            ],
            "text/markdown": "|   CategoryID | CategoryName   |\n|-------------:|:---------------|\n|            8 | Grain          |\n|            9 | Poultry        |\n|           10 | Snails         |\n|           11 | Produce        |\n|           12 | Uncategorised  |"
          },
          "metadata": {}
        }
      ]
    },
    {
      "cell_type": "code",
      "source": [
        "# Code to map products properly into their categories\n",
        "\n",
        "# The following dictionary was genereated by ChatGPT as keyword based classification was ambiguous\n",
        "product_categoryID = {\n",
        "  \"Flour - Whole Wheat\": 8,\n",
        "  \"Cookie Chocolate Chip With\": 1,\n",
        "  \"Onions - Cippolini\": 11,\n",
        "  \"Sauce - Gravy, Au Jus, Mix\": 11,\n",
        "  \"Artichokes - Jerusalem\": 11,\n",
        "  \"Wine - Magnotta - Cab Sauv\": 5,\n",
        "  \"Table Cloth - 53x69 Colour\": 12,\n",
        "  \"Halibut - Steaks\": 6,\n",
        "  \"Rabbit - Whole\": 7,\n",
        "  \"Scampi Tail\": 12,\n",
        "  \"Garbage Bags - Clear\": 12,\n",
        "  \"Ezy Change Mophandle\": 12,\n",
        "  \"Water, Tap\": 5,\n",
        "  \"Beef - Top Sirloin\": 7,\n",
        "  \"Spoon - Soup, Plastic\": 12,\n",
        "  \"Kellogs Special K Cereal\": 3,\n",
        "  \"Wine - White, Mosel Gold\": 5,\n",
        "  \"Lamb - Whole, Fresh\": 7,\n",
        "  \"Tea - Earl Grey\": 5,\n",
        "  \"Chocolate - Feathers\": 1,\n",
        "  \"Kiwi\": 11,\n",
        "  \"Rice - Jasmine Sented\": 8,\n",
        "  \"Crab - Imitation Flakes\": 2,\n",
        "  \"Beer - Alexander Kieths, Pale Ale\": 5,\n",
        "  \"Soupcontfoam16oz 116con\": 12,\n",
        "  \"Squid U5 - Thailand\": 6,\n",
        "  \"Chocolate - Compound Coating\": 1,\n",
        "  \"Sobe - Tropical Energy\": 5,\n",
        "  \"Spinach - Baby\": 11,\n",
        "  \"Cheese - Brie, Triple Creme\": 4,\n",
        "  \"Yeast Dry - Fermipan\": 12,\n",
        "  \"Lettuce - Treviso\": 11,\n",
        "  \"Beans - Wax\": 11,\n",
        "  \"Mustard Prepared\": 12,\n",
        "  \"Water - Mineral, Natural\": 5,\n",
        "  \"Table Cloth 54x72 White\": 12,\n",
        "  \"Nut - Pistachio, Shelled\": 11,\n",
        "  \"Sage - Ground\": 11,\n",
        "  \"Dried Figs\": 11,\n",
        "  \"Cocktail Napkin Blue\": 12,\n",
        "  \"Cup - 6oz, Foam\": 12,\n",
        "  \"Bread - Raisin Walnut Oval\": 8,\n",
        "  \"Sponge Cake Mix - Chocolate\": 1,\n",
        "  \"Wine - White, Colubia Cresh\": 5,\n",
        "  \"Beef - Ground Medium\": 7,\n",
        "  \"Lambcasing\": 7,\n",
        "  \"Thyme - Lemon, Fresh\": 11,\n",
        "  \"Pecan Raisin - Tarts\": 1,\n",
        "  \"Bacardi Breezer - Tropical\": 5,\n",
        "  \"Pork - Kidney\": 7,\n",
        "  \"Wine - Crozes Hermitage E.\": 5,\n",
        "  \"Turnip - White, Organic\": 11,\n",
        "  \"Cassis\": 5,\n",
        "  \"Liners - Banana, Paper\": 11,\n",
        "  \"Cinnamon Buns Sticky\": 1,\n",
        "  \"Chips Potato Salt Vinegar 43g\": 11,\n",
        "  \"Sausage - Breakfast\": 7,\n",
        "  \"Dc Hikiage Hira Huba\": 12,\n",
        "  \"Pastry - Butterscotch Baked\": 1,\n",
        "  \"Pepper - Paprika, Hungarian\": 11,\n",
        "  \"Sardines\": 6,\n",
        "  \"Pears - Bosc\": 11,\n",
        "  \"Cake - Mini Cheesecake\": 1,\n",
        "  \"Vinegar - Sherry\": 12,\n",
        "  \"Brandy - Bar\": 5,\n",
        "  \"Pie Filling - Cherry\": 11,\n",
        "  \"Wine - Sogrape Mateus Rose\": 5,\n",
        "  \"Beets - Candy Cane, Organic\": 11,\n",
        "  \"Raspberries - Fresh\": 11,\n",
        "  \"Squid - Tubes / Tenticles 10/20\": 6,\n",
        "  \"Cheese - Wine\": 4,\n",
        "  \"Bar - Granola Trail Mix Fruit Nut\": 11,\n",
        "  \"Appetizer - Sausage Rolls\": 7,\n",
        "  \"Carbonated Water - Cherry\": 5,\n",
        "  \"Chef Hat 20cm\": 12,\n",
        "  \"Wine - Fume Blanc Fetzer\": 5,\n",
        "  \"Potatoes - Idaho 100 Count\": 11,\n",
        "  \"Wine - Magnotta - Belpaese\": 5,\n",
        "  \"Pasta - Penne, Rigate, Dry\": 8,\n",
        "  \"Wasabi Powder\": 12,\n",
        "  \"Cookies - Assorted\": 1,\n",
        "  \"Jolt Cola - Electric Blue\": 5,\n",
        "  \"Lamb - Ground\": 7,\n",
        "  \"Peas - Frozen\": 11,\n",
        "  \"Cheese - Parmesan Cubes\": 4,\n",
        "  \"Longos - Grilled Chicken With\": 9,\n",
        "  \"Wine - Pinot Noir Latour\": 5,\n",
        "  \"Remy Red\": 5,\n",
        "  \"Beef - Ground, Extra Lean, Fresh\": 7,\n",
        "  \"Flavouring - Orange\": 11,\n",
        "  \"General Purpose Trigger\": 12,\n",
        "  \"Wine - Red, Colio Cabernet\": 5,\n",
        "  \"Bandage - Fexible 1x3\": 12,\n",
        "  \"V8 - Berry Blend\": 5,\n",
        "  \"Beans - Kidney White\": 11,\n",
        "  \"Cheese - Bocconcini\": 4,\n",
        "  \"Veal - Inside\": 7,\n",
        "  \"Shrimp - 31/40\": 2,\n",
        "  \"Mustard - Seed\": 11,\n",
        "  \"Pork - Loin, Bone - In\": 7,\n",
        "  \"Soup - Campbells, Lentil\": 12,\n",
        "  \"Rosemary - Primerba, Paste\": 11,\n",
        "  \"Cream Of Tartar\": 1,\n",
        "  \"Tia Maria\": 5,\n",
        "  \"Ecolab - Mikroklene 4/4 L\": 12,\n",
        "  \"Pickerel - Fillets\": 6,\n",
        "  \"Bread - French Baquette\": 8,\n",
        "  \"Pasta - Orecchiette\": 8,\n",
        "  \"Muffin - Zero Transfat\": 1,\n",
        "  \"Black Currants\": 11,\n",
        "  \"Scallops 60/80 Iqf\": 2,\n",
        "  \"Browning Caramel Glace\": 1,\n",
        "  \"Ocean Spray - Kiwi Strawberry\": 5,\n",
        "  \"Veal - Osso Bucco\": 7,\n",
        "  \"Ocean Spray - Ruby Red\": 5,\n",
        "  \"Steam Pan - Half Size Deep\": 12,\n",
        "  \"Ketchup - Tomato\": 11,\n",
        "  \"Garbag Bags - Black\": 12,\n",
        "  \"Soup Campbells - Italian Wedding\": 12,\n",
        "  \"Water - Spring Water 500ml\": 5,\n",
        "  \"Muffin Batt - Blueberry Passion\": 1,\n",
        "  \"Table Cloth 62x114 White\": 12,\n",
        "  \"Oil - Shortening - All - Purpose\": 12,\n",
        "  \"Macaroons - Two Bite Choc\": 1,\n",
        "  \"Nut - Chestnuts, Whole\": 11,\n",
        "  \"Crackers - Trio\": 12,\n",
        "  \"Island Oasis - Mango Daiquiri\": 5,\n",
        "  \"Coffee - Irish Cream\": 5,\n",
        "  \"Chicken - Soup Base\": 9,\n",
        "  \"Beef Wellington\": 7,\n",
        "  \"Anchovy Paste - 56 G Tube\": 6,\n",
        "  \"Beer - Blue\": 5,\n",
        "  \"Beef - Top Sirloin - Aaa\": 7,\n",
        "  \"Wine - Toasted Head\": 5,\n",
        "  \"Wiberg Super Cure\": 12,\n",
        "  \"Vol Au Vents\": 12,\n",
        "  \"Wine - White, Schroder And Schyl\": 5,\n",
        "  \"Rum - Coconut, Malibu\": 5,\n",
        "  \"Chicken - Wieners\": 9,\n",
        "  \"Oregano - Dry, Rubbed\": 11,\n",
        "  \"Tea - Herbal Sweet Dreams\": 5,\n",
        "  \"Pork - Bacon, Double Smoked\": 7,\n",
        "  \"Watercress\": 11,\n",
        "  \"Placemat - Scallop, White\": 12,\n",
        "  \"Wine - Chardonnay South\": 5,\n",
        "  \"Bananas\": 11,\n",
        "  \"Cheese - Mozzarella\": 4,\n",
        "  \"Beer - Sleemans Cream Ale\": 5,\n",
        "  \"Zucchini - Yellow\": 11,\n",
        "  \"Langers - Ruby Red Grapfruit\": 11,\n",
        "  \"Mushrooms - Black, Dried\": 11,\n",
        "  \"Lentils - Red, Dry\": 11,\n",
        "  \"Arizona - Green Tea\": 5,\n",
        "  \"Ice Cream Bar - Drumstick\": 4,\n",
        "  \"Peas - Pigeon, Dry\": 11,\n",
        "  \"Sprouts - Alfalfa\": 11,\n",
        "  \"Juice - Cranberry, 341 Ml\": 5,\n",
        "  \"Apricots Fresh\": 11,\n",
        "  \"Eggplant - Asian\": 11,\n",
        "  \"Beef Ground Medium\": 7,\n",
        "  \"Longos - Chicken Wings\": 9,\n",
        "  \"Sauce - Demi Glace\": 12,\n",
        "  \"Tomatoes Tear Drop\": 11,\n",
        "  \"Loquat\": 11,\n",
        "  \"Bread Crumbs - Japanese Style\": 8,\n",
        "  \"Tray - 16in Rnd Blk\": 12,\n",
        "  \"Knife Plastic - White\": 12,\n",
        "  \"Milk - 2%\": 4,\n",
        "  \"Water - Aquafina Vitamin\": 5,\n",
        "  \"Initation Crab Meat\": 2,\n",
        "  \"Gloves - Goldtouch Disposable\": 12,\n",
        "  \"Sherry - Dry\": 5,\n",
        "  \"Rosemary - Dry\": 11,\n",
        "  \"Guinea Fowl\": 9,\n",
        "  \"Oil - Safflower\": 12,\n",
        "  \"Smirnoff Green Apple Twist\": 5,\n",
        "  \"Coconut - Shredded, Sweet\": 11,\n",
        "  \"Pernod\": 5,\n",
        "  \"Yoghurt Tubes\": 4,\n",
        "  \"Chocolate - Dark\": 1,\n",
        "  \"Phyllo Dough\": 8,\n",
        "  \"Campari\": 5,\n",
        "  \"Spice - Peppercorn Melange\": 11,\n",
        "  \"Hersey Shakes\": 4,\n",
        "  \"Foam Dinner Plate\": 12,\n",
        "  \"Muffin Mix - Blueberry\": 1,\n",
        "  \"Pepper - Black, Whole\": 11,\n",
        "  \"Cup - Translucent 7 Oz Clear\": 12,\n",
        "  \"Bread - Roll, Soft White Round\": 8,\n",
        "  \"Cake - Cake Sheet Macaroon\": 1,\n",
        "  \"Hickory Smoke, Liquid\": 12,\n",
        "  \"Wine - Magnotta, Merlot Sr Vqa\": 5,\n",
        "  \"Veal - Inside, Choice\": 7,\n",
        "  \"Lettuce - Frisee\": 11,\n",
        "  \"Beets - Mini Golden\": 11,\n",
        "  \"Longos - Grilled Salmon With Bbq\": 6,\n",
        "  \"Mussels - Cultivated\": 2,\n",
        "  \"Lime Cordial - Roses\": 11,\n",
        "  \"Pork - Hock And Feet Attached\": 7,\n",
        "  \"Garlic - Peeled\": 11,\n",
        "  \"Grenadine\": 5,\n",
        "  \"Bay Leaf\": 11,\n",
        "  \"Chicken - Leg, Boneless\": 9,\n",
        "  \"Scallop - St. Jaques\": 2,\n",
        "  \"Turkey - Whole, Fresh\": 9,\n",
        "  \"Cocoa Butter\": 1,\n",
        "  \"Coffee - Hazelnut Cream\": 4,\n",
        "  \"Mushroom - Trumpet, Dry\": 11,\n",
        "  \"Sugar - Fine\": 1,\n",
        "  \"Cheese - Brie,danish\": 4,\n",
        "  \"Wine - Prosecco Valdobiaddene\": 5,\n",
        "  \"Curry Paste - Madras\": 12,\n",
        "  \"Pate - Cognac\": 12,\n",
        "  \"French Pastry - Mini Chocolate\": 1,\n",
        "  \"Veal - Brisket, Provimi,bnls\": 7,\n",
        "  \"Scallops - 10/20\": 2,\n",
        "  \"Bread - Multigrain\": 8,\n",
        "  \"Barramundi\": 6,\n",
        "  \"Assorted Desserts\": 1,\n",
        "  \"Meldea Green Tea Liquor\": 5,\n",
        "  \"Bread Crumbs - Panko\": 8,\n",
        "  \"Sole - Dover, Whole, Fresh\": 6,\n",
        "  \"Pail With Metal Handle 16l White\": 12,\n",
        "  \"Flour - Pastry\": 8,\n",
        "  \"Wine - Charddonnay Errazuriz\": 5,\n",
        "  \"Chestnuts - Whole,canned\": 11,\n",
        "  \"Cheese - Taleggio D.o.p.\": 4,\n",
        "  \"Sauce - Hollandaise\": 12,\n",
        "  \"Bread - Hot Dog Buns\": 8,\n",
        "  \"Wine - Cahors Ac 2000, Clos\": 5,\n",
        "  \"Crush - Cream Soda\": 5,\n",
        "  \"Quiche Assorted\": 12,\n",
        "  \"Duck - Breast\": 9,\n",
        "  \"Tofu - Firm\": 12,\n",
        "  \"Bread - English Muffin\": 8,\n",
        "  \"Tomato - Tricolor Cherry\": 11,\n",
        "  \"Mayonnaise - Individual Pkg\": 12,\n",
        "  \"Garlic\": 11,\n",
        "  \"Soup - Campbells, Cream Of\": 12,\n",
        "  \"Wine - Chablis 2003 Champs\": 5,\n",
        "  \"Cheese - Cheddarsliced\": 4,\n",
        "  \"Thermometer Digital\": 12,\n",
        "  \"Sun - Dried Tomatoes\": 11,\n",
        "  \"Beef - Rib Eye Aaa\": 7,\n",
        "  \"Grouper - Fresh\": 6,\n",
        "  \"Ice Cream Bar - Hageen Daz To\": 4,\n",
        "  \"Juice - Apple Cider\": 5,\n",
        "  \"Beef - Inside Round\": 7,\n",
        "  \"Cookie Dough - Double\": 1,\n",
        "  \"Soup - Campbells, Beef Barley\": 7,\n",
        "  \"Oranges - Navel, 72\": 11,\n",
        "  \"Nantucket - Pomegranate Pear\": 5,\n",
        "  \"Wanton Wrap\": 8,\n",
        "  \"Soup - Canadian Pea, Dry Mix\": 11,\n",
        "  \"Kellogs All Bran Bars\": 3,\n",
        "  \"Soup Knorr Chili With Beans\": 11,\n",
        "  \"Pasta - Detalini, White, Fresh\": 8,\n",
        "  \"Tea - English Breakfast\": 5,\n",
        "  \"Veal - Eye Of Round\": 7,\n",
        "  \"Yogurt - Blueberry, 175 Gr\": 4,\n",
        "  \"Chinese Foods - Chicken\": 9,\n",
        "  \"Bagel - Plain\": 8,\n",
        "  \"Soupfoamcont12oz 112con\": 12,\n",
        "  \"Juice - V8 Splash\": 5,\n",
        "  \"Mushroom - Porcini, Dry\": 11,\n",
        "  \"Clam Nectar\": 2,\n",
        "  \"Grapes - Red\": 11,\n",
        "  \"Vanilla Beans\": 11,\n",
        "  \"Wine - Blue Nun Qualitatswein\": 5,\n",
        "  \"Cheese Cloth No 100\": 4,\n",
        "  \"Banana - Leaves\": 11,\n",
        "  \"Chocolate - Semi Sweet, Calets\": 1,\n",
        "  \"Bandage - Flexible Neon\": 12,\n",
        "  \"Papayas\": 11,\n",
        "  \"Corn Meal\": 8,\n",
        "  \"Snapple - Iced Tea Peach\": 5,\n",
        "  \"Sea Bass - Whole\": 6,\n",
        "  \"Apricots - Halves\": 11,\n",
        "  \"Beef - Texas Style Burger\": 7,\n",
        "  \"Onion Powder\": 11,\n",
        "  \"Bar Mix - Pina Colada, 355 Ml\": 5,\n",
        "  \"Lemonade - Natural, 591 Ml\": 5,\n",
        "  \"Bread Fig And Almond\": 8,\n",
        "  \"Beer - Rickards Red\": 5,\n",
        "  \"Cheese - Mix\": 4,\n",
        "  \"Beef - Prime Rib Aaa\": 7,\n",
        "  \"Bread - Italian Roll With Herbs\": 8,\n",
        "  \"Orange - Canned, Mandarin\": 11,\n",
        "  \"Sword Pick Asst\": 12,\n",
        "  \"Sauce - Rosee\": 12,\n",
        "  \"Crab - Dungeness, Whole\": 2,\n",
        "  \"Turkey - Oven Roast Breast\": 9,\n",
        "  \"Garlic - Elephant\": 11,\n",
        "  \"Wine - Alsace Gewurztraminer\": 5,\n",
        "  \"Ice - Clear, 300 Lb For Carving\": 12,\n",
        "  \"Wine - Valpolicella Masi\": 5,\n",
        "  \"Hinge W Undercut\": 12,\n",
        "  \"Pop Shoppe Cream Soda\": 4,\n",
        "  \"Fuji Apples\": 11,\n",
        "  \"Beans - Kidney, Canned\": 11,\n",
        "  \"Beer - Labatt Blue\": 5,\n",
        "  \"Doilies - 5, Paper\": 12,\n",
        "  \"Cod - Black Whole Fillet\": 6,\n",
        "  \"Banana Turning\": 11,\n",
        "  \"Pastry - Cheese Baked Scones\": 1,\n",
        "  \"Pepper - White, Ground\": 11,\n",
        "  \"Foam Cup 6 Oz\": 12,\n",
        "  \"Tea - Decaf Lipton\": 5,\n",
        "  \"Muffin Batt - Choc Chk\": 1,\n",
        "  \"Coffee - Dark Roast\": 5,\n",
        "  \"Wonton Wrappers\": 8,\n",
        "  \"Salmon - Sockeye Raw\": 6,\n",
        "  \"Veal - Slab Bacon\": 7,\n",
        "  \"Salmon Steak - Cohoe 8 Oz\": 6,\n",
        "  \"Wine - Gato Negro Cabernet\": 5,\n",
        "  \"Cheese - Victor Et Berthold\": 4,\n",
        "  \"Water - Green Tea Refresher\": 5,\n",
        "  \"Ecolab - Solid Fusion\": 12,\n",
        "  \"Towels - Paper / Kraft\": 12,\n",
        "  \"Yogurt - French Vanilla\": 4,\n",
        "  \"Potatoes - Instant, Mashed\": 11,\n",
        "  \"Onions - Vidalia\": 11,\n",
        "  \"Extract - Lemon\": 11,\n",
        "  \"Apricots - Dried\": 11,\n",
        "  \"Halibut - Fletches\": 6,\n",
        "  \"Appetizer - Mushroom Tart\": 1,\n",
        "  \"Appetizer - Mini Egg Roll, Shrimp\": 2,\n",
        "  \"Tuna - Salad Premix\": 6,\n",
        "  \"Pork - Loin, Center Cut\": 7,\n",
        "  \"Olives - Kalamata\": 11,\n",
        "  \"Cookies Cereal Nut\": 1,\n",
        "  \"Bouq All Italian - Primerba\": 12,\n",
        "  \"Cheese - Cottage Cheese\": 4,\n",
        "  \"Ecolab - Lime - A - Way 4/4 L\": 5,\n",
        "  \"Oil - Shortening,liqud, Fry\": 12,\n",
        "  \"Broom - Corn\": 12,\n",
        "  \"Bread - Rye\": 8,\n",
        "  \"Cheese - Camembert\": 4,\n",
        "  \"Beef - Striploin Aa\": 7,\n",
        "  \"Veal - Sweetbread\": 7,\n",
        "  \"Bread - Roll, Canadian Dinner\": 8,\n",
        "  \"Mangoes\": 11,\n",
        "  \"Otomegusa Dashi Konbu\": 12,\n",
        "  \"Sausage - Liver\": 7,\n",
        "  \"Bread - Calabrese Baguette\": 8,\n",
        "  \"Cheese - Parmesan Grated\": 4,\n",
        "  \"Pail For Lid 1537\": 12,\n",
        "  \"Pasta - Cheese / Spinach Bauletti\": 8,\n",
        "  \"Puree - Mocha\": 12,\n",
        "  \"Isomalt\": 12,\n",
        "  \"Hot Chocolate - Individual\": 5,\n",
        "  \"Beef - Tenderlion, Center Cut\": 7,\n",
        "  \"Milk Powder\": 4,\n",
        "  \"Crackers Cheez It\": 12,\n",
        "  \"Olives - Stuffed\": 11,\n",
        "  \"Dc - Frozen Momji\": 12,\n",
        "  \"Tilapia - Fillets\": 6,\n",
        "  \"Cheese - Boursin, Garlic / Herbs\": 4,\n",
        "  \"Rice - Long Grain\": 8,\n",
        "  \"Wine - Hardys Bankside Shiraz\": 5,\n",
        "  \"Coffee Decaf Colombian\": 5,\n",
        "  \"Cumin - Whole\": 11,\n",
        "  \"Cornflakes\": 3,\n",
        "  \"Cattail Hearts\": 11,\n",
        "  \"Wine - Red, Harrow Estates, Cab\": 5,\n",
        "  \"Tahini Paste\": 12,\n",
        "  \"Bread - Italian Corn Meal Poly\": 8,\n",
        "  \"Flour - Teff\": 8,\n",
        "  \"Rambutan\": 11,\n",
        "  \"Muffin - Carrot Individual Wrap\": 1,\n",
        "  \"Creme De Banane - Marie\": 5,\n",
        "  \"Wine - Two Oceans Cabernet\": 5,\n",
        "  \"Beef - Montreal Smoked Brisket\": 7,\n",
        "  \"Jagermeister\": 5,\n",
        "  \"Snapple Lemon Tea\": 5,\n",
        "  \"Pasta - Angel Hair\": 8,\n",
        "  \"Wine - Red, Cooking\": 5,\n",
        "  \"Bread Foccacia Whole\": 8,\n",
        "  \"Smoked Paprika\": 11,\n",
        "  \"Wine - White Cab Sauv.on\": 5,\n",
        "  \"Vaccum Bag 10x13\": 12,\n",
        "  \"Soup - Campbells Bean Medley\": 11,\n",
        "  \"Cake - Box Window 10x10x2.5\": 1,\n",
        "  \"Fond - Neutral\": 12,\n",
        "  \"Pork - Back, Short Cut, Boneless\": 7,\n",
        "  \"Sprouts - Baby Pea Tendrils\": 11,\n",
        "  \"Fondant - Icing\": 1,\n",
        "  \"Table Cloth 120 Round White\": 12,\n",
        "  \"Pomello\": 11,\n",
        "  \"Seedlings - Mix, Organic\": 11,\n",
        "  \"Bread - Bistro White\": 8,\n",
        "  \"Puree - Passion Fruit\": 11,\n",
        "  \"Olive - Spread Tapenade\": 11,\n",
        "  \"Rum - Mount Gay Eclipes\": 5,\n",
        "  \"Juice - Lime\": 5,\n",
        "  \"Tea - Jasmin Green\": 5,\n",
        "  \"Juice - Happy Planet\": 5,\n",
        "  \"Wine - Wyndham Estate Bin 777\": 5,\n",
        "  \"Berry Brulee\": 11,\n",
        "  \"Carbonated Water - Blackcherry\": 5,\n",
        "  \"Tart Shells - Sweet, 4\": 1,\n",
        "  \"Butter - Unsalted\": 4,\n",
        "  \"Liners - Baking Cups\": 12,\n",
        "  \"Pants Custom Dry Clean\": 12,\n",
        "  \"Pastry - Raisin Muffin - Mini\": 1,\n",
        "  \"Shrimp - Baby, Warm Water\": 2,\n",
        "  \"Pepsi - Diet, 355 Ml\": 5,\n",
        "  \"Blueberries\": 11,\n",
        "  \"Skirt - 29 Foot\": 12,\n",
        "  \"Fenngreek Seed\": 11,\n",
        "  \"Durian Fruit\": 11,\n",
        "  \"Lettuce - California Mix\": 11,\n",
        "  \"Ice Cream Bar - Oreo Cone\": 4,\n",
        "  \"Sauerkraut\": 11,\n",
        "  \"Mussels - Frozen\": 2,\n",
        "  \"Baking Powder\": 12,\n",
        "  \"Lamb - Pieces, Diced\": 7,\n",
        "  \"Truffle Cups - Brown\": 12,\n",
        "  \"Pork - Belly Fresh\": 7,\n",
        "  \"Whmis - Spray Bottle Trigger\": 12,\n",
        "  \"Soup V8 Roasted Red Pepper\": 5,\n",
        "  \"Garlic - Primerba, Paste\": 11,\n",
        "  \"Fish - Scallops, Cold Smoked\": 2,\n",
        "  \"Vinegar - Tarragon\": 12,\n",
        "  \"Wine - Redchard Merritt\": 5,\n",
        "  \"Scallops - Live In Shell\": 2,\n",
        "  \"Wine - Vineland Estate Semi - Dry\": 5,\n",
        "  \"Wine - Ruffino Chianti\": 5,\n",
        "  \"Beef - Short Loin\": 7,\n",
        "  \"Milk - 1%\": 4,\n",
        "  \"Muffin Chocolate Individual Wrap\": 1,\n",
        "  \"Beer - Original Organic Lager\": 5,\n",
        "  \"Beans - Kidney, Red Dry\": 11,\n",
        "  \"Cookie - Dough Variety\": 1,\n",
        "  \"Salsify, Organic\": 11,\n",
        "  \"Table Cloth 81x81 White\": 12,\n",
        "  \"Chips Potato All Dressed - 43g\": 11,\n",
        "  \"Juice - Orange\": 5,\n",
        "  \"Beef - Chuck, Boneless\": 7,\n",
        "  \"Pork - Inside\": 7,\n",
        "  \"Blackberries\": 11,\n",
        "  \"Wine - Ej Gallo Sierra Valley\": 5,\n",
        "  \"Lettuce - Spring Mix\": 11,\n",
        "  \"Cheese - Cambozola\": 4,\n",
        "  \"Pastry - Choclate Baked\": 1,\n",
        "  \"Sunflower Seed Raw\": 11,\n",
        "  \"Salmon - Atlantic, Skin On\": 6,\n",
        "  \"Gatorade - Xfactor Berry\": 5,\n",
        "  \"Nantuket Peach Orange\": 5,\n",
        "  \"Wine - Vidal Icewine Magnotta\": 5,\n",
        "  \"Soup - Campbells Tomato Ravioli\": 11,\n",
        "  \"Napkin White - Starched\": 12\n",
        "}\n",
        "\n",
        "dataset['products']['NewCategoryID'] = dataset['products']['ProductName'].map(product_categoryID).fillna(12).astype(int)\n",
        "display(Markdown(dataset['products'].head().to_markdown(index=False)))\n"
      ],
      "metadata": {
        "id": "sGaup_bZsr5_",
        "outputId": "5d9a1a2f-13f5-441a-cbdb-ef8d701ad00b",
        "colab": {
          "base_uri": "https://localhost:8080/",
          "height": 0
        }
      },
      "id": "sGaup_bZsr5_",
      "execution_count": 17,
      "outputs": [
        {
          "output_type": "display_data",
          "data": {
            "text/plain": [
              "<IPython.core.display.Markdown object>"
            ],
            "text/markdown": "|   ProductID | ProductName                |   Price |   CategoryID | Class   | ModifyDate              | Resistant   | IsAllergic   |   VitalityDays |   NewCategoryID |\n|------------:|:---------------------------|--------:|-------------:|:--------|:------------------------|:------------|:-------------|---------------:|----------------:|\n|           1 | Flour - Whole Wheat        | 74.2988 |            3 | Medium  | 2018-02-16 08:21:49.190 | Durable     | Unknown      |              0 |               8 |\n|           2 | Cookie Chocolate Chip With | 91.2329 |            3 | Medium  | 2017-02-12 11:39:10.970 | Unknown     | Unknown      |              0 |               1 |\n|           3 | Onions - Cippolini         |  9.1379 |            9 | Medium  | 2018-03-15 08:11:51.560 | Weak        | False        |            111 |              11 |\n|           4 | Sauce - Gravy, Au Jus, Mix | 54.3055 |            9 | Medium  | 2017-07-16 00:46:28.880 | Durable     | Unknown      |              0 |              11 |\n|           5 | Artichokes - Jerusalem     | 65.4771 |            2 | Low     | 2017-08-16 14:13:35.430 | Durable     | True         |             27 |              11 |"
          },
          "metadata": {}
        }
      ]
    },
    {
      "cell_type": "markdown",
      "source": [
        "#### Class, Resitant Classification"
      ],
      "metadata": {
        "id": "71r07ekRJz9L"
      },
      "id": "71r07ekRJz9L"
    },
    {
      "cell_type": "markdown",
      "source": [
        "According to the definition of the column 'Class' in [Column Definitions](#column-definitions), the values in it should be Standard, Premium, etc. but the given values in the samples seen so far are Medium, Low, etc. And for the 'Resistant' column the definition says that it shows what type of Resistance a product has (e.g. Water-Resistance) but from the sample, the unique values are Durable, Weak, etc. Let's check if the values match the definition."
      ],
      "metadata": {
        "id": "Tuhv6x3WJ23I"
      },
      "id": "Tuhv6x3WJ23I"
    },
    {
      "cell_type": "code",
      "source": [
        "# Code to check the unique values of the Class and Resistant Columns\n",
        "for col in ['Class', 'Resistant']:\n",
        "  unique_col = dataset['products'][col].unique()\n",
        "  markdown_list = \"\\n\".join(f\"- {item}\" for item in unique_col)\n",
        "  display(Markdown(\"The unique values in the Class column are:\"))\n",
        "  display(Markdown(markdown_list))\n"
      ],
      "metadata": {
        "id": "se6HlbhmKn9g",
        "outputId": "dc505b38-c4ec-43a4-d37a-9e38a14abe51",
        "colab": {
          "base_uri": "https://localhost:8080/",
          "height": 186
        }
      },
      "id": "se6HlbhmKn9g",
      "execution_count": 18,
      "outputs": [
        {
          "output_type": "display_data",
          "data": {
            "text/plain": [
              "<IPython.core.display.Markdown object>"
            ],
            "text/markdown": "The unique values in the Class column are:"
          },
          "metadata": {}
        },
        {
          "output_type": "display_data",
          "data": {
            "text/plain": [
              "<IPython.core.display.Markdown object>"
            ],
            "text/markdown": "- Medium\n- Low\n- High"
          },
          "metadata": {}
        },
        {
          "output_type": "display_data",
          "data": {
            "text/plain": [
              "<IPython.core.display.Markdown object>"
            ],
            "text/markdown": "The unique values in the Class column are:"
          },
          "metadata": {}
        },
        {
          "output_type": "display_data",
          "data": {
            "text/plain": [
              "<IPython.core.display.Markdown object>"
            ],
            "text/markdown": "- Durable\n- Unknown\n- Weak"
          },
          "metadata": {}
        }
      ]
    },
    {
      "cell_type": "markdown",
      "source": [
        "Since the values in the column do not match the definition and the classification seems arbitrary the column should be dropped."
      ],
      "metadata": {
        "id": "AYV6hkZPL1Bg"
      },
      "id": "AYV6hkZPL1Bg"
    },
    {
      "cell_type": "code",
      "source": [
        "# Dropping Class & Resistant column\n",
        "dataset['products'] = dataset['products'].drop(columns=['Class', 'Resistant'])\n",
        "display(Markdown(dataset['products'].head().to_markdown(index=False)))"
      ],
      "metadata": {
        "id": "6Yk9ONlsL-P_",
        "outputId": "10047a44-1f1f-4087-f8b6-09566d6714ff",
        "colab": {
          "base_uri": "https://localhost:8080/",
          "height": 206
        }
      },
      "id": "6Yk9ONlsL-P_",
      "execution_count": 19,
      "outputs": [
        {
          "output_type": "display_data",
          "data": {
            "text/plain": [
              "<IPython.core.display.Markdown object>"
            ],
            "text/markdown": "|   ProductID | ProductName                |   Price |   CategoryID | ModifyDate              | IsAllergic   |   VitalityDays |   NewCategoryID |\n|------------:|:---------------------------|--------:|-------------:|:------------------------|:-------------|---------------:|----------------:|\n|           1 | Flour - Whole Wheat        | 74.2988 |            3 | 2018-02-16 08:21:49.190 | Unknown      |              0 |               8 |\n|           2 | Cookie Chocolate Chip With | 91.2329 |            3 | 2017-02-12 11:39:10.970 | Unknown      |              0 |               1 |\n|           3 | Onions - Cippolini         |  9.1379 |            9 | 2018-03-15 08:11:51.560 | False        |            111 |              11 |\n|           4 | Sauce - Gravy, Au Jus, Mix | 54.3055 |            9 | 2017-07-16 00:46:28.880 | Unknown      |              0 |              11 |\n|           5 | Artichokes - Jerusalem     | 65.4771 |            2 | 2017-08-16 14:13:35.430 | True         |             27 |              11 |"
          },
          "metadata": {}
        }
      ]
    },
    {
      "cell_type": "markdown",
      "id": "5b293e1e",
      "metadata": {
        "id": "5b293e1e"
      },
      "source": [
        "## 2. Data Types"
      ]
    },
    {
      "cell_type": "markdown",
      "id": "c7b52f79",
      "metadata": {
        "id": "c7b52f79"
      },
      "source": [
        "The data types of each column were already determined when the `.info()` method was used for each table in the [Displaying Dataset Information](#displaying-dataset-information) Section. Based on the column definitions in [Column Defintions](#column-definitions). Some columns should have more accurate data types for analysis and query performance purposes."
      ]
    },
    {
      "cell_type": "markdown",
      "id": "7cf5091d",
      "metadata": {
        "id": "7cf5091d"
      },
      "source": [
        "The columns for which data types should be changed are in the table below:\n",
        "\n",
        "|Table|Column|Current Type|Required Type|\n",
        "|-----|------|------------|-------------|\n",
        "|categories|CategoryName|object|category|\n",
        "|cities|CityName|object|string|\n",
        "|countries|CountryName|object|string|\n",
        "|countries|CountryCode|object|string|\n",
        "|customers|FirstName|object|string|\n",
        "|customers|MiddleInitial|object|string|\n",
        "|customers|LastName|object|string|\n",
        "|customers|Address|object|string|\n",
        "|employees|FirstName|object|string|\n",
        "|employees|MiddleInitial|object|string|\n",
        "|employees|LastName|object|string|\n",
        "|employees|BirthDate|object|datetime|\n",
        "|employees|HireDate|object|datetime|\n",
        "|products|ProductName|object|string|\n",
        "|products|Class|object|category|\n",
        "|products|ModifyDate|object|datetime|\n",
        "|products|Resistant|object|category|\n",
        "|products|IsAllergic|object|bool|\n",
        "|sales|SalesDate|object|datetime|\n",
        "|sales|TransactionNumber|object|string|"
      ]
    },
    {
      "cell_type": "code",
      "execution_count": 20,
      "id": "fe006a82",
      "metadata": {
        "id": "fe006a82",
        "outputId": "edbce6ca-848c-47cc-b842-47889de6a9af",
        "colab": {
          "base_uri": "https://localhost:8080/",
          "height": 280
        }
      },
      "outputs": [
        {
          "output_type": "display_data",
          "data": {
            "text/plain": [
              "<IPython.core.display.Markdown object>"
            ],
            "text/markdown": "Converted CategoryName in categories from `object` to `category`."
          },
          "metadata": {}
        },
        {
          "output_type": "display_data",
          "data": {
            "text/plain": [
              "<IPython.core.display.Markdown object>"
            ],
            "text/markdown": "Converted CityName in cities from `object` to `string`."
          },
          "metadata": {}
        },
        {
          "output_type": "display_data",
          "data": {
            "text/plain": [
              "<IPython.core.display.Markdown object>"
            ],
            "text/markdown": "Converted CountryName & CountryCode in countries from `object` to `string`."
          },
          "metadata": {}
        },
        {
          "output_type": "display_data",
          "data": {
            "text/plain": [
              "<IPython.core.display.Markdown object>"
            ],
            "text/markdown": "Converted FirstName, MiddleInitial, LastName, Address in customers from `object` to `string`."
          },
          "metadata": {}
        },
        {
          "output_type": "display_data",
          "data": {
            "text/plain": [
              "<IPython.core.display.Markdown object>"
            ],
            "text/markdown": "Converted FirstName, MiddleInitial, LastName in employees from `object` to `string`."
          },
          "metadata": {}
        },
        {
          "output_type": "display_data",
          "data": {
            "text/plain": [
              "<IPython.core.display.Markdown object>"
            ],
            "text/markdown": "Converted BirthDate & HireDate in employees from `object` to `datetime`"
          },
          "metadata": {}
        },
        {
          "output_type": "display_data",
          "data": {
            "text/plain": [
              "<IPython.core.display.Markdown object>"
            ],
            "text/markdown": "Converted ProductName in products from `object` to `string`."
          },
          "metadata": {}
        },
        {
          "output_type": "display_data",
          "data": {
            "text/plain": [
              "<IPython.core.display.Markdown object>"
            ],
            "text/markdown": "Converted ModifyDate in products from `object` to `datetime`."
          },
          "metadata": {}
        },
        {
          "output_type": "display_data",
          "data": {
            "text/plain": [
              "<IPython.core.display.Markdown object>"
            ],
            "text/markdown": "Converted IsAllergic in products from `object` to `bool`."
          },
          "metadata": {}
        },
        {
          "output_type": "display_data",
          "data": {
            "text/plain": [
              "<IPython.core.display.Markdown object>"
            ],
            "text/markdown": "Converted SalesDate in sales from `object` to `datetime`."
          },
          "metadata": {}
        },
        {
          "output_type": "display_data",
          "data": {
            "text/plain": [
              "<IPython.core.display.Markdown object>"
            ],
            "text/markdown": "Converted TransactionNumber in sales from `object` to `string`."
          },
          "metadata": {}
        }
      ],
      "source": [
        "# Converting the dtypes to the most optimal for analysis\n",
        "\n",
        "dataset['categories']['CategoryName'] = dataset['categories']['CategoryName'].astype('category')\n",
        "display(Markdown(f\"Converted CategoryName in categories from `object` to `{dataset['categories']['CategoryName'].dtype}`.\"))\n",
        "\n",
        "dataset['cities']['CityName'] = dataset['cities']['CityName'].astype('string')\n",
        "display(Markdown(f\"Converted CityName in cities from `object` to `{dataset['cities']['CityName'].dtype}`.\"))\n",
        "\n",
        "dataset['countries'][['CountryName', 'CountryCode']] = dataset['countries'][['CountryName', 'CountryCode']].astype('string')\n",
        "display(Markdown(f\"Converted CountryName & CountryCode in countries from `object` to `string`.\"))\n",
        "\n",
        "dataset['customers'][['FirstName', 'MiddleInitial', 'LastName', 'Address']] = dataset['customers'][['FirstName', 'MiddleInitial', 'LastName', 'Address']].astype('string')\n",
        "display(Markdown(\"Converted FirstName, MiddleInitial, LastName, Address in customers from `object` to `string`.\"))\n",
        "\n",
        "dataset['employees'][['FirstName', 'MiddleInitial', 'LastName']] = dataset['employees'][['FirstName', 'MiddleInitial', 'LastName']].astype('string')\n",
        "display(Markdown(\"Converted FirstName, MiddleInitial, LastName in employees from `object` to `string`.\"))\n",
        "\n",
        "for col in ['BirthDate', 'HireDate']:\n",
        "    dataset['employees'][col] = pd.to_datetime(dataset['employees'][col])\n",
        "display(Markdown(f\"Converted BirthDate & HireDate in employees from `object` to `datetime`\"))\n",
        "\n",
        "dataset['products']['ProductName'] = dataset['products']['ProductName'].astype('string')\n",
        "display(Markdown(\"Converted ProductName in products from `object` to `string`.\"))\n",
        "\n",
        "dataset['products']['ModifyDate'] = pd.to_datetime(dataset['products']['ModifyDate'])\n",
        "display(Markdown(\"Converted ModifyDate in products from `object` to `datetime`.\"))\n",
        "\n",
        "dataset['products']['IsAllergic'] = dataset['products']['IsAllergic'].astype('bool')\n",
        "display(Markdown(f\"Converted IsAllergic in products from `object` to `{dataset['products']['IsAllergic'].dtype}`.\"))\n",
        "\n",
        "dataset['sales']['SalesDate'] = pd.to_datetime(dataset['sales']['SalesDate'])\n",
        "display(Markdown(\"Converted SalesDate in sales from `object` to `datetime`.\"))\n",
        "\n",
        "dataset['sales']['TransactionNumber'] = dataset['sales']['TransactionNumber'].astype('string')\n",
        "display(Markdown(\"Converted TransactionNumber in sales from `object` to `string`.\"))"
      ]
    },
    {
      "cell_type": "code",
      "execution_count": 21,
      "id": "b0caa881",
      "metadata": {
        "id": "b0caa881",
        "outputId": "73436c25-a986-49fa-bf23-7e0b03ac3df8",
        "colab": {
          "base_uri": "https://localhost:8080/",
          "height": 1000
        }
      },
      "outputs": [
        {
          "output_type": "display_data",
          "data": {
            "text/plain": [
              "<IPython.core.display.Markdown object>"
            ],
            "text/markdown": "### Summary Statistics for each table:"
          },
          "metadata": {}
        },
        {
          "output_type": "display_data",
          "data": {
            "text/plain": [
              "<IPython.core.display.Markdown object>"
            ],
            "text/markdown": "#### products"
          },
          "metadata": {}
        },
        {
          "output_type": "stream",
          "name": "stdout",
          "text": [
            "         ProductID             ProductName       Price  CategoryID  \\\n",
            "count   452.000000                     452  452.000000  452.000000   \n",
            "unique         NaN                     452         NaN         NaN   \n",
            "top            NaN  Artichokes - Jerusalem         NaN         NaN   \n",
            "freq           NaN                       1         NaN         NaN   \n",
            "mean    226.500000                     NaN   50.801471    5.862832   \n",
            "min       1.000000                     NaN    0.044900    1.000000   \n",
            "25%     113.750000                     NaN   26.504350    3.000000   \n",
            "50%     226.500000                     NaN   52.499500    6.000000   \n",
            "75%     339.250000                     NaN   75.496450    9.000000   \n",
            "max     452.000000                     NaN   99.875500   11.000000   \n",
            "std     130.625419                     NaN   28.616724    3.271694   \n",
            "\n",
            "                           ModifyDate IsAllergic  VitalityDays  NewCategoryID  \n",
            "count                             452        452    452.000000     452.000000  \n",
            "unique                            NaN          1           NaN            NaN  \n",
            "top                               NaN       True           NaN            NaN  \n",
            "freq                              NaN        452           NaN            NaN  \n",
            "mean    2017-09-11 20:05:50.656504320        NaN     26.030973       7.586283  \n",
            "min        2017-01-03 12:21:41.850000        NaN      0.000000       1.000000  \n",
            "25%     2017-05-16 20:47:44.454999808        NaN      0.000000       5.000000  \n",
            "50%     2017-09-14 11:27:04.699999744        NaN      0.000000       7.000000  \n",
            "75%     2018-01-14 00:12:17.922500096        NaN     52.500000      11.000000  \n",
            "max        2018-05-09 20:18:03.820000        NaN    120.000000      12.000000  \n",
            "std                               NaN        NaN     39.061200       3.585396  \n"
          ]
        },
        {
          "output_type": "display_data",
          "data": {
            "text/plain": [
              "<IPython.core.display.Markdown object>"
            ],
            "text/markdown": "#### employees"
          },
          "metadata": {}
        },
        {
          "output_type": "stream",
          "name": "stdout",
          "text": [
            "        EmployeeID FirstName MiddleInitial LastName  \\\n",
            "count     23.00000        23            23       23   \n",
            "unique         NaN        22            14       23   \n",
            "top            NaN  Chadwick             E   Fuller   \n",
            "freq           NaN         2             3        1   \n",
            "mean      12.00000       NaN           NaN      NaN   \n",
            "min        1.00000       NaN           NaN      NaN   \n",
            "25%        6.50000       NaN           NaN      NaN   \n",
            "50%       12.00000       NaN           NaN      NaN   \n",
            "75%       17.50000       NaN           NaN      NaN   \n",
            "max       23.00000       NaN           NaN      NaN   \n",
            "std        6.78233       NaN           NaN      NaN   \n",
            "\n",
            "                            BirthDate Gender     CityID  \\\n",
            "count                              23     23  23.000000   \n",
            "unique                            NaN      2        NaN   \n",
            "top                               NaN      M        NaN   \n",
            "freq                              NaN     15        NaN   \n",
            "mean    1967-11-28 19:49:33.913043480    NaN  43.782609   \n",
            "min               1951-07-07 00:00:00    NaN   4.000000   \n",
            "25%               1962-05-24 00:00:00    NaN  20.500000   \n",
            "50%               1964-06-13 00:00:00    NaN  39.000000   \n",
            "75%               1974-01-30 12:00:00    NaN  65.000000   \n",
            "max               1989-08-29 00:00:00    NaN  92.000000   \n",
            "std                               NaN    NaN  26.381737   \n",
            "\n",
            "                             HireDate  \n",
            "count                              23  \n",
            "unique                            NaN  \n",
            "top                               NaN  \n",
            "freq                              NaN  \n",
            "mean    2013-08-16 14:32:15.317826048  \n",
            "min        2010-02-22 21:55:48.620000  \n",
            "25%     2011-11-22 17:44:09.164999936  \n",
            "50%        2013-06-22 13:20:18.080000  \n",
            "75%        2015-05-22 20:39:09.100000  \n",
            "max        2017-02-10 11:21:26.650000  \n",
            "std                               NaN  \n"
          ]
        },
        {
          "output_type": "display_data",
          "data": {
            "text/plain": [
              "<IPython.core.display.Markdown object>"
            ],
            "text/markdown": "#### cities"
          },
          "metadata": {}
        },
        {
          "output_type": "stream",
          "name": "stdout",
          "text": [
            "           CityID CityName       Zipcode  CountryID\n",
            "count   96.000000       96     96.000000       96.0\n",
            "unique        NaN       96           NaN        NaN\n",
            "top           NaN   Dayton           NaN        NaN\n",
            "freq          NaN        1           NaN        NaN\n",
            "mean    48.500000      NaN  51245.302083       32.0\n",
            "std     27.856777      NaN  29883.397049        0.0\n",
            "min      1.000000      NaN    157.000000       32.0\n",
            "25%     24.750000      NaN  21780.500000       32.0\n",
            "50%     48.500000      NaN  51700.000000       32.0\n",
            "75%     72.250000      NaN  79867.750000       32.0\n",
            "max     96.000000      NaN  97859.000000       32.0\n"
          ]
        },
        {
          "output_type": "display_data",
          "data": {
            "text/plain": [
              "<IPython.core.display.Markdown object>"
            ],
            "text/markdown": "#### countries"
          },
          "metadata": {}
        },
        {
          "output_type": "stream",
          "name": "stdout",
          "text": [
            "         CountryID CountryName CountryCode\n",
            "count   206.000000         206         206\n",
            "unique         NaN         206         206\n",
            "top            NaN     Armenia          AN\n",
            "freq           NaN           1           1\n",
            "mean    103.500000         NaN         NaN\n",
            "std      59.611241         NaN         NaN\n",
            "min       1.000000         NaN         NaN\n",
            "25%      52.250000         NaN         NaN\n",
            "50%     103.500000         NaN         NaN\n",
            "75%     154.750000         NaN         NaN\n",
            "max     206.000000         NaN         NaN\n"
          ]
        },
        {
          "output_type": "display_data",
          "data": {
            "text/plain": [
              "<IPython.core.display.Markdown object>"
            ],
            "text/markdown": "#### customers"
          },
          "metadata": {}
        },
        {
          "output_type": "stream",
          "name": "stdout",
          "text": [
            "          CustomerID FirstName MiddleInitial LastName        CityID  \\\n",
            "count   98759.000000     98759         97782    98759  98759.000000   \n",
            "unique           NaN       969            26      995           NaN   \n",
            "top              NaN     Randi             J   Dorsey           NaN   \n",
            "freq             NaN       141          3826      134           NaN   \n",
            "mean    49380.000000       NaN           NaN      NaN     48.557661   \n",
            "std     28509.411955       NaN           NaN      NaN     27.660082   \n",
            "min         1.000000       NaN           NaN      NaN      1.000000   \n",
            "25%     24690.500000       NaN           NaN      NaN     25.000000   \n",
            "50%     49380.000000       NaN           NaN      NaN     49.000000   \n",
            "75%     74069.500000       NaN           NaN      NaN     72.000000   \n",
            "max     98759.000000       NaN           NaN      NaN     96.000000   \n",
            "\n",
            "               Address  \n",
            "count            98759  \n",
            "unique           80134  \n",
            "top     16 Milton Road  \n",
            "freq                10  \n",
            "mean               NaN  \n",
            "std                NaN  \n",
            "min                NaN  \n",
            "25%                NaN  \n",
            "50%                NaN  \n",
            "75%                NaN  \n",
            "max                NaN  \n"
          ]
        },
        {
          "output_type": "display_data",
          "data": {
            "text/plain": [
              "<IPython.core.display.Markdown object>"
            ],
            "text/markdown": "#### sales"
          },
          "metadata": {}
        },
        {
          "output_type": "stream",
          "name": "stdout",
          "text": [
            "             SalesID  SalesPersonID    CustomerID     ProductID      Quantity  \\\n",
            "count   6.758125e+06   6.758125e+06  6.758125e+06  6.758125e+06  6.758125e+06   \n",
            "unique           NaN            NaN           NaN           NaN           NaN   \n",
            "top              NaN            NaN           NaN           NaN           NaN   \n",
            "freq             NaN            NaN           NaN           NaN           NaN   \n",
            "mean    3.379063e+06   1.199972e+01  4.939567e+04  2.265474e+02  1.300401e+01   \n",
            "min     1.000000e+00   1.000000e+00  1.000000e+00  1.000000e+00  1.000000e+00   \n",
            "25%     1.689532e+06   6.000000e+00  2.470700e+04  1.140000e+02  7.000000e+00   \n",
            "50%     3.379063e+06   1.200000e+01  4.941400e+04  2.270000e+02  1.300000e+01   \n",
            "75%     5.068594e+06   1.800000e+01  7.407500e+04  3.400000e+02  1.900000e+01   \n",
            "max     6.758125e+06   2.300000e+01  9.875900e+04  4.520000e+02  2.500000e+01   \n",
            "std     1.950903e+06   6.632689e+00  2.850504e+04  1.304744e+02  7.209701e+00   \n",
            "\n",
            "            Discount  TotalPrice                      SalesDate  \\\n",
            "count   6.758125e+06   6758125.0                        6690599   \n",
            "unique           NaN         NaN                            NaN   \n",
            "top              NaN         NaN                            NaN   \n",
            "freq             NaN         NaN                            NaN   \n",
            "mean    2.996787e-02         0.0  2018-03-06 12:28:36.599011840   \n",
            "min     0.000000e+00         0.0     2018-01-01 00:00:04.070000   \n",
            "25%     0.000000e+00         0.0  2018-02-02 06:29:42.464999936   \n",
            "50%     0.000000e+00         0.0     2018-03-06 13:05:36.860000   \n",
            "75%     0.000000e+00         0.0  2018-04-07 18:07:28.464999936   \n",
            "max     2.000000e-01         0.0     2018-05-09 23:59:59.400000   \n",
            "std     6.398096e-02         0.0                            NaN   \n",
            "\n",
            "           TransactionNumber  \n",
            "count                6758125  \n",
            "unique               6758125  \n",
            "top     VOP9A7Y4C5XSM2LLT0UJ  \n",
            "freq                       1  \n",
            "mean                     NaN  \n",
            "min                      NaN  \n",
            "25%                      NaN  \n",
            "50%                      NaN  \n",
            "75%                      NaN  \n",
            "max                      NaN  \n",
            "std                      NaN  \n"
          ]
        },
        {
          "output_type": "display_data",
          "data": {
            "text/plain": [
              "<IPython.core.display.Markdown object>"
            ],
            "text/markdown": "#### categories"
          },
          "metadata": {}
        },
        {
          "output_type": "stream",
          "name": "stdout",
          "text": [
            "        CategoryID CategoryName\n",
            "count    12.000000           12\n",
            "unique         NaN           12\n",
            "top            NaN    Beverages\n",
            "freq           NaN            1\n",
            "mean      6.500000          NaN\n",
            "std       3.605551          NaN\n",
            "min       1.000000          NaN\n",
            "25%       3.750000          NaN\n",
            "50%       6.500000          NaN\n",
            "75%       9.250000          NaN\n",
            "max      12.000000          NaN\n"
          ]
        }
      ],
      "source": [
        "# Summary Statistics for each table in the dataframe\n",
        "display(Markdown(\"### Summary Statistics for each table:\"))\n",
        "for key, df in dataset.items():\n",
        "    display(Markdown(f'#### {key}'))\n",
        "    summary = df.describe(include='all')\n",
        "    print(summary)"
      ]
    },
    {
      "cell_type": "markdown",
      "id": "6679bf07",
      "metadata": {
        "id": "6679bf07"
      },
      "source": [
        "According to the Summary Statistics, all of the values in the TotalPrice column are $0$. This should not be possible. To handle this, the column should be dropped."
      ]
    },
    {
      "cell_type": "code",
      "execution_count": 22,
      "id": "715fecab",
      "metadata": {
        "id": "715fecab",
        "outputId": "fddad362-f107-41b8-fcce-f21772c0713a",
        "colab": {
          "base_uri": "https://localhost:8080/",
          "height": 206
        }
      },
      "outputs": [
        {
          "output_type": "display_data",
          "data": {
            "text/plain": [
              "<IPython.core.display.Markdown object>"
            ],
            "text/markdown": "|   SalesID |   SalesPersonID |   CustomerID |   ProductID |   Quantity |   Discount | SalesDate                  | TransactionNumber    |\n|----------:|----------------:|-------------:|------------:|-----------:|-----------:|:---------------------------|:---------------------|\n|         1 |               6 |        27039 |         381 |          7 |        0   | 2018-02-05 07:38:25.430000 | FQL4S94E4ME1EZFTG42G |\n|         2 |              16 |        25011 |          61 |          7 |        0   | 2018-02-02 16:03:31.150000 | 12UGLX40DJ1A5DTFBHB8 |\n|         3 |              13 |        94024 |          23 |         24 |        0   | 2018-05-03 19:31:56.880000 | 5DT8RCPL87KI5EORO7B0 |\n|         4 |               8 |        73966 |         176 |         19 |        0.2 | 2018-04-07 14:43:55.420000 | R3DR9MLD5NR76VO17ULE |\n|         5 |              10 |        32653 |         310 |          9 |        0   | 2018-02-12 15:37:03.940000 | 4BGS0Z5OMAZ8NDAFHHP3 |"
          },
          "metadata": {}
        }
      ],
      "source": [
        "dataset['sales'] = dataset['sales'].drop(columns='TotalPrice')\n",
        "display(Markdown(dataset['sales'].head().to_markdown(index=False)))"
      ]
    },
    {
      "cell_type": "markdown",
      "id": "3259479e",
      "metadata": {
        "id": "3259479e"
      },
      "source": [
        "According to the Summary Statistics, many of the values in the VitalityDays column are $0$. This needs to be investigated."
      ]
    },
    {
      "cell_type": "code",
      "execution_count": 23,
      "id": "582bd6e6",
      "metadata": {
        "id": "582bd6e6",
        "outputId": "6faf97f9-dc78-43b2-c8ff-9fcb3d7bb1f8",
        "colab": {
          "base_uri": "https://localhost:8080/",
          "height": 1000
        }
      },
      "outputs": [
        {
          "output_type": "display_data",
          "data": {
            "text/plain": [
              "<IPython.core.display.Markdown object>"
            ],
            "text/markdown": "|   ProductID | ProductName                       |   Price |   CategoryID | ModifyDate                 | IsAllergic   |   VitalityDays |   NewCategoryID |\n|------------:|:----------------------------------|--------:|-------------:|:---------------------------|:-------------|---------------:|----------------:|\n|           1 | Flour - Whole Wheat               | 74.2988 |            3 | 2018-02-16 08:21:49.190000 | True         |              0 |               8 |\n|           2 | Cookie Chocolate Chip With        | 91.2329 |            3 | 2017-02-12 11:39:10.970000 | True         |              0 |               1 |\n|           4 | Sauce - Gravy, Au Jus, Mix        | 54.3055 |            9 | 2017-07-16 00:46:28.880000 | True         |              0 |              11 |\n|           6 | Wine - Magnotta - Cab Sauv        | 79.7184 |            8 | 2017-05-25 15:08:39.690000 | True         |              0 |               5 |\n|           7 | Table Cloth - 53x69 Colour        | 31.837  |            9 | 2017-02-24 15:14:30.050000 | True         |              0 |              12 |\n|           9 | Rabbit - Whole                    | 84.4219 |           11 | 2017-06-17 12:12:04.670000 | True         |              0 |               7 |\n|          12 | Ezy Change Mophandle              | 49.3356 |            4 | 2017-11-01 09:49:59.030000 | True         |              0 |              12 |\n|          14 | Beef - Top Sirloin                |  3.3324 |            7 | 2017-02-26 11:40:47.850000 | True         |              0 |               7 |\n|          15 | Spoon - Soup, Plastic             | 32.442  |            1 | 2017-03-03 09:47:09.310000 | True         |              0 |              12 |\n|          16 | Kellogs Special K Cereal          | 54.7246 |            2 | 2017-01-23 09:25:47.110000 | True         |              0 |               3 |\n|          17 | Wine - White, Mosel Gold          | 43.9182 |           10 | 2017-03-01 14:03:04.920000 | True         |              0 |               5 |\n|          18 | Lamb - Whole, Fresh               | 23.3966 |           10 | 2017-12-19 16:45:04.730000 | True         |              0 |               7 |\n|          20 | Chocolate - Feathers              | 85.9011 |            3 | 2017-07-21 11:13:57.550000 | True         |              0 |               1 |\n|          21 | Kiwi                              | 46.7252 |            7 | 2018-05-09 08:59:46.150000 | True         |              0 |              11 |\n|          23 | Crab - Imitation Flakes           | 79.0184 |           11 | 2017-08-19 07:18:29.890000 | True         |              0 |               2 |\n|          25 | Soupcontfoam16oz 116con           | 80.7666 |           10 | 2017-04-09 15:30:41.250000 | True         |              0 |              12 |\n|          28 | Sobe - Tropical Energy            | 12.3153 |            9 | 2017-10-25 04:23:48.230000 | True         |              0 |               5 |\n|          31 | Yeast Dry - Fermipan              | 73.9851 |            2 | 2017-04-17 23:33:06.110000 | True         |              0 |              12 |\n|          32 | Lettuce - Treviso                 | 96.4127 |            3 | 2017-01-09 18:29:05.790000 | True         |              0 |              11 |\n|          33 | Beans - Wax                       | 45.5551 |           10 | 2017-02-01 15:20:22.860000 | True         |              0 |              11 |\n|          36 | Table Cloth 54x72 White           | 69.2574 |            9 | 2018-03-04 18:24:57.500000 | True         |              0 |              12 |\n|          37 | Nut - Pistachio, Shelled          | 80.3171 |            7 | 2017-02-27 14:01:39.130000 | True         |              0 |              11 |\n|          38 | Sage - Ground                     | 81.6579 |            6 | 2017-09-26 00:45:35.600000 | True         |              0 |              11 |\n|          40 | Cocktail Napkin Blue              |  8.9372 |            8 | 2017-06-28 03:05:34.400000 | True         |              0 |              12 |\n|          41 | Cup - 6oz, Foam                   | 81.721  |            7 | 2018-03-15 16:02:55.860000 | True         |              0 |              12 |\n|          42 | Bread - Raisin Walnut Oval        | 81.0488 |            1 | 2018-04-01 08:39:17.290000 | True         |              0 |               8 |\n|          44 | Wine - White, Colubia Cresh       | 48.5981 |            7 | 2018-04-09 16:28:48.450000 | True         |              0 |               5 |\n|          45 | Beef - Ground Medium              | 79.5324 |            4 | 2018-03-23 17:00:00.370000 | True         |              0 |               7 |\n|          46 | Lambcasing                        | 86.7915 |            9 | 2017-07-12 21:27:57.760000 | True         |              0 |               7 |\n|          47 | Thyme - Lemon, Fresh              | 47.1339 |            9 | 2018-02-16 02:50:46.780000 | True         |              0 |              11 |\n|          49 | Bacardi Breezer - Tropical        | 61.4317 |            8 | 2017-01-03 12:21:41.850000 | True         |              0 |               5 |\n|          50 | Pork - Kidney                     | 43.2864 |            7 | 2018-04-21 00:02:16.210000 | True         |              0 |               7 |\n|          51 | Wine - Crozes Hermitage E.        | 81.0134 |           11 | 2017-05-16 18:38:05.230000 | True         |              0 |               5 |\n|          52 | Turnip - White, Organic           | 55.6059 |            1 | 2017-06-27 06:39:03.810000 | True         |              0 |              11 |\n|          53 | Cassis                            | 92.6279 |            8 | 2018-02-16 15:42:44.950000 | True         |              0 |               5 |\n|          54 | Liners - Banana, Paper            | 53.5592 |            9 | 2017-06-23 03:31:04.500000 | True         |              0 |              11 |\n|          56 | Chips Potato Salt Vinegar 43g     | 46.4033 |            9 | 2017-10-10 18:13:25.560000 | True         |              0 |              11 |\n|          59 | Pastry - Butterscotch Baked       | 73.5389 |           10 | 2017-04-08 09:15:47.620000 | True         |              0 |               1 |\n|          60 | Pepper - Paprika, Hungarian       | 31.6949 |            2 | 2017-09-29 18:42:08.470000 | True         |              0 |              11 |\n|          63 | Cake - Mini Cheesecake            | 56.2689 |            9 | 2017-08-18 11:59:57.890000 | True         |              0 |               1 |\n|          65 | Brandy - Bar                      | 21.1106 |            3 | 2017-04-14 10:38:39.870000 | True         |              0 |               5 |\n|          66 | Pie Filling - Cherry              |  9.8823 |            7 | 2018-05-06 02:33:15.540000 | True         |              0 |              11 |\n|          69 | Raspberries - Fresh               | 87.6092 |            1 | 2017-10-04 20:04:40.780000 | True         |              0 |              11 |\n|          71 | Cheese - Wine                     | 74.4076 |            6 | 2018-04-04 19:24:07.990000 | True         |              0 |               4 |\n|          72 | Bar - Granola Trail Mix Fruit Nut | 62.2603 |            4 | 2017-10-13 13:17:29.330000 | True         |              0 |              11 |\n|          73 | Appetizer - Sausage Rolls         | 48.1907 |           11 | 2017-05-17 18:53:20.470000 | True         |              0 |               7 |\n|          77 | Potatoes - Idaho 100 Count        | 11.4971 |            9 | 2018-02-04 00:28:06.840000 | True         |              0 |              11 |\n|          78 | Wine - Magnotta - Belpaese        | 30.4202 |            4 | 2017-09-18 14:49:41.440000 | True         |              0 |               5 |\n|          80 | Wasabi Powder                     | 93.9752 |            2 | 2018-02-04 18:02:43.490000 | True         |              0 |              12 |\n|          81 | Cookies - Assorted                | 86.6483 |            2 | 2017-02-08 16:40:40.180000 | True         |              0 |               1 |\n|          84 | Peas - Frozen                     | 90.3019 |            1 | 2017-08-25 17:19:07.790000 | True         |              0 |              11 |\n|          85 | Cheese - Parmesan Cubes           | 86.8857 |            7 | 2017-11-06 00:50:41.510000 | True         |              0 |               4 |\n|          86 | Longos - Grilled Chicken With     | 18.3791 |            2 | 2018-02-28 16:54:02.310000 | True         |              0 |               9 |\n|          87 | Wine - Pinot Noir Latour          |  3.7847 |            7 | 2017-04-02 02:46:20.850000 | True         |              0 |               5 |\n|          88 | Remy Red                          | 91.996  |            2 | 2017-12-19 11:49:18.370000 | True         |              0 |               5 |\n|          89 | Beef - Ground, Extra Lean, Fresh  | 36.7281 |            3 | 2017-11-26 07:44:38.770000 | True         |              0 |               7 |\n|          92 | Wine - Red, Colio Cabernet        | 60.2161 |            1 | 2017-09-13 09:25:50        | True         |              0 |               5 |\n|          95 | Beans - Kidney White              | 46.3913 |            1 | 2017-12-02 05:24:21.990000 | True         |              0 |              11 |\n|          96 | Cheese - Bocconcini               | 62.1993 |            7 | 2017-07-07 05:12:14.030000 | True         |              0 |               4 |\n|          97 | Veal - Inside                     | 24.7798 |            4 | 2017-08-14 20:39:19.390000 | True         |              0 |               7 |\n|          98 | Shrimp - 31/40                    | 99.8755 |            3 | 2017-01-07 20:56:58.860000 | True         |              0 |               2 |\n|          99 | Mustard - Seed                    | 27.4874 |            5 | 2017-12-27 05:50:08.570000 | True         |              0 |              11 |\n|         102 | Rosemary - Primerba, Paste        | 62.257  |            4 | 2017-06-14 23:06:56.660000 | True         |              0 |              11 |\n|         103 | Cream Of Tartar                   | 72.7534 |            7 | 2017-02-22 07:26:22.460000 | True         |              0 |               1 |\n|         104 | Tia Maria                         | 98.2471 |            5 | 2018-01-04 20:59:30.040000 | True         |              0 |               5 |\n|         105 | Ecolab - Mikroklene 4/4 L         | 68.8789 |            1 | 2017-01-17 04:38:08.220000 | True         |              0 |              12 |\n|         107 | Bread - French Baquette           |  7.4151 |            1 | 2017-02-10 11:45:43.340000 | True         |              0 |               8 |\n|         108 | Pasta - Orecchiette               | 79.0038 |            1 | 2018-03-01 20:08:26.010000 | True         |              0 |               8 |\n|         109 | Muffin - Zero Transfat            | 49.3791 |            1 | 2018-02-15 08:20:02.820000 | True         |              0 |               1 |\n|         111 | Scallops 60/80 Iqf                | 34.9061 |           11 | 2018-01-13 17:45:18.720000 | True         |              0 |               2 |\n|         112 | Browning Caramel Glace            | 81.7943 |           10 | 2017-02-15 13:30:59.640000 | True         |              0 |               1 |\n|         115 | Ocean Spray - Ruby Red            | 45.0466 |           11 | 2017-08-22 02:01:28.280000 | True         |              0 |               5 |\n|         117 | Ketchup - Tomato                  | 68.638  |           11 | 2018-03-27 18:48:35.460000 | True         |              0 |              11 |\n|         118 | Garbag Bags - Black               | 65.967  |            9 | 2018-05-02 18:40:50.110000 | True         |              0 |              12 |\n|         119 | Soup Campbells - Italian Wedding  | 29.6372 |           11 | 2018-02-06 15:52:36.430000 | True         |              0 |              12 |\n|         121 | Muffin Batt - Blueberry Passion   |  6.0976 |           11 | 2018-02-03 23:46:54.680000 | True         |              0 |               1 |\n|         122 | Table Cloth 62x114 White          | 11.7845 |            4 | 2018-02-19 06:40:17.800000 | True         |              0 |              12 |\n|         123 | Oil - Shortening - All - Purpose  | 48.1487 |            4 | 2018-02-15 19:59:11.350000 | True         |              0 |              12 |\n|         125 | Nut - Chestnuts, Whole            |  6.1417 |            9 | 2017-01-07 01:17:55.400000 | True         |              0 |              11 |\n|         129 | Chicken - Soup Base               | 67.2329 |            7 | 2017-05-26 14:09:56.940000 | True         |              0 |               9 |\n|         130 | Beef Wellington                   | 41.9808 |            2 | 2017-03-11 13:58:47.650000 | True         |              0 |               7 |\n|         131 | Anchovy Paste - 56 G Tube         | 40.8967 |            3 | 2017-11-03 03:41:09.480000 | True         |              0 |               6 |\n|         133 | Beef - Top Sirloin - Aaa          |  2.9327 |           11 | 2018-01-30 08:59:32.870000 | True         |              0 |               7 |\n|         134 | Wine - Toasted Head               | 39.8545 |            2 | 2017-08-21 20:09:17.220000 | True         |              0 |               5 |\n|         136 | Vol Au Vents                      | 24.3913 |           10 | 2018-01-03 17:33:43.530000 | True         |              0 |              12 |\n|         137 | Wine - White, Schroder And Schyl  | 84.0566 |           10 | 2018-02-19 06:30:01.590000 | True         |              0 |               5 |\n|         138 | Rum - Coconut, Malibu             | 52.6367 |            7 | 2018-02-24 19:02:36.330000 | True         |              0 |               5 |\n|         139 | Chicken - Wieners                 | 21.423  |            1 | 2017-08-09 12:40:59.570000 | True         |              0 |               9 |\n|         142 | Pork - Bacon, Double Smoked       | 24.7809 |            6 | 2017-06-10 06:37:54.840000 | True         |              0 |               7 |\n|         143 | Watercress                        | 42.6169 |            1 | 2018-03-13 03:29:15.560000 | True         |              0 |              11 |\n|         144 | Placemat - Scallop, White         | 95.7865 |            5 | 2018-03-09 23:44:25.600000 | True         |              0 |              12 |\n|         146 | Bananas                           | 75.2486 |            7 | 2017-03-18 00:33:16.760000 | True         |              0 |              11 |\n|         147 | Cheese - Mozzarella               | 49.6197 |            5 | 2017-05-29 15:26:02.910000 | True         |              0 |               4 |\n|         149 | Zucchini - Yellow                 | 98.4644 |           10 | 2017-07-25 01:08:07.500000 | True         |              0 |              11 |\n|         150 | Langers - Ruby Red Grapfruit      | 40.6552 |            9 | 2018-04-10 21:39:33.620000 | True         |              0 |              11 |\n|         151 | Mushrooms - Black, Dried          | 93.5613 |            7 | 2017-08-19 10:23:38.570000 | True         |              0 |              11 |\n|         153 | Arizona - Green Tea               | 70.2382 |            4 | 2017-04-10 05:04:22.440000 | True         |              0 |               5 |\n|         154 | Ice Cream Bar - Drumstick         | 24.756  |            4 | 2017-07-06 12:05:31.010000 | True         |              0 |               4 |\n|         155 | Peas - Pigeon, Dry                | 63.5524 |            9 | 2017-02-21 14:39:50.150000 | True         |              0 |              11 |\n|         156 | Sprouts - Alfalfa                 | 71.2264 |            1 | 2018-05-09 20:18:03.820000 | True         |              0 |              11 |\n|         159 | Eggplant - Asian                  | 92.1053 |            7 | 2017-12-29 19:41:34.640000 | True         |              0 |              11 |\n|         160 | Beef Ground Medium                | 54.6874 |            7 | 2017-11-03 18:39:50.240000 | True         |              0 |               7 |\n|         161 | Longos - Chicken Wings            | 64.6118 |           10 | 2017-08-18 07:32:54.550000 | True         |              0 |               9 |\n|         164 | Loquat                            |  7.3982 |           11 | 2017-12-07 18:21:15.160000 | True         |              0 |              11 |\n|         165 | Bread Crumbs - Japanese Style     |  0.0449 |            6 | 2017-03-26 04:19:03.700000 | True         |              0 |               8 |\n|         166 | Tray - 16in Rnd Blk               | 23.2843 |            5 | 2018-04-25 14:14:10.760000 | True         |              0 |              12 |\n|         167 | Knife Plastic - White             | 78.8615 |           11 | 2017-05-26 04:31:26.770000 | True         |              0 |              12 |\n|         169 | Water - Aquafina Vitamin          | 68.5996 |           10 | 2017-07-26 00:08:42.260000 | True         |              0 |               5 |\n|         170 | Initation Crab Meat               | 20.6553 |            1 | 2017-12-26 08:27:44.760000 | True         |              0 |               2 |\n|         171 | Gloves - Goldtouch Disposable     | 21.6794 |            5 | 2018-03-21 01:14:46.790000 | True         |              0 |              12 |\n|         173 | Rosemary - Dry                    | 44.544  |            8 | 2017-09-24 05:59:50.530000 | True         |              0 |              11 |\n|         174 | Guinea Fowl                       | 61.5047 |           11 | 2018-03-13 20:22:30.840000 | True         |              0 |               9 |\n|         177 | Coconut - Shredded, Sweet         | 69.1677 |            3 | 2018-04-18 03:11:02.240000 | True         |              0 |              11 |\n|         178 | Pernod                            | 52.3623 |           10 | 2018-04-17 20:14:45.760000 | True         |              0 |               5 |\n|         181 | Phyllo Dough                      | 64.5718 |            1 | 2017-02-24 18:32:15.070000 | True         |              0 |               8 |\n|         183 | Spice - Peppercorn Melange        |  6.2154 |            4 | 2018-04-27 14:35:37.180000 | True         |              0 |              11 |\n|         184 | Hersey Shakes                     | 26.5776 |            9 | 2017-06-24 16:30:23.320000 | True         |              0 |               4 |\n|         186 | Muffin Mix - Blueberry            | 82.0839 |            8 | 2017-03-15 01:42:40.190000 | True         |              0 |               1 |\n|         191 | Hickory Smoke, Liquid             | 10.283  |           10 | 2017-04-30 14:25:58.210000 | True         |              0 |              12 |\n|         192 | Wine - Magnotta, Merlot Sr Vqa    | 29.5923 |            7 | 2017-06-03 21:45:38.370000 | True         |              0 |               5 |\n|         194 | Lettuce - Frisee                  | 66.7357 |            6 | 2018-02-12 18:01:09.340000 | True         |              0 |              11 |\n|         196 | Longos - Grilled Salmon With Bbq  |  8.2286 |            1 | 2017-02-11 09:06:20.300000 | True         |              0 |               6 |\n|         197 | Mussels - Cultivated              | 13.0101 |            1 | 2018-01-11 00:39:25.780000 | True         |              0 |               2 |\n|         200 | Garlic - Peeled                   | 11.1295 |            5 | 2017-05-02 13:23:12.040000 | True         |              0 |              11 |\n|         202 | Bay Leaf                          | 78.8778 |           11 | 2017-10-02 17:35:33.050000 | True         |              0 |              11 |\n|         206 | Cocoa Butter                      | 77.56   |            3 | 2017-07-19 10:37:39.440000 | True         |              0 |               1 |\n|         209 | Sugar - Fine                      | 32.9885 |            3 | 2018-01-31 23:29:12.410000 | True         |              0 |               1 |\n|         210 | Cheese - Brie,danish              | 82.2358 |            3 | 2017-11-03 21:30:50.320000 | True         |              0 |               4 |\n|         214 | French Pastry - Mini Chocolate    | 61.2121 |            5 | 2018-03-09 18:56:56        | True         |              0 |               1 |\n|         216 | Scallops - 10/20                  | 39.0257 |            1 | 2017-04-04 10:01:57.020000 | True         |              0 |               2 |\n|         217 | Bread - Multigrain                | 96.52   |            8 | 2017-12-21 05:26:21.480000 | True         |              0 |               8 |\n|         219 | Assorted Desserts                 | 58.9787 |            5 | 2017-01-08 14:46:06.070000 | True         |              0 |               1 |\n|         220 | Meldea Green Tea Liquor           | 17.961  |           10 | 2017-01-12 02:36:23.500000 | True         |              0 |               5 |\n|         221 | Bread Crumbs - Panko              | 81.9008 |            3 | 2017-07-06 15:47:25.220000 | True         |              0 |               8 |\n|         222 | Sole - Dover, Whole, Fresh        |  0.6846 |            3 | 2018-03-08 07:37:24.910000 | True         |              0 |               6 |\n|         223 | Pail With Metal Handle 16l White  | 94.4399 |            1 | 2017-07-06 16:21:02.790000 | True         |              0 |              12 |\n|         224 | Flour - Pastry                    | 28.8618 |            1 | 2017-08-09 05:22:24.190000 | True         |              0 |               8 |\n|         225 | Wine - Charddonnay Errazuriz      | 10.3722 |            3 | 2017-08-28 18:01:46.550000 | True         |              0 |               5 |\n|         226 | Chestnuts - Whole,canned          | 92.0872 |           10 | 2017-10-18 03:29:08.410000 | True         |              0 |              11 |\n|         227 | Cheese - Taleggio D.o.p.          | 55.4699 |            5 | 2018-04-14 00:24:57.440000 | True         |              0 |               4 |\n|         231 | Crush - Cream Soda                | 68.3066 |            5 | 2017-12-24 16:29:34.060000 | True         |              0 |               5 |\n|         232 | Quiche Assorted                   | 33.949  |            3 | 2018-01-12 18:03:01.840000 | True         |              0 |              12 |\n|         233 | Duck - Breast                     | 56.6209 |           11 | 2017-05-04 00:49:23.860000 | True         |              0 |               9 |\n|         234 | Tofu - Firm                       | 72.7457 |            1 | 2017-02-27 05:41:24.410000 | True         |              0 |              12 |\n|         235 | Bread - English Muffin            | 34.5061 |            6 | 2018-05-09 04:42:48.650000 | True         |              0 |               8 |\n|         238 | Garlic                            | 28.4065 |            6 | 2017-05-22 21:55:14.430000 | True         |              0 |              11 |\n|         239 | Soup - Campbells, Cream Of        |  7.6019 |            5 | 2017-06-03 20:05:36.490000 | True         |              0 |              12 |\n|         240 | Wine - Chablis 2003 Champs        | 70.8596 |            4 | 2017-05-14 16:57:29.640000 | True         |              0 |               5 |\n|         241 | Cheese - Cheddarsliced            | 67.8151 |            9 | 2017-04-17 05:44:01.430000 | True         |              0 |               4 |\n|         244 | Beef - Rib Eye Aaa                | 94.0664 |            2 | 2018-01-04 07:58:36.760000 | True         |              0 |               7 |\n|         248 | Beef - Inside Round               | 99.3193 |            7 | 2017-04-29 04:24:05.700000 | True         |              0 |               7 |\n|         249 | Cookie Dough - Double             | 76.6201 |           10 | 2017-06-05 17:53:34.170000 | True         |              0 |               1 |\n|         250 | Soup - Campbells, Beef Barley     | 64.4951 |            1 | 2017-05-17 01:55:14.020000 | True         |              0 |               7 |\n|         253 | Wanton Wrap                       | 76.24   |            7 | 2017-03-29 18:21:54.320000 | True         |              0 |               8 |\n|         254 | Soup - Canadian Pea, Dry Mix      | 77.7804 |            1 | 2017-12-04 16:48:58.390000 | True         |              0 |              11 |\n|         255 | Kellogs All Bran Bars             | 29.2287 |            3 | 2018-03-05 21:35:46.830000 | True         |              0 |               3 |\n|         256 | Soup Knorr Chili With Beans       | 95.7024 |            6 | 2018-05-03 12:24:25.100000 | True         |              0 |              11 |\n|         257 | Pasta - Detalini, White, Fresh    | 84.438  |           11 | 2017-03-30 01:14:30.260000 | True         |              0 |               8 |\n|         258 | Tea - English Breakfast           | 31.0939 |            1 | 2017-02-16 18:45:37.370000 | True         |              0 |               5 |\n|         261 | Chinese Foods - Chicken           | 22.0901 |            9 | 2017-08-14 10:12:42.010000 | True         |              0 |               9 |\n|         263 | Soupfoamcont12oz 112con           | 50.7497 |            7 | 2018-03-20 00:16:31.820000 | True         |              0 |              12 |\n|         264 | Juice - V8 Splash                 | 49.4497 |            3 | 2017-06-02 19:59:14.110000 | True         |              0 |               5 |\n|         266 | Clam Nectar                       | 68.1097 |            7 | 2017-05-19 23:03:59.730000 | True         |              0 |               2 |\n|         267 | Grapes - Red                      |  5.125  |            2 | 2017-05-28 06:03:35.710000 | True         |              0 |              11 |\n|         268 | Vanilla Beans                     | 97.8435 |            9 | 2017-01-25 07:58:22.340000 | True         |              0 |              11 |\n|         269 | Wine - Blue Nun Qualitatswein     | 26.706  |           11 | 2018-03-10 14:14:07.360000 | True         |              0 |               5 |\n|         271 | Banana - Leaves                   | 73.3954 |            5 | 2017-08-13 12:39:01.070000 | True         |              0 |              11 |\n|         273 | Bandage - Flexible Neon           | 77.5913 |            4 | 2018-03-21 17:22:29.260000 | True         |              0 |              12 |\n|         274 | Papayas                           | 88.1192 |            2 | 2018-01-03 21:48:36.440000 | True         |              0 |              11 |\n|         276 | Snapple - Iced Tea Peach          | 49.2508 |            5 | 2017-02-20 02:02:31.300000 | True         |              0 |               5 |\n|         279 | Beef - Texas Style Burger         | 91.1828 |            1 | 2017-09-14 03:43:07.710000 | True         |              0 |               7 |\n|         280 | Onion Powder                      | 61.8352 |            5 | 2018-01-26 10:28:47.910000 | True         |              0 |              11 |\n|         281 | Bar Mix - Pina Colada, 355 Ml     | 33.0839 |            2 | 2017-08-06 19:23:16.790000 | True         |              0 |               5 |\n|         283 | Bread Fig And Almond              |  1.1882 |            4 | 2017-07-16 18:05:07.010000 | True         |              0 |               8 |\n|         284 | Beer - Rickards Red               | 93.4888 |            9 | 2017-03-13 06:30:05.770000 | True         |              0 |               5 |\n|         287 | Bread - Italian Roll With Herbs   | 57.709  |            7 | 2017-10-16 23:41:07.520000 | True         |              0 |               8 |\n|         288 | Orange - Canned, Mandarin         | 78.8405 |           11 | 2017-10-07 08:00:25.480000 | True         |              0 |              11 |\n|         289 | Sword Pick Asst                   | 43.5169 |           10 | 2017-05-03 08:05:37.580000 | True         |              0 |              12 |\n|         291 | Crab - Dungeness, Whole           |  1.2559 |            2 | 2017-07-05 23:42:11.760000 | True         |              0 |               2 |\n|         292 | Turkey - Oven Roast Breast        | 34.5364 |            8 | 2017-11-13 02:37:18.580000 | True         |              0 |               9 |\n|         293 | Garlic - Elephant                 | 60.9698 |           11 | 2017-02-11 23:16:38.230000 | True         |              0 |              11 |\n|         295 | Ice - Clear, 300 Lb For Carving   | 48.7695 |            7 | 2018-02-07 06:44:47.630000 | True         |              0 |              12 |\n|         298 | Pop Shoppe Cream Soda             | 95.7387 |            4 | 2017-06-03 01:25:35.340000 | True         |              0 |               4 |\n|         299 | Fuji Apples                       | 80.1371 |            4 | 2018-02-24 02:57:20.510000 | True         |              0 |              11 |\n|         300 | Beans - Kidney, Canned            | 69.5694 |            5 | 2017-11-16 02:35:16.760000 | True         |              0 |              11 |\n|         301 | Beer - Labatt Blue                | 43.412  |            8 | 2017-07-16 01:29:22.930000 | True         |              0 |               5 |\n|         302 | Doilies - 5, Paper                | 61.1598 |           11 | 2017-02-18 00:07:29.280000 | True         |              0 |              12 |\n|         303 | Cod - Black Whole Fillet          | 72.6133 |            7 | 2017-06-28 14:09:58.350000 | True         |              0 |               6 |\n|         304 | Banana Turning                    | 72.1984 |            5 | 2017-06-27 18:42:41.030000 | True         |              0 |              11 |\n|         307 | Foam Cup 6 Oz                     | 50.2256 |            1 | 2017-11-16 17:48:50.780000 | True         |              0 |              12 |\n|         308 | Tea - Decaf Lipton                | 88.1209 |            6 | 2017-08-02 20:33:17.890000 | True         |              0 |               5 |\n|         310 | Coffee - Dark Roast               | 79.978  |            9 | 2018-01-14 19:33:15.530000 | True         |              0 |               5 |\n|         315 | Wine - Gato Negro Cabernet        | 93.8047 |            6 | 2017-01-07 21:32:21.630000 | True         |              0 |               5 |\n|         317 | Water - Green Tea Refresher       | 35.2723 |            3 | 2018-02-10 13:54:50.560000 | True         |              0 |               5 |\n|         319 | Towels - Paper / Kraft            | 77.6195 |            7 | 2017-04-01 20:09:14.640000 | True         |              0 |              12 |\n|         320 | Yogurt - French Vanilla           | 73.4396 |            9 | 2017-12-22 23:43:02.230000 | True         |              0 |               4 |\n|         321 | Potatoes - Instant, Mashed        | 10.4007 |            1 | 2017-12-10 23:22:52.220000 | True         |              0 |              11 |\n|         322 | Onions - Vidalia                  | 26.2846 |            2 | 2017-12-28 22:03:10.240000 | True         |              0 |              11 |\n|         326 | Appetizer - Mushroom Tart         | 38.859  |            9 | 2018-02-07 10:01:42.490000 | True         |              0 |               1 |\n|         327 | Appetizer - Mini Egg Roll, Shrimp |  7.1436 |            2 | 2017-06-20 08:14:28.810000 | True         |              0 |               2 |\n|         329 | Pork - Loin, Center Cut           | 39.3496 |            6 | 2018-04-05 15:03:48.810000 | True         |              0 |               7 |\n|         330 | Olives - Kalamata                 | 18.7914 |           10 | 2018-02-05 23:08:18.220000 | True         |              0 |              11 |\n|         332 | Bouq All Italian - Primerba       | 59.7578 |            5 | 2018-04-12 08:47:00.100000 | True         |              0 |              12 |\n|         333 | Cheese - Cottage Cheese           | 20.2364 |            7 | 2018-01-23 05:25:05.530000 | True         |              0 |               4 |\n|         334 | Ecolab - Lime - A - Way 4/4 L     | 21.6133 |            7 | 2018-03-08 01:07:50.950000 | True         |              0 |               5 |\n|         336 | Broom - Corn                      | 71.9241 |            2 | 2017-06-19 19:15:47.500000 | True         |              0 |              12 |\n|         337 | Bread - Rye                       | 83.5373 |            3 | 2017-06-21 05:50:53.390000 | True         |              0 |               8 |\n|         338 | Cheese - Camembert                | 28.9899 |           11 | 2017-01-19 23:22:25.970000 | True         |              0 |               4 |\n|         339 | Beef - Striploin Aa               |  2.389  |            2 | 2017-06-09 17:13:52.820000 | True         |              0 |               7 |\n|         340 | Veal - Sweetbread                 | 28.2349 |            3 | 2017-04-04 03:41:07.690000 | True         |              0 |               7 |\n|         341 | Bread - Roll, Canadian Dinner     | 90.2641 |            1 | 2017-09-19 11:29:23.250000 | True         |              0 |               8 |\n|         343 | Otomegusa Dashi Konbu             | 51.2061 |            1 | 2017-12-07 12:03:49.170000 | True         |              0 |              12 |\n|         346 | Cheese - Parmesan Grated          | 17.1914 |            1 | 2018-02-15 06:50:07.540000 | True         |              0 |               4 |\n|         347 | Pail For Lid 1537                 | 94.6253 |            8 | 2017-02-01 11:34:48.910000 | True         |              0 |              12 |\n|         349 | Puree - Mocha                     | 86.9086 |            4 | 2018-02-21 05:37:36.440000 | True         |              0 |              12 |\n|         350 | Isomalt                           | 82.83   |            8 | 2017-02-02 16:32:57.360000 | True         |              0 |              12 |\n|         351 | Hot Chocolate - Individual        | 96.0823 |            1 | 2017-03-28 07:49:13.300000 | True         |              0 |               5 |\n|         354 | Crackers Cheez It                 |  6.6975 |            7 | 2017-03-05 03:14:18.270000 | True         |              0 |              12 |\n|         356 | Dc - Frozen Momji                 | 17.1274 |            6 | 2017-11-25 03:26:12.700000 | True         |              0 |              12 |\n|         357 | Tilapia - Fillets                 |  6.8332 |            2 | 2017-05-27 00:14:44.530000 | True         |              0 |               6 |\n|         358 | Cheese - Boursin, Garlic / Herbs  | 84.7111 |            9 | 2017-09-02 16:14:14.540000 | True         |              0 |               4 |\n|         362 | Cumin - Whole                     | 53.3476 |            7 | 2017-10-26 03:36:19.600000 | True         |              0 |              11 |\n|         363 | Cornflakes                        | 48.7712 |           11 | 2017-09-06 05:29:29.090000 | True         |              0 |               3 |\n|         364 | Cattail Hearts                    |  8.8429 |            1 | 2017-02-01 20:48:18.090000 | True         |              0 |              11 |\n|         366 | Tahini Paste                      | 80.4483 |            4 | 2018-01-25 17:24:49.550000 | True         |              0 |              12 |\n|         368 | Flour - Teff                      | 18.2978 |            4 | 2017-12-14 13:54:38.720000 | True         |              0 |               8 |\n|         370 | Muffin - Carrot Individual Wrap   | 21.8806 |            4 | 2017-11-28 02:16:34.130000 | True         |              0 |               1 |\n|         371 | Creme De Banane - Marie           | 82.4022 |            8 | 2017-07-18 08:20:56.880000 | True         |              0 |               5 |\n|         372 | Wine - Two Oceans Cabernet        |  6.2824 |            3 | 2018-01-22 14:32:24.580000 | True         |              0 |               5 |\n|         373 | Beef - Montreal Smoked Brisket    | 54.8719 |            9 | 2017-08-01 00:32:33.220000 | True         |              0 |               7 |\n|         374 | Jagermeister                      | 49.3846 |            5 | 2018-05-07 16:28:06.950000 | True         |              0 |               5 |\n|         378 | Bread Foccacia Whole              | 90.7877 |            9 | 2017-06-08 11:20:22.690000 | True         |              0 |               8 |\n|         380 | Wine - White Cab Sauv.on          | 85.9743 |            4 | 2018-01-05 16:38:33.840000 | True         |              0 |               5 |\n|         382 | Soup - Campbells Bean Medley      | 51.7754 |            4 | 2017-11-28 21:07:38.870000 | True         |              0 |              11 |\n|         383 | Cake - Box Window 10x10x2.5       |  9.9694 |            2 | 2017-04-10 08:34:54.730000 | True         |              0 |               1 |\n|         386 | Sprouts - Baby Pea Tendrils       | 42.7112 |           10 | 2017-02-16 16:52:13.130000 | True         |              0 |              11 |\n|         388 | Table Cloth 120 Round White       | 13.5389 |            1 | 2017-11-21 02:10:47.260000 | True         |              0 |              12 |\n|         390 | Seedlings - Mix, Organic          |  1.2956 |            3 | 2017-12-27 05:33:12.280000 | True         |              0 |              11 |\n|         393 | Olive - Spread Tapenade           | 59.9572 |            1 | 2017-05-08 04:08:26.320000 | True         |              0 |              11 |\n|         395 | Juice - Lime                      | 91.7833 |            1 | 2017-10-22 15:46:44.740000 | True         |              0 |               5 |\n|         396 | Tea - Jasmin Green                | 36.9165 |            6 | 2018-04-03 07:53:03.650000 | True         |              0 |               5 |\n|         399 | Berry Brulee                      | 50.9114 |            6 | 2017-08-04 05:33:15.730000 | True         |              0 |              11 |\n|         400 | Carbonated Water - Blackcherry    | 18.1495 |            1 | 2017-08-30 20:41:44.350000 | True         |              0 |               5 |\n|         403 | Liners - Baking Cups              | 68.1898 |            5 | 2017-11-20 07:56:26.630000 | True         |              0 |              12 |\n|         404 | Pants Custom Dry Clean            | 65.028  |            1 | 2017-03-27 03:21:02.310000 | True         |              0 |              12 |\n|         405 | Pastry - Raisin Muffin - Mini     |  0.4278 |           11 | 2017-11-25 08:12:00.480000 | True         |              0 |               1 |\n|         406 | Shrimp - Baby, Warm Water         | 89.7999 |            9 | 2017-07-13 17:16:48.730000 | True         |              0 |               2 |\n|         407 | Pepsi - Diet, 355 Ml              | 69.7674 |            7 | 2017-04-08 19:09:22.830000 | True         |              0 |               5 |\n|         408 | Blueberries                       | 68.7346 |            4 | 2017-03-06 12:48:13.750000 | True         |              0 |              11 |\n|         409 | Skirt - 29 Foot                   | 23.522  |           11 | 2018-04-08 15:00:39.310000 | True         |              0 |              12 |\n|         411 | Durian Fruit                      | 42.0489 |            6 | 2017-11-03 17:26:51.640000 | True         |              0 |              11 |\n|         412 | Lettuce - California Mix          | 16.0456 |            5 | 2018-04-27 12:54:21.840000 | True         |              0 |              11 |\n|         415 | Mussels - Frozen                  |  8.0069 |           10 | 2017-05-07 04:47:36.890000 | True         |              0 |               2 |\n|         416 | Baking Powder                     | 84.6763 |           10 | 2018-03-31 14:46:44.090000 | True         |              0 |              12 |\n|         418 | Truffle Cups - Brown              | 92.2516 |            2 | 2017-11-12 06:58:37.640000 | True         |              0 |              12 |\n|         420 | Whmis - Spray Bottle Trigger      | 69.9163 |            9 | 2018-04-15 14:06:53.200000 | True         |              0 |              12 |\n|         421 | Soup V8 Roasted Red Pepper        | 38.8096 |            6 | 2018-04-25 13:54:10.160000 | True         |              0 |               5 |\n|         424 | Vinegar - Tarragon                | 85.8828 |            3 | 2017-05-23 21:37:11.040000 | True         |              0 |              12 |\n|         425 | Wine - Redchard Merritt           | 56.7898 |            4 | 2017-11-04 07:15:31.160000 | True         |              0 |               5 |\n|         426 | Scallops - Live In Shell          | 83.5759 |            3 | 2017-09-29 18:44:18.040000 | True         |              0 |               2 |\n|         427 | Wine - Vineland Estate Semi - Dry | 46.3252 |            3 | 2017-09-17 10:23:58.260000 | True         |              0 |               5 |\n|         429 | Beef - Short Loin                 | 57.6013 |            4 | 2017-07-17 00:41:22.210000 | True         |              0 |               7 |\n|         434 | Cookie - Dough Variety            | 71.1551 |            7 | 2017-02-18 11:07:25.550000 | True         |              0 |               1 |\n|         435 | Salsify, Organic                  | 32.6109 |            8 | 2017-12-02 21:15:24.990000 | True         |              0 |              11 |\n|         437 | Chips Potato All Dressed - 43g    | 83.5856 |           10 | 2017-01-09 13:11:12.230000 | True         |              0 |              11 |\n|         438 | Juice - Orange                    | 44.9415 |            2 | 2017-01-15 05:13:52.420000 | True         |              0 |               5 |\n|         440 | Pork - Inside                     | 32.9092 |            1 | 2017-05-01 22:02:16.170000 | True         |              0 |               7 |\n|         441 | Blackberries                      | 72.9439 |            3 | 2018-03-19 21:42:50.300000 | True         |              0 |              11 |\n|         447 | Salmon - Atlantic, Skin On        |  3.4198 |            3 | 2018-04-12 05:11:34.210000 | True         |              0 |               6 |\n|         448 | Gatorade - Xfactor Berry          | 76.8988 |            5 | 2017-04-22 01:33:00.490000 | True         |              0 |               5 |\n|         449 | Nantuket Peach Orange             | 42.1414 |            4 | 2017-01-31 09:11:45.450000 | True         |              0 |               5 |\n|         450 | Wine - Vidal Icewine Magnotta     |  7.107  |            3 | 2017-12-01 01:00:00.650000 | True         |              0 |               5 |\n|         451 | Soup - Campbells Tomato Ravioli   | 93.5384 |            1 | 2017-09-16 12:51:38.780000 | True         |              0 |              11 |\n|         452 | Napkin White - Starched           | 28.5653 |           11 | 2017-01-06 14:39:42.890000 | True         |              0 |              12 |"
          },
          "metadata": {}
        }
      ],
      "source": [
        "display(Markdown(dataset['products'][dataset['products']['VitalityDays'] == 0].to_markdown(index=False)))"
      ]
    },
    {
      "cell_type": "markdown",
      "id": "b42df775",
      "metadata": {
        "id": "b42df775"
      },
      "source": [
        "As you can see from the list of product names that most of these items are perishable, so VitalityDays should not be $0$. Thus, we can conclude that the data in this column is unreliable and should be removed."
      ]
    },
    {
      "cell_type": "code",
      "execution_count": 24,
      "id": "f2cd14f3",
      "metadata": {
        "id": "f2cd14f3",
        "outputId": "124dc2ea-9987-450c-ea62-1f1fdaec2a00",
        "colab": {
          "base_uri": "https://localhost:8080/",
          "height": 206
        }
      },
      "outputs": [
        {
          "output_type": "display_data",
          "data": {
            "text/plain": [
              "<IPython.core.display.Markdown object>"
            ],
            "text/markdown": "|    |   ProductID | ProductName                |   Price |   CategoryID | ModifyDate                 | IsAllergic   |   NewCategoryID |\n|---:|------------:|:---------------------------|--------:|-------------:|:---------------------------|:-------------|----------------:|\n|  0 |           1 | Flour - Whole Wheat        | 74.2988 |            3 | 2018-02-16 08:21:49.190000 | True         |               8 |\n|  1 |           2 | Cookie Chocolate Chip With | 91.2329 |            3 | 2017-02-12 11:39:10.970000 | True         |               1 |\n|  2 |           3 | Onions - Cippolini         |  9.1379 |            9 | 2018-03-15 08:11:51.560000 | True         |              11 |\n|  3 |           4 | Sauce - Gravy, Au Jus, Mix | 54.3055 |            9 | 2017-07-16 00:46:28.880000 | True         |              11 |\n|  4 |           5 | Artichokes - Jerusalem     | 65.4771 |            2 | 2017-08-16 14:13:35.430000 | True         |              11 |"
          },
          "metadata": {}
        }
      ],
      "source": [
        "dataset['products'] = dataset['products'].drop(columns='VitalityDays')\n",
        "display(Markdown(dataset['products'].head().to_markdown()))"
      ]
    },
    {
      "cell_type": "markdown",
      "id": "ea810be2",
      "metadata": {
        "id": "ea810be2"
      },
      "source": [
        "## 3. Data Wrangling"
      ]
    },
    {
      "cell_type": "code",
      "execution_count": 25,
      "id": "3b7728f0",
      "metadata": {
        "id": "3b7728f0",
        "outputId": "5df10ee3-e2ab-43e1-af61-1515088d04b8",
        "colab": {
          "base_uri": "https://localhost:8080/",
          "height": 369
        }
      },
      "outputs": [
        {
          "output_type": "stream",
          "name": "stderr",
          "text": [
            "/tmp/ipython-input-25-2366706627.py:7: SettingWithCopyWarning: \n",
            "A value is trying to be set on a copy of a slice from a DataFrame.\n",
            "Try using .loc[row_indexer,col_indexer] = value instead\n",
            "\n",
            "See the caveats in the documentation: https://pandas.pydata.org/pandas-docs/stable/user_guide/indexing.html#returning-a-view-versus-a-copy\n",
            "  revenue['Revenue'] = revenue['Price'] * revenue['Quantity'] * (1 - revenue['Discount'])\n"
          ]
        },
        {
          "output_type": "display_data",
          "data": {
            "text/plain": [
              "<IPython.core.display.Markdown object>"
            ],
            "text/markdown": "The total sales revenue can be calculated by breaking down each transaction into its components:"
          },
          "metadata": {}
        },
        {
          "output_type": "display_data",
          "data": {
            "text/plain": [
              "<IPython.core.display.Markdown object>"
            ],
            "text/markdown": "| TransactionNumber    |   Price |   Quantity |   Discount |   Revenue |\n|:---------------------|--------:|-----------:|-----------:|----------:|\n| FQL4S94E4ME1EZFTG42G | 44.2337 |          7 |        0   |   309.636 |\n| 12UGLX40DJ1A5DTFBHB8 | 62.546  |          7 |        0   |   437.822 |\n| 5DT8RCPL87KI5EORO7B0 | 79.0184 |         24 |        0   |  1896.44  |\n| R3DR9MLD5NR76VO17ULE | 81.3167 |         19 |        0.2 |  1236.01  |\n| 4BGS0Z5OMAZ8NDAFHHP3 | 79.978  |          9 |        0   |   719.802 |"
          },
          "metadata": {}
        },
        {
          "output_type": "display_data",
          "data": {
            "text/plain": [
              "<IPython.core.display.Markdown object>"
            ],
            "text/markdown": "The Total Sales Revenue of FreshMart from 2018-01-01 to 2018-05-09 is USD 4,332,445,646.06"
          },
          "metadata": {}
        }
      ],
      "source": [
        "# Code to calculate total sales revenue\n",
        "revenue = pd.merge(left=dataset['sales'],\n",
        "                   right=dataset['products'],\n",
        "                   on='ProductID',\n",
        "                   how='left')\n",
        "revenue = revenue[['TransactionNumber', 'Price', 'Quantity', 'Discount']]\n",
        "revenue['Revenue'] = revenue['Price'] * revenue['Quantity'] * (1 - revenue['Discount'])\n",
        "display(Markdown(\"The total sales revenue can be calculated by breaking down each transaction into its components:\"))\n",
        "display(Markdown(revenue.head().to_markdown(index=False)))\n",
        "\n",
        "# Total Sales Revenue\n",
        "total_sales_revenue = revenue['Revenue'].sum()\n",
        "display(Markdown(f\"The Total Sales Revenue of FreshMart from {dataset['sales']['SalesDate'].min().date()} to {dataset['sales']['SalesDate'].max().date()} is USD {round(total_sales_revenue,2):,}\"))"
      ]
    },
    {
      "cell_type": "code",
      "execution_count": 28,
      "id": "f1b53ba6",
      "metadata": {
        "id": "f1b53ba6",
        "outputId": "7eb40f34-8d67-439e-ce1c-f056f974fb5c",
        "colab": {
          "base_uri": "https://localhost:8080/",
          "height": 1000
        }
      },
      "outputs": [
        {
          "output_type": "stream",
          "name": "stderr",
          "text": [
            "/tmp/ipython-input-28-89173264.py:17: SettingWithCopyWarning: \n",
            "A value is trying to be set on a copy of a slice from a DataFrame.\n",
            "Try using .loc[row_indexer,col_indexer] = value instead\n",
            "\n",
            "See the caveats in the documentation: https://pandas.pydata.org/pandas-docs/stable/user_guide/indexing.html#returning-a-view-versus-a-copy\n",
            "  combined_dataset['Revenue'] = combined_dataset['Price'] * combined_dataset['Quantity'] * (1 - combined_dataset['Discount'])\n"
          ]
        },
        {
          "output_type": "display_data",
          "data": {
            "text/plain": [
              "<IPython.core.display.Markdown object>"
            ],
            "text/markdown": "Total Sales and its components by CategoryName"
          },
          "metadata": {}
        },
        {
          "output_type": "stream",
          "name": "stderr",
          "text": [
            "/tmp/ipython-input-28-89173264.py:23: RuntimeWarning: invalid value encountered in scalar divide\n",
            "  WeightedAvgPrice=('Price', lambda x: (x * combined_dataset.loc[x.index, 'Quantity']).sum() / combined_dataset.loc[x.index, 'Quantity'].sum()),\n",
            "/tmp/ipython-input-28-89173264.py:24: RuntimeWarning: invalid value encountered in scalar divide\n",
            "  WeightedAvgDiscount=('Discount', lambda x: (x * combined_dataset.loc[x.index, 'Quantity']).sum() / combined_dataset.loc[x.index, 'Quantity'].sum())\n"
          ]
        },
        {
          "output_type": "display_data",
          "data": {
            "text/plain": [
              "<IPython.core.display.Markdown object>"
            ],
            "text/markdown": "| CategoryName   |   TotalSalesRevenue |   TotalVolume |   WeightedAvgPrice |   WeightedAvgDiscount |\n|:---------------|--------------------:|--------------:|-------------------:|----------------------:|\n| Beverages      |         8.27877e+08 |      18091525 |            47.1735 |             0.0299834 |\n| Cereals        |         2.50646e+07 |        584220 |            44.2311 |             0.0299938 |\n| Confections    |         3.31103e+08 |       6813097 |            50.1028 |             0.0299399 |\n| Dairy          |         2.99597e+08 |       5643450 |            54.7211 |             0.0298597 |\n| Grain          |         3.28729e+08 |       6033125 |            56.1741 |             0.0299641 |\n| Meat           |         3.8123e+08  |       7584599 |            51.828  |             0.0301055 |\n| Poultry        |         8.04919e+07 |       1950148 |            42.5589 |             0.0301484 |\n| Produce        |         1.03935e+09 |      20019407 |            53.5137 |             0.0298949 |\n| Seafood        |         1.45254e+08 |       3503838 |            42.7355 |             0.0300877 |\n| Shell fish     |         1.28072e+08 |       2728372 |            48.3927 |             0.0299557 |\n| Snails         |         0           |             0 |           nan      |           nan         |\n| Uncategorised  |         7.45676e+08 |      14930927 |            51.4856 |             0.0300258 |"
          },
          "metadata": {}
        },
        {
          "output_type": "display_data",
          "data": {
            "text/plain": [
              "<IPython.core.display.Markdown object>"
            ],
            "text/markdown": "Total Sales and its components by CountryName"
          },
          "metadata": {}
        },
        {
          "output_type": "display_data",
          "data": {
            "text/plain": [
              "<IPython.core.display.Markdown object>"
            ],
            "text/markdown": "| CountryName   |   TotalSalesRevenue |   TotalVolume |   WeightedAvgPrice |   WeightedAvgDiscount |\n|:--------------|--------------------:|--------------:|-------------------:|----------------------:|\n| United States |         4.33245e+09 |      87882708 |            50.8207 |             0.0299754 |"
          },
          "metadata": {}
        },
        {
          "output_type": "display_data",
          "data": {
            "text/plain": [
              "<IPython.core.display.Markdown object>"
            ],
            "text/markdown": "Total Sales and its components by CityName"
          },
          "metadata": {}
        },
        {
          "output_type": "display_data",
          "data": {
            "text/plain": [
              "<IPython.core.display.Markdown object>"
            ],
            "text/markdown": "| CityName     |   TotalSalesRevenue |   TotalVolume |   WeightedAvgPrice |   WeightedAvgDiscount |\n|:-------------|--------------------:|--------------:|-------------------:|----------------------:|\n| Albuquerque  |         1.88458e+08 |       3822931 |            50.8222 |             0.0300137 |\n| Anaheim      |         1.89223e+08 |       3820763 |            51.0524 |             0.0299696 |\n| Anchorage    |         1.89313e+08 |       3823124 |            51.0463 |             0.029975  |\n| Atlanta      |         1.87264e+08 |       3820273 |            50.5544 |             0.0302926 |\n| Baltimore    |         3.78828e+08 |       7666040 |            50.9393 |             0.0298852 |\n| Columbus     |         3.7685e+08  |       7636505 |            50.8741 |             0.0300134 |\n| Fremont      |         1.87842e+08 |       3823586 |            50.6393 |             0.0298917 |\n| Hialeah      |         1.87932e+08 |       3817278 |            50.7539 |             0.0300071 |\n| Indianapolis |         1.89413e+08 |       3818823 |            51.1266 |             0.0299169 |\n| Jackson      |         1.89062e+08 |       3823488 |            50.9617 |             0.0297445 |\n| Las Vegas    |         1.88781e+08 |       3819493 |            50.9684 |             0.0303201 |\n| Little Rock  |         1.88863e+08 |       3832712 |            50.7856 |             0.0297923 |\n| Lubbock      |         5.65785e+08 |      11476685 |            50.8209 |             0.0300003 |\n| New Orleans  |         3.7397e+08  |       7611584 |            50.6461 |             0.0298907 |\n| Riverside    |         1.88001e+08 |       3817440 |            50.7829 |             0.0302074 |\n| Rochester    |         1.87529e+08 |       3813002 |            50.7045 |             0.0300053 |\n| Tacoma       |         1.87552e+08 |       3821151 |            50.5944 |             0.0298752 |\n| Tucson       |         1.8778e+08  |       3817830 |            50.6992 |             0.0298436 |"
          },
          "metadata": {}
        },
        {
          "output_type": "display_data",
          "data": {
            "text/plain": [
              "<IPython.core.display.Markdown object>"
            ],
            "text/markdown": "Total Sales and its components by Gender"
          },
          "metadata": {}
        },
        {
          "output_type": "display_data",
          "data": {
            "text/plain": [
              "<IPython.core.display.Markdown object>"
            ],
            "text/markdown": "| Gender   |   TotalSalesRevenue |   TotalVolume |   WeightedAvgPrice |   WeightedAvgDiscount |\n|:---------|--------------------:|--------------:|-------------------:|----------------------:|\n| F        |         1.50553e+09 |      30550622 |            50.8034 |             0.0300007 |\n| M        |         2.82691e+09 |      57332086 |            50.8299 |             0.0299619 |"
          },
          "metadata": {}
        },
        {
          "output_type": "display_data",
          "data": {
            "text/plain": [
              "<IPython.core.display.Markdown object>"
            ],
            "text/markdown": "Total Sales and its components by SalesMonth"
          },
          "metadata": {}
        },
        {
          "output_type": "display_data",
          "data": {
            "text/plain": [
              "<IPython.core.display.Markdown object>"
            ],
            "text/markdown": "| SalesMonth   |   TotalSalesRevenue |   TotalVolume |   WeightedAvgPrice |   WeightedAvgDiscount |\n|:-------------|--------------------:|--------------:|-------------------:|----------------------:|\n| 2018-01      |         1.03074e+09 |      20900454 |            50.8352 |             0.0299474 |\n| 2018-02      |         9.29204e+08 |      18862843 |            50.7813 |             0.0299119 |\n| 2018-03      |         1.0322e+09  |      20930945 |            50.8383 |             0.0300211 |\n| 2018-04      |         9.97269e+08 |      20229466 |            50.8244 |             0.0300364 |\n| 2018-05      |         2.99832e+08 |       6079839 |            50.8414 |             0.0298933 |"
          },
          "metadata": {}
        },
        {
          "output_type": "display_data",
          "data": {
            "text/plain": [
              "<IPython.core.display.Markdown object>"
            ],
            "text/markdown": "Total Sales and its components by SalesWeek"
          },
          "metadata": {}
        },
        {
          "output_type": "display_data",
          "data": {
            "text/plain": [
              "<IPython.core.display.Markdown object>"
            ],
            "text/markdown": "| SalesWeek             |   TotalSalesRevenue |   TotalVolume |   WeightedAvgPrice |   WeightedAvgDiscount |\n|:----------------------|--------------------:|--------------:|-------------------:|----------------------:|\n| 2018-01-01/2018-01-07 |         2.32895e+08 |       4722650 |            50.8239 |             0.0297181 |\n| 2018-01-08/2018-01-14 |         2.32092e+08 |       4707144 |            50.8292 |             0.029969  |\n| 2018-01-15/2018-01-21 |         2.32863e+08 |       4718290 |            50.8706 |             0.030004  |\n| 2018-01-22/2018-01-28 |         2.334e+08   |       4735976 |            50.81   |             0.0300811 |\n| 2018-01-29/2018-02-04 |         2.32548e+08 |       4708358 |            50.9039 |             0.0298401 |\n| 2018-02-05/2018-02-11 |         2.31484e+08 |       4702347 |            50.7468 |             0.0299192 |\n| 2018-02-12/2018-02-18 |         2.32391e+08 |       4719215 |            50.7628 |             0.029903  |\n| 2018-02-19/2018-02-25 |         2.32804e+08 |       4727909 |            50.7629 |             0.0299365 |\n| 2018-02-26/2018-03-04 |         2.32357e+08 |       4711609 |            50.8366 |             0.0300086 |\n| 2018-03-05/2018-03-11 |         2.3241e+08  |       4715737 |            50.8035 |             0.029982  |\n| 2018-03-12/2018-03-18 |         2.3341e+08  |       4736075 |            50.8149 |             0.0300717 |\n| 2018-03-19/2018-03-25 |         2.33366e+08 |       4732327 |            50.8369 |             0.0300633 |\n| 2018-03-26/2018-04-01 |         2.33566e+08 |       4737056 |            50.837  |             0.030066  |\n| 2018-04-02/2018-04-08 |         2.32068e+08 |       4716468 |            50.7304 |             0.0300328 |\n| 2018-04-09/2018-04-15 |         2.3284e+08  |       4716896 |            50.8874 |             0.0299408 |\n| 2018-04-16/2018-04-22 |         2.32647e+08 |       4724551 |            50.7593 |             0.0299136 |\n| 2018-04-23/2018-04-29 |         2.32936e+08 |       4716267 |            50.9208 |             0.0301955 |\n| 2018-04-30/2018-05-06 |         2.32711e+08 |       4723941 |            50.7892 |             0.0299576 |\n| 2018-05-07/2018-05-13 |         1.00453e+08 |       2030731 |            50.9925 |             0.0298214 |"
          },
          "metadata": {}
        },
        {
          "output_type": "display_data",
          "data": {
            "text/plain": [
              "<IPython.core.display.Markdown object>"
            ],
            "text/markdown": "Total Sales and its components by SalesDayOfWeek"
          },
          "metadata": {}
        },
        {
          "output_type": "display_data",
          "data": {
            "text/plain": [
              "<IPython.core.display.Markdown object>"
            ],
            "text/markdown": "| SalesDayOfWeek   |   TotalSalesRevenue |   TotalVolume |   WeightedAvgPrice |   WeightedAvgDiscount |\n|:-----------------|--------------------:|--------------:|-------------------:|----------------------:|\n| Friday           |         5.99327e+08 |      12162078 |            50.7893 |             0.0298793 |\n| Monday           |         6.31662e+08 |      12806199 |            50.8538 |             0.0300358 |\n| Saturday         |         5.98498e+08 |      12140124 |            50.8177 |             0.0299469 |\n| Sunday           |         5.98845e+08 |      12137522 |            50.8623 |             0.0299249 |\n| Thursday         |         5.97954e+08 |      12137247 |            50.7864 |             0.029941  |\n| Tuesday          |         6.31067e+08 |      12806944 |            50.8065 |             0.0301701 |\n| Wednesday        |         6.31889e+08 |      12813433 |            50.8377 |             0.0299119 |"
          },
          "metadata": {}
        },
        {
          "output_type": "display_data",
          "data": {
            "text/plain": [
              "<IPython.core.display.Markdown object>"
            ],
            "text/markdown": "Total Sales and its components by SalesHour"
          },
          "metadata": {}
        },
        {
          "output_type": "display_data",
          "data": {
            "text/plain": [
              "<IPython.core.display.Markdown object>"
            ],
            "text/markdown": "|   SalesHour |   TotalSalesRevenue |   TotalVolume |   WeightedAvgPrice |   WeightedAvgDiscount |\n|------------:|--------------------:|--------------:|-------------------:|----------------------:|\n|           0 |         1.78984e+08 |   3.62704e+06 |            50.8561 |             0.0297686 |\n|           1 |         1.78446e+08 |   3.62263e+06 |            50.7858 |             0.0300902 |\n|           2 |         1.79102e+08 |   3.63078e+06 |            50.8545 |             0.0299845 |\n|           3 |         1.7811e+08  |   3.61687e+06 |            50.755  |             0.0297424 |\n|           4 |         1.78613e+08 |   3.62028e+06 |            50.8391 |             0.0297648 |\n|           5 |         1.78155e+08 |   3.61883e+06 |            50.7506 |             0.0300066 |\n|           6 |         1.79002e+08 |   3.63043e+06 |            50.8285 |             0.0299322 |\n|           7 |         1.78461e+08 |   3.62293e+06 |            50.7837 |             0.030053  |\n|           8 |         1.78556e+08 |   3.62731e+06 |            50.7544 |             0.0300408 |\n|           9 |         1.78789e+08 |   3.63032e+06 |            50.7606 |             0.0296822 |\n|          10 |         1.78616e+08 |   3.62297e+06 |            50.8232 |             0.0300468 |\n|          11 |         1.78874e+08 |   3.6246e+06  |            50.8832 |             0.0300329 |\n|          12 |         1.78327e+08 |   3.62261e+06 |            50.7582 |             0.0300751 |\n|          13 |         1.78537e+08 |   3.62207e+06 |            50.8252 |             0.0301354 |\n|          14 |         1.78429e+08 |   3.61697e+06 |            50.8522 |             0.0299328 |\n|          15 |         1.78734e+08 |   3.62506e+06 |            50.8302 |             0.0300192 |\n|          16 |         1.79741e+08 |   3.63948e+06 |            50.917  |             0.0300818 |\n|          17 |         1.78964e+08 |   3.62578e+06 |            50.8916 |             0.0300751 |\n|          18 |         1.78616e+08 |   3.62195e+06 |            50.8485 |             0.0301725 |\n|          19 |         1.79029e+08 |   3.63502e+06 |            50.7662 |             0.0299428 |\n|          20 |         1.79625e+08 |   3.63456e+06 |            50.9544 |             0.0300552 |\n|          21 |         1.78552e+08 |   3.62124e+06 |            50.8229 |             0.0298933 |\n|          22 |         1.78334e+08 |   3.62224e+06 |            50.7479 |             0.0300211 |\n|          23 |         1.78644e+08 |   3.62156e+06 |            50.8423 |             0.0298346 |"
          },
          "metadata": {}
        }
      ],
      "source": [
        "# Code to calcualte Total Sales Revenue and its Components for each group.\n",
        "combined_dataset = dataset['sales'].merge(dataset['products'], on='ProductID', how='left') \\\n",
        "                                .merge(dataset['employees'], left_on='SalesPersonID', right_on='EmployeeID', how='left') \\\n",
        "                                .merge(dataset['categories'], left_on='NewCategoryID', right_on='CategoryID', how='left') \\\n",
        "                                .merge(dataset['cities'], on='CityID', how='left') \\\n",
        "                                .merge(dataset['countries'], on='CountryID', how='left')\n",
        "# Feature engineering, making new features to do univariate analysis with\n",
        "# Binning SalesDate into monthly bins, weekly bins, hourly bins and day of the week bins\n",
        "combined_dataset['SalesMonth'] = combined_dataset['SalesDate'].dt.to_period('M')\n",
        "combined_dataset['SalesWeek'] = combined_dataset['SalesDate'].dt.to_period('W')\n",
        "combined_dataset['SalesDayOfWeek'] = combined_dataset['SalesDate'].dt.day_name()\n",
        "combined_dataset['SalesHour'] = combined_dataset['SalesDate'].dt.hour\n",
        "\n",
        "component_cols = ['TransactionNumber', 'Price', 'Quantity', 'Discount']\n",
        "group_cols = ['CategoryName', 'CountryName', 'CityName', 'Gender', 'SalesMonth', 'SalesWeek', 'SalesDayOfWeek', 'SalesHour']\n",
        "combined_dataset = combined_dataset[component_cols+group_cols]\n",
        "combined_dataset['Revenue'] = combined_dataset['Price'] * combined_dataset['Quantity'] * (1 - combined_dataset['Discount'])\n",
        "for col in group_cols:\n",
        "    display(Markdown(f\"Total Sales and its components by {col}\"))\n",
        "    grouped = combined_dataset.groupby(col, observed=False).agg(\n",
        "        TotalSalesRevenue = ('Revenue', 'sum'),\n",
        "        TotalVolume = ('Quantity', 'sum'),\n",
        "        WeightedAvgPrice=('Price', lambda x: (x * combined_dataset.loc[x.index, 'Quantity']).sum() / combined_dataset.loc[x.index, 'Quantity'].sum()),\n",
        "        WeightedAvgDiscount=('Discount', lambda x: (x * combined_dataset.loc[x.index, 'Quantity']).sum() / combined_dataset.loc[x.index, 'Quantity'].sum())\n",
        "    ).reset_index()\n",
        "    display(Markdown(grouped.to_markdown(index=False)))"
      ]
    },
    {
      "cell_type": "markdown",
      "source": [
        "We can see that 3 categories have more Total Sales Revenue than the others:\n",
        "- Beverages\n",
        "- Poultry\n",
        "- Uncategorised\n",
        "\n",
        "4 cities have more Total Sales Revenue than the others:\n",
        "- Lubbock\n",
        "- New Orleans\n",
        "- Columbus\n",
        "- Baltimore\n",
        "\n",
        "Male employees have more Total Sales Revenue than Female Employees\n",
        "\n",
        "These trends will need to be investigated further."
      ],
      "metadata": {
        "id": "Ki_kozsjUDtH"
      },
      "id": "Ki_kozsjUDtH"
    }
  ],
  "metadata": {
    "kernelspec": {
      "display_name": "Python 3",
      "language": "python",
      "name": "python3"
    },
    "language_info": {
      "codemirror_mode": {
        "name": "ipython",
        "version": 3
      },
      "file_extension": ".py",
      "mimetype": "text/x-python",
      "name": "python",
      "nbconvert_exporter": "python",
      "pygments_lexer": "ipython3",
      "version": "3.13.2"
    },
    "colab": {
      "provenance": []
    }
  },
  "nbformat": 4,
  "nbformat_minor": 5
}