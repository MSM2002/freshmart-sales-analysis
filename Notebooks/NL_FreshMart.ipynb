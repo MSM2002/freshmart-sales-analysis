{
 "cells": [
  {
   "cell_type": "markdown",
   "id": "fae5c1cc",
   "metadata": {},
   "source": [
    "# Business Problem Overview"
   ]
  },
  {
   "cell_type": "markdown",
   "id": "f4bc9f2a",
   "metadata": {},
   "source": [
    "## FreshMart: Maximising Total Sales Revenue through Smarter Retail Decisions"
   ]
  },
  {
   "cell_type": "markdown",
   "id": "dada6131",
   "metadata": {},
   "source": [
    "FreshMart is a fast-growing grocery retail chain based in the United States, serving thousands of customers across various cities and countries. Known for its wide product range and affordable pricing, FreshMart has built a strong presence in both urban and suburban markets.\n",
    "\n",
    "As the company prepares for its next phase of growth, leadership wants to focus not just on adding new stores, but on increasing Total Sales Revenue from its existing network. This means a better understanding what drives revenue, from which products perform well, to how different regions, customer segments, and sales staff contribute to the bottom line.\n",
    "\n",
    "The company believes there are many untapped opportunities to grow sales. These may lie in:\n",
    "\n",
    "- how product categories perform across months,\n",
    "- which types of customers spend more,\n",
    "- how employees contribute to store-level sales,\n",
    "- which cities or countries have higher or lower sales, and\n",
    "- how discounts are influencing buying behavior."
   ]
  },
  {
   "cell_type": "markdown",
   "id": "0d124780",
   "metadata": {},
   "source": [
    "### Key Metric: Total Sales Revenue"
   ]
  },
  {
   "cell_type": "markdown",
   "id": "292e7f69",
   "metadata": {},
   "source": [
    "$\\text{Total Sales Revenue} = \\text{Unit Price} \\times \\text{Quantity} \\times (1 - \\text{Discount})$. This metric helps measure how much money FreshMart is making from selling products after applying discounts."
   ]
  },
  {
   "cell_type": "markdown",
   "id": "f1e058e4",
   "metadata": {},
   "source": [
    "### Objective"
   ]
  },
  {
   "cell_type": "markdown",
   "id": "f090ff06",
   "metadata": {},
   "source": [
    "The objective of this project is to:\n",
    "\n",
    "- Break down Total Sales Revenue into its core components such as product price, quantity sold, and discounts applied.\n",
    "- Explore how different product categories, classifications, and features contribute to revenue across time.\n",
    "- Segment customers based on order value, quantity purchased, and spending behavior.\n",
    "- Evaluate the performance of individual sales employees and understand how their contribution varies by region or time.\n",
    "- Compare city-wise and country-wise sales patterns to highlight high- and low-performing areas.\n",
    "- Analyse trends over time to understand when sales peak or drop, and how this differs by product or location."
   ]
  },
  {
   "cell_type": "markdown",
   "id": "2829805b",
   "metadata": {},
   "source": [
    "# Dataset Overview"
   ]
  },
  {
   "cell_type": "markdown",
   "id": "6c48a995",
   "metadata": {},
   "source": [
    "- **Dataset Name:** FreshMart Analytics Dataset\n",
    "- **Number of Tables:** 7"
   ]
  },
  {
   "cell_type": "markdown",
   "id": "245ecbcc",
   "metadata": {},
   "source": [
    "## Table Overviews"
   ]
  },
  {
   "cell_type": "markdown",
   "id": "67299299",
   "metadata": {},
   "source": [
    "### categories"
   ]
  },
  {
   "cell_type": "markdown",
   "id": "ec64311d",
   "metadata": {},
   "source": [
    "- **Table Name:** categories\n",
    "- **Number of rows:** 11\n",
    "- **Number of columns:** 2\n",
    "- **Description:** This table gives the different product categories that FreshMart sells."
   ]
  },
  {
   "cell_type": "markdown",
   "id": "be8e7cdd",
   "metadata": {},
   "source": [
    "### cities"
   ]
  },
  {
   "cell_type": "markdown",
   "id": "7d3e46ba",
   "metadata": {},
   "source": [
    "- **Table Name:** cities\n",
    "- **Number of rows:** 96\n",
    "- **Number of columns:** 4\n",
    "- **Description:** This table gives a list of cities and zipcodes FreshMart operates in."
   ]
  },
  {
   "cell_type": "markdown",
   "id": "c00c7d7a",
   "metadata": {},
   "source": [
    "### countries"
   ]
  },
  {
   "cell_type": "markdown",
   "id": "74583f8f",
   "metadata": {},
   "source": [
    "- **Table Name:** countries\n",
    "- **Number of rows:** 206\n",
    "- **Number of columns:** 3\n",
    "- **Description:** This table gives a list of countries FreshMart operates in."
   ]
  },
  {
   "cell_type": "markdown",
   "id": "913da6ec",
   "metadata": {},
   "source": [
    "### customers"
   ]
  },
  {
   "cell_type": "markdown",
   "id": "c4c46cce",
   "metadata": {},
   "source": [
    "- **Table Name:** customers\n",
    "- **Number of rows:** 98759\n",
    "- **Number of columns:** 6\n",
    "- **Description:** This table gives details of FreshMart customers. "
   ]
  },
  {
   "cell_type": "markdown",
   "id": "8a704790",
   "metadata": {},
   "source": [
    "### employees"
   ]
  },
  {
   "cell_type": "markdown",
   "id": "e1f83c85",
   "metadata": {},
   "source": [
    "- **Table Name:** employees\n",
    "- **Number of rows:** 23\n",
    "- **Number of columns:** 8\n",
    "- **Description:** This table gives details of FreshMart employees. "
   ]
  },
  {
   "cell_type": "markdown",
   "id": "92beffd2",
   "metadata": {},
   "source": [
    "### products"
   ]
  },
  {
   "cell_type": "markdown",
   "id": "f25c8f4e",
   "metadata": {},
   "source": [
    "- **Table Name:** products\n",
    "- **Number of rows:** 452\n",
    "- **Number of columns:** 9\n",
    "- **Description:** This table gives details of the products sold by FreshMart. "
   ]
  },
  {
   "cell_type": "markdown",
   "id": "2cd7363b",
   "metadata": {},
   "source": [
    "### sales"
   ]
  },
  {
   "cell_type": "markdown",
   "id": "f2312a31",
   "metadata": {},
   "source": [
    "- **Table Name:** sales\n",
    "- **Number of rows:** 6758125\n",
    "- **Number of columns:** 9\n",
    "- **Description:** This table gives detailed transaction history of FreshMart."
   ]
  },
  {
   "cell_type": "markdown",
   "id": "e2bd019e",
   "metadata": {},
   "source": [
    "## Column Definitions"
   ]
  },
  {
   "cell_type": "markdown",
   "id": "681bdceb",
   "metadata": {},
   "source": [
    "### categories"
   ]
  },
  {
   "cell_type": "markdown",
   "id": "70a77e3b",
   "metadata": {},
   "source": [
    "* **CategoryID**\n",
    "    * Description: Unique identifier for each product category.\n",
    "    * Example: 1\n",
    "* **CategoryName**\n",
    "    * Description: Name of the product category.\n",
    "    * Example: Beverages"
   ]
  },
  {
   "cell_type": "markdown",
   "id": "cbeb5e0f",
   "metadata": {},
   "source": [
    "### cities"
   ]
  },
  {
   "cell_type": "markdown",
   "id": "5a7e036c",
   "metadata": {},
   "source": [
    "* **CityID**\n",
    "    * Description: Unique identifier for each city.\n",
    "    * Example: 101\n",
    "* **CityName**\n",
    "    * Description: Name of the city.\n",
    "    * Example: San Diego\n",
    "* **Zipcode**\n",
    "    * Description: Represents the zipcode the city is in.\n",
    "    * Example: 500000\n",
    "* **CountryID**\n",
    "    * Description: Reference to the corresponding country from countries.\n",
    "    * Example: 1"
   ]
  },
  {
   "cell_type": "markdown",
   "id": "24e74c29",
   "metadata": {},
   "source": [
    "### countries"
   ]
  },
  {
   "cell_type": "markdown",
   "id": "2bc7ac79",
   "metadata": {},
   "source": [
    "  * **CountryID**\n",
    "    * Description: Unique identifier for each country.\n",
    "    * Example: 1\n",
    "  * **CountryName**\n",
    "    * Description: Name of the country.\n",
    "    * Example: United States\n",
    "  * **CountryCode**\n",
    "    * Description: Two-letter country code.\n",
    "    * Example: US\n"
   ]
  },
  {
   "cell_type": "markdown",
   "id": "7c6be68f",
   "metadata": {},
   "source": [
    "### customers"
   ]
  },
  {
   "cell_type": "markdown",
   "id": "27434801",
   "metadata": {},
   "source": [
    "  * **CustomerID**\n",
    "    * Description: Unique identifier for each customer.\n",
    "    * Example: 1001\n",
    "  * **FirstName**\n",
    "    * Description: First name of the customer.\n",
    "    * Example: Emma\n",
    "  * **MiddleInitial**\n",
    "    * Description: Middle initial of the customer.\n",
    "    * Example: A\n",
    "  * **LastName**\n",
    "    * Description: Last name of the customer.\n",
    "    * Example: Johnson\n",
    "  * **cityID**\n",
    "    * Description: City of the customer. Refers to cities.\n",
    "    * Example: 101\n",
    "  * **Address**\n",
    "    * Description: Residential address of the customer.\n",
    "    * Example: 123 Elm Street\n"
   ]
  },
  {
   "cell_type": "markdown",
   "id": "b53fd526",
   "metadata": {},
   "source": [
    "### employees"
   ]
  },
  {
   "cell_type": "markdown",
   "id": "24e309ab",
   "metadata": {},
   "source": [
    "  * **EmployeeID**\n",
    "    * Description: Unique identifier for each employee.\n",
    "    * Example: 501\n",
    "  * **FirstName**\n",
    "    * Description: First name of the employee.\n",
    "    * Example: Michael\n",
    "  * **MiddleInitial**\n",
    "    * Description: Middle initial of the employee.\n",
    "    * Example: B\n",
    "  * **LastName**\n",
    "    * Description: Last name of the employee.\n",
    "    * Example: Davis\n",
    "  * **BirthDate**\n",
    "    * Description: Date of birth of the employee in YYYY-MM-DD format.\n",
    "    * Example: 1985-07-14\n",
    "  * **Gender**\n",
    "    * Description: Gender of the employee.\n",
    "    * Example: Male\n",
    "  * **CityID**\n",
    "    * Description: City where the employee is based. Refers to cities.\n",
    "    * Example: 103\n",
    "  * **HireDate**\n",
    "    * Description: Date when the employee was hired.\n",
    "    * Example: 2021-04-01\n"
   ]
  },
  {
   "cell_type": "markdown",
   "id": "0067e78f",
   "metadata": {},
   "source": [
    "### products"
   ]
  },
  {
   "cell_type": "markdown",
   "id": "a4609b3a",
   "metadata": {},
   "source": [
    "  * **ProductID**\n",
    "    * Description: Unique identifier for each product.\n",
    "    * Example: 301\n",
    "  * **ProductName**\n",
    "    * Description: Name of the product.\n",
    "    * Example: Organic Apple\n",
    "  * **Price**\n",
    "    * Description: Unit price of the product in USD.\n",
    "    * Example: 3.50\n",
    "  * **CategoryID**\n",
    "    * Description: Category reference for the product. Refers to categories.\n",
    "    * Example: 2\n",
    "  * **Class**\n",
    "    * Description: Classification type of the product (e.g., Standard, Premium).\n",
    "    * Example: Premium\n",
    "  * **ModifyDate**\n",
    "    * Description: Date when the product information was last updated.\n",
    "    * Example: 2023-06-01\n",
    "  * **Resistant**\n",
    "    * Description: Product resistance category.\n",
    "    * Example: Water-resistant\n",
    "  * **IsAllergic**\n",
    "    * Description: Indicates whether the item contains allergens.\n",
    "    * Example: No\n",
    "  * **VitalityDays**\n",
    "    * Description: Indicates the product's shelf life or freshness period.\n",
    "    * Example: 7\n"
   ]
  },
  {
   "cell_type": "markdown",
   "id": "a82d7e77",
   "metadata": {},
   "source": [
    "### sales"
   ]
  },
  {
   "cell_type": "markdown",
   "id": "1919bea7",
   "metadata": {},
   "source": [
    "  * **SalesID**\n",
    "    * Description: Unique identifier for each sale.\n",
    "    * Example: 7001\n",
    "  * **SalesPersonID**\n",
    "    * Description: Employee responsible for the sale. Refers to employees.\n",
    "    * Example: 501\n",
    "  * **CustomerID**\n",
    "    * Description: Customer making the purchase. Refers to customers.\n",
    "    * Example: 1001\n",
    "  * **ProductID**\n",
    "    * Description: Product being sold. Refers to products.\n",
    "    * Example: 301\n",
    "  * **Quantity**\n",
    "    * Description: Number of product units sold.\n",
    "    * Example: 3\n",
    "  * **Discount**\n",
    "    * Description: Discount applied to this sale, shown as a decimal.\n",
    "    * Example: 0.10\n",
    "  * **TotalPrice**\n",
    "    * Description: Final sale price after applying discount.\n",
    "    * Example: 9.45\n",
    "  * **SalesDate**\n",
    "    * Description: Date and time of the sale in YYYY-MM-DD HH:MM:SS format.\n",
    "    * Example: 2024-05-15 14:32:00\n",
    "  * **TransactionNumber**\n",
    "    * Description: Unique identifier for the transaction.\n",
    "    * Example: TXN-20240515-0001\n"
   ]
  },
  {
   "cell_type": "markdown",
   "id": "b0a796cb",
   "metadata": {},
   "source": [
    "# Analysis & Visualisation"
   ]
  },
  {
   "cell_type": "markdown",
   "id": "ab1cb696",
   "metadata": {},
   "source": [
    "## Importing and Cleaning Data"
   ]
  },
  {
   "cell_type": "markdown",
   "id": "2373a402",
   "metadata": {},
   "source": [
    "### Importing the Necessary Libraries"
   ]
  },
  {
   "cell_type": "markdown",
   "id": "e940fa94",
   "metadata": {},
   "source": [
    "#### Install the libraries"
   ]
  },
  {
   "cell_type": "code",
   "execution_count": 1,
   "id": "536745f0",
   "metadata": {},
   "outputs": [
    {
     "name": "stdout",
     "output_type": "stream",
     "text": [
      "Requirement already satisfied: gdown in d:\\program files\\python313\\lib\\site-packages (5.2.0)\n",
      "Requirement already satisfied: beautifulsoup4 in d:\\program files\\python313\\lib\\site-packages (from gdown) (4.13.4)\n",
      "Requirement already satisfied: filelock in d:\\program files\\python313\\lib\\site-packages (from gdown) (3.18.0)\n",
      "Requirement already satisfied: requests[socks] in d:\\program files\\python313\\lib\\site-packages (from gdown) (2.32.3)\n",
      "Requirement already satisfied: tqdm in d:\\program files\\python313\\lib\\site-packages (from gdown) (4.67.1)\n",
      "Requirement already satisfied: soupsieve>1.2 in d:\\program files\\python313\\lib\\site-packages (from beautifulsoup4->gdown) (2.7)\n",
      "Requirement already satisfied: typing-extensions>=4.0.0 in d:\\program files\\python313\\lib\\site-packages (from beautifulsoup4->gdown) (4.13.2)\n",
      "Requirement already satisfied: charset-normalizer<4,>=2 in d:\\program files\\python313\\lib\\site-packages (from requests[socks]->gdown) (3.4.2)\n",
      "Requirement already satisfied: idna<4,>=2.5 in d:\\program files\\python313\\lib\\site-packages (from requests[socks]->gdown) (3.10)\n",
      "Requirement already satisfied: urllib3<3,>=1.21.1 in d:\\program files\\python313\\lib\\site-packages (from requests[socks]->gdown) (2.4.0)\n",
      "Requirement already satisfied: certifi>=2017.4.17 in d:\\program files\\python313\\lib\\site-packages (from requests[socks]->gdown) (2025.4.26)\n",
      "Requirement already satisfied: PySocks!=1.5.7,>=1.5.6 in d:\\program files\\python313\\lib\\site-packages (from requests[socks]->gdown) (1.7.1)\n",
      "Requirement already satisfied: colorama in c:\\users\\manas\\appdata\\roaming\\python\\python313\\site-packages (from tqdm->gdown) (0.4.6)\n",
      "Note: you may need to restart the kernel to use updated packages.\n",
      "Requirement already satisfied: ipython in c:\\users\\manas\\appdata\\roaming\\python\\python313\\site-packages (9.1.0)\n",
      "Requirement already satisfied: colorama in c:\\users\\manas\\appdata\\roaming\\python\\python313\\site-packages (from ipython) (0.4.6)\n",
      "Requirement already satisfied: decorator in c:\\users\\manas\\appdata\\roaming\\python\\python313\\site-packages (from ipython) (5.2.1)\n",
      "Requirement already satisfied: ipython-pygments-lexers in c:\\users\\manas\\appdata\\roaming\\python\\python313\\site-packages (from ipython) (1.1.1)\n",
      "Requirement already satisfied: jedi>=0.16 in c:\\users\\manas\\appdata\\roaming\\python\\python313\\site-packages (from ipython) (0.19.2)\n",
      "Requirement already satisfied: matplotlib-inline in c:\\users\\manas\\appdata\\roaming\\python\\python313\\site-packages (from ipython) (0.1.7)\n",
      "Requirement already satisfied: prompt_toolkit<3.1.0,>=3.0.41 in c:\\users\\manas\\appdata\\roaming\\python\\python313\\site-packages (from ipython) (3.0.50)\n",
      "Requirement already satisfied: pygments>=2.4.0 in c:\\users\\manas\\appdata\\roaming\\python\\python313\\site-packages (from ipython) (2.19.1)\n",
      "Requirement already satisfied: stack_data in c:\\users\\manas\\appdata\\roaming\\python\\python313\\site-packages (from ipython) (0.6.3)\n",
      "Requirement already satisfied: traitlets>=5.13.0 in c:\\users\\manas\\appdata\\roaming\\python\\python313\\site-packages (from ipython) (5.14.3)\n",
      "Requirement already satisfied: wcwidth in c:\\users\\manas\\appdata\\roaming\\python\\python313\\site-packages (from prompt_toolkit<3.1.0,>=3.0.41->ipython) (0.2.13)\n",
      "Requirement already satisfied: parso<0.9.0,>=0.8.4 in c:\\users\\manas\\appdata\\roaming\\python\\python313\\site-packages (from jedi>=0.16->ipython) (0.8.4)\n",
      "Requirement already satisfied: executing>=1.2.0 in c:\\users\\manas\\appdata\\roaming\\python\\python313\\site-packages (from stack_data->ipython) (2.2.0)\n",
      "Requirement already satisfied: asttokens>=2.1.0 in c:\\users\\manas\\appdata\\roaming\\python\\python313\\site-packages (from stack_data->ipython) (3.0.0)\n",
      "Requirement already satisfied: pure-eval in c:\\users\\manas\\appdata\\roaming\\python\\python313\\site-packages (from stack_data->ipython) (0.2.3)\n",
      "Note: you may need to restart the kernel to use updated packages.\n",
      "Requirement already satisfied: pandas in d:\\program files\\python313\\lib\\site-packages (2.2.3)\n",
      "Requirement already satisfied: numpy>=1.26.0 in d:\\program files\\python313\\lib\\site-packages (from pandas) (2.2.4)\n",
      "Requirement already satisfied: python-dateutil>=2.8.2 in d:\\program files\\python313\\lib\\site-packages (from pandas) (2.9.0.post0)\n",
      "Requirement already satisfied: pytz>=2020.1 in d:\\program files\\python313\\lib\\site-packages (from pandas) (2025.2)\n",
      "Requirement already satisfied: tzdata>=2022.7 in d:\\program files\\python313\\lib\\site-packages (from pandas) (2025.2)\n",
      "Requirement already satisfied: six>=1.5 in d:\\program files\\python313\\lib\\site-packages (from python-dateutil>=2.8.2->pandas) (1.17.0)\n",
      "Note: you may need to restart the kernel to use updated packages.\n",
      "Requirement already satisfied: tabulate in d:\\program files\\python313\\lib\\site-packages (0.9.0)\n",
      "Note: you may need to restart the kernel to use updated packages.\n"
     ]
    }
   ],
   "source": [
    "# To download files from Google Drive\n",
    "%pip install gdown\n",
    "\n",
    "# To get output in markdown format\n",
    "%pip install ipython\n",
    "\n",
    "# To work with dataframes\n",
    "%pip install pandas\n",
    "\n",
    "# To display dataframes in markdown text\n",
    "%pip install tabulate\n"
   ]
  },
  {
   "cell_type": "markdown",
   "id": "8b74237f",
   "metadata": {},
   "source": [
    "#### Import the libraries"
   ]
  },
  {
   "cell_type": "code",
   "execution_count": 1,
   "id": "2c483088",
   "metadata": {},
   "outputs": [],
   "source": [
    "import gdown\n",
    "import os\n",
    "from IPython.display import display, Markdown\n",
    "import pandas as pd"
   ]
  },
  {
   "cell_type": "markdown",
   "id": "7ac521fb",
   "metadata": {},
   "source": [
    "### Loading the Dataset from Google Drive"
   ]
  },
  {
   "cell_type": "code",
   "execution_count": 2,
   "id": "18d4c541",
   "metadata": {},
   "outputs": [],
   "source": [
    "FOLDER_URL = 'https://drive.google.com/drive/folders/1FcrdY8uZLE04-U5K2dqnjhDJVenFwGlk' # The Google Drive folder URL\n",
    "DOWNLOAD_DIRECTORY = os.path.abspath(os.path.join(os.getcwd(), \"..\", \"Dataset\")) # The directory where the downloaded CSVs will be stored, you can adjust it to your choice but all further analysis will be done based on this directory structure."
   ]
  },
  {
   "cell_type": "code",
   "execution_count": null,
   "id": "19eb1246",
   "metadata": {},
   "outputs": [],
   "source": [
    "# This snippet will download all the contents from the Google Drive Folder\n",
    "\n",
    "# Make the download directory if it doesn't exist\n",
    "os.makedirs(DOWNLOAD_DIRECTORY, exist_ok=True)\n",
    "\n",
    "# Download all the contents of the Google Drive folder\n",
    "gdown.download_folder(url=FOLDER_URL, output=DOWNLOAD_DIRECTORY, quiet=False, use_cookies=False)\n",
    "\n",
    "# Delete all of the non-CSV files\n",
    "for filename in os.listdir(DOWNLOAD_DIRECTORY):\n",
    "    if not filename.lower().endswith(\".csv\"):\n",
    "        file_path = os.path.join(DOWNLOAD_DIRECTORY , filename)\n",
    "        os.remove(file_path)\n",
    "        display(Markdown(f\"Removed non-CSV file: {filename}\"))\n",
    "        "
   ]
  },
  {
   "cell_type": "code",
   "execution_count": 3,
   "id": "8df272cd",
   "metadata": {},
   "outputs": [
    {
     "data": {
      "text/markdown": [
       "Loaded: `categories.csv` -> key=`'categories'`"
      ],
      "text/plain": [
       "<IPython.core.display.Markdown object>"
      ]
     },
     "metadata": {},
     "output_type": "display_data"
    },
    {
     "data": {
      "text/markdown": [
       "Loaded: `cities.csv` -> key=`'cities'`"
      ],
      "text/plain": [
       "<IPython.core.display.Markdown object>"
      ]
     },
     "metadata": {},
     "output_type": "display_data"
    },
    {
     "data": {
      "text/markdown": [
       "Loaded: `countries.csv` -> key=`'countries'`"
      ],
      "text/plain": [
       "<IPython.core.display.Markdown object>"
      ]
     },
     "metadata": {},
     "output_type": "display_data"
    },
    {
     "data": {
      "text/markdown": [
       "Loaded: `customers.csv` -> key=`'customers'`"
      ],
      "text/plain": [
       "<IPython.core.display.Markdown object>"
      ]
     },
     "metadata": {},
     "output_type": "display_data"
    },
    {
     "data": {
      "text/markdown": [
       "Loaded: `employees.csv` -> key=`'employees'`"
      ],
      "text/plain": [
       "<IPython.core.display.Markdown object>"
      ]
     },
     "metadata": {},
     "output_type": "display_data"
    },
    {
     "data": {
      "text/markdown": [
       "Loaded: `products.csv` -> key=`'products'`"
      ],
      "text/plain": [
       "<IPython.core.display.Markdown object>"
      ]
     },
     "metadata": {},
     "output_type": "display_data"
    },
    {
     "data": {
      "text/markdown": [
       "Loaded: `sales.csv` -> key=`'sales'`"
      ],
      "text/plain": [
       "<IPython.core.display.Markdown object>"
      ]
     },
     "metadata": {},
     "output_type": "display_data"
    }
   ],
   "source": [
    "# This snippet will load all the CSVs into dataframes\n",
    "\n",
    "dataset = {} # The dataframes will be stored in a dictionary to make it easier to loop through all of them\n",
    "\n",
    "for filename in os.listdir(DOWNLOAD_DIRECTORY):\n",
    "    if filename.endswith('.csv'):\n",
    "        key = os.path.splitext(filename)[0] # Extracting the key for each file where the key is the filename without the .csv\n",
    "        file_path = os.path.join(DOWNLOAD_DIRECTORY, filename) # Determining the path of each file in the DOWNLOAD_DIRECTORY\n",
    "        df = pd.read_csv(file_path) # Reading each CSV into a dataframe\n",
    "        dataset[key] = df\n",
    "        display(Markdown(f\"Loaded: `{filename}` -> key=`'{key}'`\"))"
   ]
  },
  {
   "cell_type": "markdown",
   "id": "214a5808",
   "metadata": {},
   "source": [
    "####  Viewing the First Few Rows of each Table in the Dataset"
   ]
  },
  {
   "cell_type": "code",
   "execution_count": null,
   "id": "064498af",
   "metadata": {},
   "outputs": [
    {
     "data": {
      "text/markdown": [
       "The first 5 rows of each table in the dataset:"
      ],
      "text/plain": [
       "<IPython.core.display.Markdown object>"
      ]
     },
     "metadata": {},
     "output_type": "display_data"
    },
    {
     "data": {
      "text/markdown": [
       "##### categories"
      ],
      "text/plain": [
       "<IPython.core.display.Markdown object>"
      ]
     },
     "metadata": {},
     "output_type": "display_data"
    },
    {
     "data": {
      "text/markdown": [
       "|   CategoryID | CategoryName   |\n",
       "|-------------:|:---------------|\n",
       "|            1 | Confections    |\n",
       "|            2 | Shell fish     |\n",
       "|            3 | Cereals        |\n",
       "|            4 | Dairy          |\n",
       "|            5 | Beverages      |"
      ],
      "text/plain": [
       "<IPython.core.display.Markdown object>"
      ]
     },
     "metadata": {},
     "output_type": "display_data"
    },
    {
     "data": {
      "text/markdown": [
       "##### cities"
      ],
      "text/plain": [
       "<IPython.core.display.Markdown object>"
      ]
     },
     "metadata": {},
     "output_type": "display_data"
    },
    {
     "data": {
      "text/markdown": [
       "|   CityID | CityName       |   Zipcode |   CountryID |\n",
       "|---------:|:---------------|----------:|------------:|\n",
       "|        1 | Dayton         |     80563 |          32 |\n",
       "|        2 | Buffalo        |     17420 |          32 |\n",
       "|        3 | Chicago        |     44751 |          32 |\n",
       "|        4 | Fremont        |     20641 |          32 |\n",
       "|        5 | Virginia Beach |     62389 |          32 |"
      ],
      "text/plain": [
       "<IPython.core.display.Markdown object>"
      ]
     },
     "metadata": {},
     "output_type": "display_data"
    },
    {
     "data": {
      "text/markdown": [
       "##### countries"
      ],
      "text/plain": [
       "<IPython.core.display.Markdown object>"
      ]
     },
     "metadata": {},
     "output_type": "display_data"
    },
    {
     "data": {
      "text/markdown": [
       "|   CountryID | CountryName   | CountryCode   |\n",
       "|------------:|:--------------|:--------------|\n",
       "|           1 | Armenia       | AN            |\n",
       "|           2 | Canada        | FO            |\n",
       "|           3 | Belize        | MK            |\n",
       "|           4 | Uganda        | LV            |\n",
       "|           5 | Thailand      | VI            |"
      ],
      "text/plain": [
       "<IPython.core.display.Markdown object>"
      ]
     },
     "metadata": {},
     "output_type": "display_data"
    },
    {
     "data": {
      "text/markdown": [
       "##### customers"
      ],
      "text/plain": [
       "<IPython.core.display.Markdown object>"
      ]
     },
     "metadata": {},
     "output_type": "display_data"
    },
    {
     "data": {
      "text/markdown": [
       "|   CustomerID | FirstName   | MiddleInitial   | LastName   |   CityID | Address                      |\n",
       "|-------------:|:------------|:----------------|:-----------|---------:|:-----------------------------|\n",
       "|            1 | Stefanie    | Y               | Frye       |       79 | 97 Oak Avenue                |\n",
       "|            2 | Sandy       | T               | Kirby      |       96 | 52 White First Freeway       |\n",
       "|            3 | Lee         | T               | Zhang      |       55 | 921 White Fabien Avenue      |\n",
       "|            4 | Regina      | S               | Avery      |       40 | 75 Old Avenue                |\n",
       "|            5 | Daniel      | S               | Mccann     |        2 | 283 South Green Hague Avenue |"
      ],
      "text/plain": [
       "<IPython.core.display.Markdown object>"
      ]
     },
     "metadata": {},
     "output_type": "display_data"
    },
    {
     "data": {
      "text/markdown": [
       "##### employees"
      ],
      "text/plain": [
       "<IPython.core.display.Markdown object>"
      ]
     },
     "metadata": {},
     "output_type": "display_data"
    },
    {
     "data": {
      "text/markdown": [
       "|   EmployeeID | FirstName   | MiddleInitial   | LastName   | BirthDate               | Gender   |   CityID | HireDate                |\n",
       "|-------------:|:------------|:----------------|:-----------|:------------------------|:---------|---------:|:------------------------|\n",
       "|            1 | Nicole      | T               | Fuller     | 1981-03-07 00:00:00.000 | F        |       80 | 2011-06-20 07:15:36.920 |\n",
       "|            2 | Christine   | W               | Palmer     | 1968-01-25 00:00:00.000 | F        |        4 | 2011-04-27 04:07:56.930 |\n",
       "|            3 | Pablo       | Y               | Cline      | 1963-02-09 00:00:00.000 | M        |       70 | 2012-03-30 18:55:23.270 |\n",
       "|            4 | Darnell     | O               | Nielsen    | 1989-02-06 00:00:00.000 | M        |       39 | 2014-03-06 06:55:02.780 |\n",
       "|            5 | Desiree     | L               | Stuart     | 1963-05-03 00:00:00.000 | F        |       23 | 2014-11-16 22:59:54.720 |"
      ],
      "text/plain": [
       "<IPython.core.display.Markdown object>"
      ]
     },
     "metadata": {},
     "output_type": "display_data"
    },
    {
     "data": {
      "text/markdown": [
       "##### products"
      ],
      "text/plain": [
       "<IPython.core.display.Markdown object>"
      ]
     },
     "metadata": {},
     "output_type": "display_data"
    },
    {
     "data": {
      "text/markdown": [
       "|   ProductID | ProductName                |   Price |   CategoryID | Class   | ModifyDate              | Resistant   | IsAllergic   |   VitalityDays |\n",
       "|------------:|:---------------------------|--------:|-------------:|:--------|:------------------------|:------------|:-------------|---------------:|\n",
       "|           1 | Flour - Whole Wheat        | 74.2988 |            3 | Medium  | 2018-02-16 08:21:49.190 | Durable     | Unknown      |              0 |\n",
       "|           2 | Cookie Chocolate Chip With | 91.2329 |            3 | Medium  | 2017-02-12 11:39:10.970 | Unknown     | Unknown      |              0 |\n",
       "|           3 | Onions - Cippolini         |  9.1379 |            9 | Medium  | 2018-03-15 08:11:51.560 | Weak        | False        |            111 |\n",
       "|           4 | Sauce - Gravy, Au Jus, Mix | 54.3055 |            9 | Medium  | 2017-07-16 00:46:28.880 | Durable     | Unknown      |              0 |\n",
       "|           5 | Artichokes - Jerusalem     | 65.4771 |            2 | Low     | 2017-08-16 14:13:35.430 | Durable     | True         |             27 |"
      ],
      "text/plain": [
       "<IPython.core.display.Markdown object>"
      ]
     },
     "metadata": {},
     "output_type": "display_data"
    },
    {
     "data": {
      "text/markdown": [
       "##### sales"
      ],
      "text/plain": [
       "<IPython.core.display.Markdown object>"
      ]
     },
     "metadata": {},
     "output_type": "display_data"
    },
    {
     "data": {
      "text/markdown": [
       "|   SalesID |   SalesPersonID |   CustomerID |   ProductID |   Quantity |   Discount |   TotalPrice | SalesDate               | TransactionNumber    |\n",
       "|----------:|----------------:|-------------:|------------:|-----------:|-----------:|-------------:|:------------------------|:---------------------|\n",
       "|         1 |               6 |        27039 |         381 |          7 |        0   |            0 | 2018-02-05 07:38:25.430 | FQL4S94E4ME1EZFTG42G |\n",
       "|         2 |              16 |        25011 |          61 |          7 |        0   |            0 | 2018-02-02 16:03:31.150 | 12UGLX40DJ1A5DTFBHB8 |\n",
       "|         3 |              13 |        94024 |          23 |         24 |        0   |            0 | 2018-05-03 19:31:56.880 | 5DT8RCPL87KI5EORO7B0 |\n",
       "|         4 |               8 |        73966 |         176 |         19 |        0.2 |            0 | 2018-04-07 14:43:55.420 | R3DR9MLD5NR76VO17ULE |\n",
       "|         5 |              10 |        32653 |         310 |          9 |        0   |            0 | 2018-02-12 15:37:03.940 | 4BGS0Z5OMAZ8NDAFHHP3 |"
      ],
      "text/plain": [
       "<IPython.core.display.Markdown object>"
      ]
     },
     "metadata": {},
     "output_type": "display_data"
    }
   ],
   "source": [
    "display(Markdown(\"The first 5 rows of each table in the dataset:\"))\n",
    "for key, df in dataset.items():\n",
    "    display(Markdown(f\"##### {key}\"))\n",
    "    display(Markdown(df.head().to_markdown(index=False)))"
   ]
  },
  {
   "cell_type": "markdown",
   "id": "71603420",
   "metadata": {},
   "source": [
    "### Checking the Shape of the Dataset"
   ]
  },
  {
   "cell_type": "code",
   "execution_count": null,
   "id": "16ca9888",
   "metadata": {},
   "outputs": [
    {
     "data": {
      "text/markdown": [
       "The following table shows how many rows and columns are in each table of the dataset:"
      ],
      "text/plain": [
       "<IPython.core.display.Markdown object>"
      ]
     },
     "metadata": {},
     "output_type": "display_data"
    },
    {
     "data": {
      "text/markdown": [
       "|Table|# Rows|# Columns| \n",
       " |-----|-------|---------| \n",
       "|categories|11|2|\n",
       "|cities|96|4|\n",
       "|countries|206|3|\n",
       "|customers|98759|6|\n",
       "|employees|23|8|\n",
       "|products|452|9|\n",
       "|sales|6758125|9|\n"
      ],
      "text/plain": [
       "<IPython.core.display.Markdown object>"
      ]
     },
     "metadata": {},
     "output_type": "display_data"
    }
   ],
   "source": [
    "display(Markdown(\"The following table shows how many rows and columns are in each table of the dataset:\"))\n",
    "markdown_text = \"|Table|# Rows|# Columns| \\n |-----|-------|---------| \\n\"\n",
    "for key, df in dataset.items():\n",
    "    markdown_text += f\"|{key}|{df.shape[0]}|{df.shape[1]}|\\n\" # The shape method shows the size of the dataframe\n",
    "display(Markdown(markdown_text))"
   ]
  },
  {
   "cell_type": "markdown",
   "id": "2200ecb4",
   "metadata": {},
   "source": [
    "### Displaying Dataset Information"
   ]
  },
  {
   "cell_type": "code",
   "execution_count": 11,
   "id": "21eb4b58",
   "metadata": {},
   "outputs": [
    {
     "data": {
      "text/markdown": [
       "Table information for categories:"
      ],
      "text/plain": [
       "<IPython.core.display.Markdown object>"
      ]
     },
     "metadata": {},
     "output_type": "display_data"
    },
    {
     "name": "stdout",
     "output_type": "stream",
     "text": [
      "<class 'pandas.core.frame.DataFrame'>\n",
      "RangeIndex: 11 entries, 0 to 10\n",
      "Data columns (total 2 columns):\n",
      " #   Column        Non-Null Count  Dtype \n",
      "---  ------        --------------  ----- \n",
      " 0   CategoryID    11 non-null     int64 \n",
      " 1   CategoryName  11 non-null     object\n",
      "dtypes: int64(1), object(1)\n",
      "memory usage: 308.0+ bytes\n"
     ]
    },
    {
     "data": {
      "text/markdown": [
       "Table information for cities:"
      ],
      "text/plain": [
       "<IPython.core.display.Markdown object>"
      ]
     },
     "metadata": {},
     "output_type": "display_data"
    },
    {
     "name": "stdout",
     "output_type": "stream",
     "text": [
      "<class 'pandas.core.frame.DataFrame'>\n",
      "RangeIndex: 96 entries, 0 to 95\n",
      "Data columns (total 4 columns):\n",
      " #   Column     Non-Null Count  Dtype \n",
      "---  ------     --------------  ----- \n",
      " 0   CityID     96 non-null     int64 \n",
      " 1   CityName   96 non-null     object\n",
      " 2   Zipcode    96 non-null     int64 \n",
      " 3   CountryID  96 non-null     int64 \n",
      "dtypes: int64(3), object(1)\n",
      "memory usage: 3.1+ KB\n"
     ]
    },
    {
     "data": {
      "text/markdown": [
       "Table information for countries:"
      ],
      "text/plain": [
       "<IPython.core.display.Markdown object>"
      ]
     },
     "metadata": {},
     "output_type": "display_data"
    },
    {
     "name": "stdout",
     "output_type": "stream",
     "text": [
      "<class 'pandas.core.frame.DataFrame'>\n",
      "RangeIndex: 206 entries, 0 to 205\n",
      "Data columns (total 3 columns):\n",
      " #   Column       Non-Null Count  Dtype \n",
      "---  ------       --------------  ----- \n",
      " 0   CountryID    206 non-null    int64 \n",
      " 1   CountryName  206 non-null    object\n",
      " 2   CountryCode  205 non-null    object\n",
      "dtypes: int64(1), object(2)\n",
      "memory usage: 5.0+ KB\n"
     ]
    },
    {
     "data": {
      "text/markdown": [
       "Table information for customers:"
      ],
      "text/plain": [
       "<IPython.core.display.Markdown object>"
      ]
     },
     "metadata": {},
     "output_type": "display_data"
    },
    {
     "name": "stdout",
     "output_type": "stream",
     "text": [
      "<class 'pandas.core.frame.DataFrame'>\n",
      "RangeIndex: 98759 entries, 0 to 98758\n",
      "Data columns (total 6 columns):\n",
      " #   Column         Non-Null Count  Dtype \n",
      "---  ------         --------------  ----- \n",
      " 0   CustomerID     98759 non-null  int64 \n",
      " 1   FirstName      98759 non-null  object\n",
      " 2   MiddleInitial  97782 non-null  object\n",
      " 3   LastName       98759 non-null  object\n",
      " 4   CityID         98759 non-null  int64 \n",
      " 5   Address        98759 non-null  object\n",
      "dtypes: int64(2), object(4)\n",
      "memory usage: 4.5+ MB\n"
     ]
    },
    {
     "data": {
      "text/markdown": [
       "Table information for employees:"
      ],
      "text/plain": [
       "<IPython.core.display.Markdown object>"
      ]
     },
     "metadata": {},
     "output_type": "display_data"
    },
    {
     "name": "stdout",
     "output_type": "stream",
     "text": [
      "<class 'pandas.core.frame.DataFrame'>\n",
      "RangeIndex: 23 entries, 0 to 22\n",
      "Data columns (total 8 columns):\n",
      " #   Column         Non-Null Count  Dtype \n",
      "---  ------         --------------  ----- \n",
      " 0   EmployeeID     23 non-null     int64 \n",
      " 1   FirstName      23 non-null     object\n",
      " 2   MiddleInitial  23 non-null     object\n",
      " 3   LastName       23 non-null     object\n",
      " 4   BirthDate      23 non-null     object\n",
      " 5   Gender         23 non-null     object\n",
      " 6   CityID         23 non-null     int64 \n",
      " 7   HireDate       23 non-null     object\n",
      "dtypes: int64(2), object(6)\n",
      "memory usage: 1.6+ KB\n"
     ]
    },
    {
     "data": {
      "text/markdown": [
       "Table information for products:"
      ],
      "text/plain": [
       "<IPython.core.display.Markdown object>"
      ]
     },
     "metadata": {},
     "output_type": "display_data"
    },
    {
     "name": "stdout",
     "output_type": "stream",
     "text": [
      "<class 'pandas.core.frame.DataFrame'>\n",
      "RangeIndex: 452 entries, 0 to 451\n",
      "Data columns (total 9 columns):\n",
      " #   Column        Non-Null Count  Dtype  \n",
      "---  ------        --------------  -----  \n",
      " 0   ProductID     452 non-null    int64  \n",
      " 1   ProductName   452 non-null    object \n",
      " 2   Price         452 non-null    float64\n",
      " 3   CategoryID    452 non-null    int64  \n",
      " 4   Class         452 non-null    object \n",
      " 5   ModifyDate    452 non-null    object \n",
      " 6   Resistant     452 non-null    object \n",
      " 7   IsAllergic    452 non-null    object \n",
      " 8   VitalityDays  452 non-null    float64\n",
      "dtypes: float64(2), int64(2), object(5)\n",
      "memory usage: 31.9+ KB\n"
     ]
    },
    {
     "data": {
      "text/markdown": [
       "Table information for sales:"
      ],
      "text/plain": [
       "<IPython.core.display.Markdown object>"
      ]
     },
     "metadata": {},
     "output_type": "display_data"
    },
    {
     "name": "stdout",
     "output_type": "stream",
     "text": [
      "<class 'pandas.core.frame.DataFrame'>\n",
      "RangeIndex: 6758125 entries, 0 to 6758124\n",
      "Data columns (total 9 columns):\n",
      " #   Column             Dtype  \n",
      "---  ------             -----  \n",
      " 0   SalesID            int64  \n",
      " 1   SalesPersonID      int64  \n",
      " 2   CustomerID         int64  \n",
      " 3   ProductID          int64  \n",
      " 4   Quantity           int64  \n",
      " 5   Discount           float64\n",
      " 6   TotalPrice         float64\n",
      " 7   SalesDate          object \n",
      " 8   TransactionNumber  object \n",
      "dtypes: float64(2), int64(5), object(2)\n",
      "memory usage: 464.0+ MB\n"
     ]
    }
   ],
   "source": [
    "for key, df in dataset.items():\n",
    "    display(Markdown(f'Table information for {key}:'))\n",
    "    df.info()"
   ]
  },
  {
   "cell_type": "markdown",
   "id": "19c00092",
   "metadata": {},
   "source": [
    "### Checking for Duplicate Values in the Dataset"
   ]
  },
  {
   "cell_type": "code",
   "execution_count": null,
   "id": "e3e649c6",
   "metadata": {},
   "outputs": [
    {
     "data": {
      "text/markdown": [
       "The below table shows the number of duplicate rows for each table in the dataset:"
      ],
      "text/plain": [
       "<IPython.core.display.Markdown object>"
      ]
     },
     "metadata": {},
     "output_type": "display_data"
    },
    {
     "data": {
      "text/markdown": [
       "|Table|Duplicate Rows| \n",
       " |----|------| \n",
       "|categories|0| \n",
       "|cities|0| \n",
       "|countries|0| \n",
       "|customers|0| \n",
       "|employees|0| \n",
       "|products|0| \n",
       "|sales|0| \n"
      ],
      "text/plain": [
       "<IPython.core.display.Markdown object>"
      ]
     },
     "metadata": {},
     "output_type": "display_data"
    }
   ],
   "source": [
    "display(Markdown(\"The below table shows the number of duplicate rows for each table in the dataset:\"))\n",
    "markdown_text = '|Table|Duplicate Rows| \\n |----|------| \\n'\n",
    "for key, df in dataset.items():\n",
    "    markdown_text += f'|{key}|{len(df[df.duplicated()])}| \\n' # The duplicated() method shows which rows are duplicate\n",
    "display(Markdown(markdown_text))"
   ]
  },
  {
   "cell_type": "markdown",
   "id": "1767f205",
   "metadata": {},
   "source": [
    "### Checking for Missing / Null Values"
   ]
  },
  {
   "cell_type": "code",
   "execution_count": null,
   "id": "9fd46747",
   "metadata": {},
   "outputs": [
    {
     "data": {
      "text/markdown": [
       "The below tables will show how many missing values in each of column of each table:"
      ],
      "text/plain": [
       "<IPython.core.display.Markdown object>"
      ]
     },
     "metadata": {},
     "output_type": "display_data"
    },
    {
     "data": {
      "text/markdown": [
       "##### categories"
      ],
      "text/plain": [
       "<IPython.core.display.Markdown object>"
      ]
     },
     "metadata": {},
     "output_type": "display_data"
    },
    {
     "data": {
      "text/markdown": [
       "| Column Name   |   # of Missing Values |\n",
       "|:--------------|----------------------:|\n",
       "| CategoryID    |                     0 |\n",
       "| CategoryName  |                     0 |"
      ],
      "text/plain": [
       "<IPython.core.display.Markdown object>"
      ]
     },
     "metadata": {},
     "output_type": "display_data"
    },
    {
     "data": {
      "text/markdown": [
       "##### cities"
      ],
      "text/plain": [
       "<IPython.core.display.Markdown object>"
      ]
     },
     "metadata": {},
     "output_type": "display_data"
    },
    {
     "data": {
      "text/markdown": [
       "| Column Name   |   # of Missing Values |\n",
       "|:--------------|----------------------:|\n",
       "| CityID        |                     0 |\n",
       "| CityName      |                     0 |\n",
       "| Zipcode       |                     0 |\n",
       "| CountryID     |                     0 |"
      ],
      "text/plain": [
       "<IPython.core.display.Markdown object>"
      ]
     },
     "metadata": {},
     "output_type": "display_data"
    },
    {
     "data": {
      "text/markdown": [
       "##### countries"
      ],
      "text/plain": [
       "<IPython.core.display.Markdown object>"
      ]
     },
     "metadata": {},
     "output_type": "display_data"
    },
    {
     "data": {
      "text/markdown": [
       "| Column Name   |   # of Missing Values |\n",
       "|:--------------|----------------------:|\n",
       "| CountryID     |                     0 |\n",
       "| CountryName   |                     0 |\n",
       "| CountryCode   |                     1 |"
      ],
      "text/plain": [
       "<IPython.core.display.Markdown object>"
      ]
     },
     "metadata": {},
     "output_type": "display_data"
    },
    {
     "data": {
      "text/markdown": [
       "##### customers"
      ],
      "text/plain": [
       "<IPython.core.display.Markdown object>"
      ]
     },
     "metadata": {},
     "output_type": "display_data"
    },
    {
     "data": {
      "text/markdown": [
       "| Column Name   |   # of Missing Values |\n",
       "|:--------------|----------------------:|\n",
       "| CustomerID    |                     0 |\n",
       "| FirstName     |                     0 |\n",
       "| MiddleInitial |                   977 |\n",
       "| LastName      |                     0 |\n",
       "| CityID        |                     0 |\n",
       "| Address       |                     0 |"
      ],
      "text/plain": [
       "<IPython.core.display.Markdown object>"
      ]
     },
     "metadata": {},
     "output_type": "display_data"
    },
    {
     "data": {
      "text/markdown": [
       "##### employees"
      ],
      "text/plain": [
       "<IPython.core.display.Markdown object>"
      ]
     },
     "metadata": {},
     "output_type": "display_data"
    },
    {
     "data": {
      "text/markdown": [
       "| Column Name   |   # of Missing Values |\n",
       "|:--------------|----------------------:|\n",
       "| EmployeeID    |                     0 |\n",
       "| FirstName     |                     0 |\n",
       "| MiddleInitial |                     0 |\n",
       "| LastName      |                     0 |\n",
       "| BirthDate     |                     0 |\n",
       "| Gender        |                     0 |\n",
       "| CityID        |                     0 |\n",
       "| HireDate      |                     0 |"
      ],
      "text/plain": [
       "<IPython.core.display.Markdown object>"
      ]
     },
     "metadata": {},
     "output_type": "display_data"
    },
    {
     "data": {
      "text/markdown": [
       "##### products"
      ],
      "text/plain": [
       "<IPython.core.display.Markdown object>"
      ]
     },
     "metadata": {},
     "output_type": "display_data"
    },
    {
     "data": {
      "text/markdown": [
       "| Column Name   |   # of Missing Values |\n",
       "|:--------------|----------------------:|\n",
       "| ProductID     |                     0 |\n",
       "| ProductName   |                     0 |\n",
       "| Price         |                     0 |\n",
       "| CategoryID    |                     0 |\n",
       "| Class         |                     0 |\n",
       "| ModifyDate    |                     0 |\n",
       "| Resistant     |                     0 |\n",
       "| IsAllergic    |                     0 |\n",
       "| VitalityDays  |                     0 |"
      ],
      "text/plain": [
       "<IPython.core.display.Markdown object>"
      ]
     },
     "metadata": {},
     "output_type": "display_data"
    },
    {
     "data": {
      "text/markdown": [
       "##### sales"
      ],
      "text/plain": [
       "<IPython.core.display.Markdown object>"
      ]
     },
     "metadata": {},
     "output_type": "display_data"
    },
    {
     "data": {
      "text/markdown": [
       "| Column Name       |   # of Missing Values |\n",
       "|:------------------|----------------------:|\n",
       "| SalesID           |                     0 |\n",
       "| SalesPersonID     |                     0 |\n",
       "| CustomerID        |                     0 |\n",
       "| ProductID         |                     0 |\n",
       "| Quantity          |                     0 |\n",
       "| Discount          |                     0 |\n",
       "| TotalPrice        |                     0 |\n",
       "| SalesDate         |                 67526 |\n",
       "| TransactionNumber |                     0 |"
      ],
      "text/plain": [
       "<IPython.core.display.Markdown object>"
      ]
     },
     "metadata": {},
     "output_type": "display_data"
    }
   ],
   "source": [
    "display(Markdown(\"The below tables will show how many missing values in each of column of each table:\"))\n",
    "for key, df in dataset.items():\n",
    "    display(Markdown(f\"##### {key}\"))\n",
    "    missing_values = df.isnull().sum()\n",
    "    markdown_table = missing_values.to_frame().reset_index()  # This is done so the output can be shown in markdown format\n",
    "    markdown_table.columns = ['Column Name', '# of Missing Values']\n",
    "    display(Markdown(markdown_table.to_markdown(index=False)))"
   ]
  },
  {
   "cell_type": "markdown",
   "id": "98e87e59",
   "metadata": {},
   "source": [
    "### Summary of Dataset Observations"
   ]
  },
  {
   "cell_type": "markdown",
   "id": "9603bcf8",
   "metadata": {},
   "source": []
  }
 ],
 "metadata": {
  "kernelspec": {
   "display_name": "Python 3",
   "language": "python",
   "name": "python3"
  },
  "language_info": {
   "codemirror_mode": {
    "name": "ipython",
    "version": 3
   },
   "file_extension": ".py",
   "mimetype": "text/x-python",
   "name": "python",
   "nbconvert_exporter": "python",
   "pygments_lexer": "ipython3",
   "version": "3.13.2"
  }
 },
 "nbformat": 4,
 "nbformat_minor": 5
}
